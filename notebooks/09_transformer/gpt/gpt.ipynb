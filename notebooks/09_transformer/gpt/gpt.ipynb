{
  "cells": [
    {
      "cell_type": "markdown",
      "id": "b076bd1a-b236-4fbc-953d-8295b25122ae",
      "metadata": {
        "id": "b076bd1a-b236-4fbc-953d-8295b25122ae"
      },
      "source": [
        "# 🚀 GPT"
      ]
    },
    {
      "cell_type": "markdown",
      "id": "9d5855b9",
      "metadata": {
        "id": "9d5855b9"
      },
      "source": [
        "<table align=\"left\">\n",
        "  <td>\n",
        "    <a href=\"https://colab.research.google.com/github/rickiepark/Generative_Deep_Learning_2nd_Edition/blob/main/notebooks/09_transformer/gpt/gpt.ipynb\" target=\"_parent\"><img src=\"https://colab.research.google.com/assets/colab-badge.svg\" alt=\"Open In Colab\"/></a>\n",
        "  </td>\n",
        "</table>"
      ]
    },
    {
      "cell_type": "markdown",
      "id": "4dca6836-0007-43f3-af65-d12ae1922c02",
      "metadata": {
        "tags": [],
        "id": "4dca6836-0007-43f3-af65-d12ae1922c02"
      },
      "source": [
        "이 노트북에서는 와인 리뷰 데이터셋으로 GPT 모델을 훈련합니다."
      ]
    },
    {
      "cell_type": "markdown",
      "id": "3e6cb7c7-d3d5-4b12-b357-1f6118edffe0",
      "metadata": {
        "id": "3e6cb7c7-d3d5-4b12-b357-1f6118edffe0"
      },
      "source": [
        "이 코드는 케라스 웹사이트에 있는 Apoorv Nandan이 만든 훌륭한 [GPT 튜토리얼](https://keras.io/examples/generative/text_generation_with_miniature_gpt/)을 참고했습니다."
      ]
    },
    {
      "cell_type": "code",
      "execution_count": 1,
      "id": "73350761-bef2-4e96-b3ac-a158eabd2b65",
      "metadata": {
        "tags": [],
        "id": "73350761-bef2-4e96-b3ac-a158eabd2b65"
      },
      "outputs": [],
      "source": [
        "import numpy as np\n",
        "import json\n",
        "import re\n",
        "import string\n",
        "from IPython.display import display, HTML\n",
        "\n",
        "import tensorflow as tf\n",
        "from tensorflow.keras import layers, models, losses, callbacks"
      ]
    },
    {
      "cell_type": "markdown",
      "id": "339e6268-ebd7-4feb-86db-1fe7abccdbe5",
      "metadata": {
        "id": "339e6268-ebd7-4feb-86db-1fe7abccdbe5"
      },
      "source": [
        "## 0. 파라미터 <a name=\"parameters\"></a>"
      ]
    },
    {
      "cell_type": "code",
      "execution_count": 2,
      "id": "2d8352af-343e-4c2e-8c91-95f8bac1c8a1",
      "metadata": {
        "id": "2d8352af-343e-4c2e-8c91-95f8bac1c8a1"
      },
      "outputs": [],
      "source": [
        "VOCAB_SIZE = 10000\n",
        "MAX_LEN = 80\n",
        "EMBEDDING_DIM = 256\n",
        "KEY_DIM = 256\n",
        "N_HEADS = 2\n",
        "FEED_FORWARD_DIM = 256\n",
        "VALIDATION_SPLIT = 0.2\n",
        "SEED = 42\n",
        "LOAD_MODEL = False\n",
        "BATCH_SIZE = 32\n",
        "EPOCHS = 5"
      ]
    },
    {
      "cell_type": "markdown",
      "id": "b7716fac-0010-49b0-b98e-53be2259edde",
      "metadata": {
        "id": "b7716fac-0010-49b0-b98e-53be2259edde"
      },
      "source": [
        "## 1. 데이터 로드 <a name=\"load\"></a>"
      ]
    },
    {
      "cell_type": "code",
      "execution_count": 3,
      "id": "cc66748b",
      "metadata": {
        "id": "cc66748b",
        "outputId": "55d1db70-f0b5-426a-af52-88dcf7f7f46d",
        "colab": {
          "base_uri": "https://localhost:8080/",
          "height": 129
        }
      },
      "outputs": [
        {
          "output_type": "display_data",
          "data": {
            "text/plain": [
              "<IPython.core.display.HTML object>"
            ],
            "text/html": [
              "\n",
              "     <input type=\"file\" id=\"files-807ea6b7-e548-469b-ba3a-29bb2505c1d7\" name=\"files[]\" multiple disabled\n",
              "        style=\"border:none\" />\n",
              "     <output id=\"result-807ea6b7-e548-469b-ba3a-29bb2505c1d7\">\n",
              "      Upload widget is only available when the cell has been executed in the\n",
              "      current browser session. Please rerun this cell to enable.\n",
              "      </output>\n",
              "      <script>// Copyright 2017 Google LLC\n",
              "//\n",
              "// Licensed under the Apache License, Version 2.0 (the \"License\");\n",
              "// you may not use this file except in compliance with the License.\n",
              "// You may obtain a copy of the License at\n",
              "//\n",
              "//      http://www.apache.org/licenses/LICENSE-2.0\n",
              "//\n",
              "// Unless required by applicable law or agreed to in writing, software\n",
              "// distributed under the License is distributed on an \"AS IS\" BASIS,\n",
              "// WITHOUT WARRANTIES OR CONDITIONS OF ANY KIND, either express or implied.\n",
              "// See the License for the specific language governing permissions and\n",
              "// limitations under the License.\n",
              "\n",
              "/**\n",
              " * @fileoverview Helpers for google.colab Python module.\n",
              " */\n",
              "(function(scope) {\n",
              "function span(text, styleAttributes = {}) {\n",
              "  const element = document.createElement('span');\n",
              "  element.textContent = text;\n",
              "  for (const key of Object.keys(styleAttributes)) {\n",
              "    element.style[key] = styleAttributes[key];\n",
              "  }\n",
              "  return element;\n",
              "}\n",
              "\n",
              "// Max number of bytes which will be uploaded at a time.\n",
              "const MAX_PAYLOAD_SIZE = 100 * 1024;\n",
              "\n",
              "function _uploadFiles(inputId, outputId) {\n",
              "  const steps = uploadFilesStep(inputId, outputId);\n",
              "  const outputElement = document.getElementById(outputId);\n",
              "  // Cache steps on the outputElement to make it available for the next call\n",
              "  // to uploadFilesContinue from Python.\n",
              "  outputElement.steps = steps;\n",
              "\n",
              "  return _uploadFilesContinue(outputId);\n",
              "}\n",
              "\n",
              "// This is roughly an async generator (not supported in the browser yet),\n",
              "// where there are multiple asynchronous steps and the Python side is going\n",
              "// to poll for completion of each step.\n",
              "// This uses a Promise to block the python side on completion of each step,\n",
              "// then passes the result of the previous step as the input to the next step.\n",
              "function _uploadFilesContinue(outputId) {\n",
              "  const outputElement = document.getElementById(outputId);\n",
              "  const steps = outputElement.steps;\n",
              "\n",
              "  const next = steps.next(outputElement.lastPromiseValue);\n",
              "  return Promise.resolve(next.value.promise).then((value) => {\n",
              "    // Cache the last promise value to make it available to the next\n",
              "    // step of the generator.\n",
              "    outputElement.lastPromiseValue = value;\n",
              "    return next.value.response;\n",
              "  });\n",
              "}\n",
              "\n",
              "/**\n",
              " * Generator function which is called between each async step of the upload\n",
              " * process.\n",
              " * @param {string} inputId Element ID of the input file picker element.\n",
              " * @param {string} outputId Element ID of the output display.\n",
              " * @return {!Iterable<!Object>} Iterable of next steps.\n",
              " */\n",
              "function* uploadFilesStep(inputId, outputId) {\n",
              "  const inputElement = document.getElementById(inputId);\n",
              "  inputElement.disabled = false;\n",
              "\n",
              "  const outputElement = document.getElementById(outputId);\n",
              "  outputElement.innerHTML = '';\n",
              "\n",
              "  const pickedPromise = new Promise((resolve) => {\n",
              "    inputElement.addEventListener('change', (e) => {\n",
              "      resolve(e.target.files);\n",
              "    });\n",
              "  });\n",
              "\n",
              "  const cancel = document.createElement('button');\n",
              "  inputElement.parentElement.appendChild(cancel);\n",
              "  cancel.textContent = 'Cancel upload';\n",
              "  const cancelPromise = new Promise((resolve) => {\n",
              "    cancel.onclick = () => {\n",
              "      resolve(null);\n",
              "    };\n",
              "  });\n",
              "\n",
              "  // Wait for the user to pick the files.\n",
              "  const files = yield {\n",
              "    promise: Promise.race([pickedPromise, cancelPromise]),\n",
              "    response: {\n",
              "      action: 'starting',\n",
              "    }\n",
              "  };\n",
              "\n",
              "  cancel.remove();\n",
              "\n",
              "  // Disable the input element since further picks are not allowed.\n",
              "  inputElement.disabled = true;\n",
              "\n",
              "  if (!files) {\n",
              "    return {\n",
              "      response: {\n",
              "        action: 'complete',\n",
              "      }\n",
              "    };\n",
              "  }\n",
              "\n",
              "  for (const file of files) {\n",
              "    const li = document.createElement('li');\n",
              "    li.append(span(file.name, {fontWeight: 'bold'}));\n",
              "    li.append(span(\n",
              "        `(${file.type || 'n/a'}) - ${file.size} bytes, ` +\n",
              "        `last modified: ${\n",
              "            file.lastModifiedDate ? file.lastModifiedDate.toLocaleDateString() :\n",
              "                                    'n/a'} - `));\n",
              "    const percent = span('0% done');\n",
              "    li.appendChild(percent);\n",
              "\n",
              "    outputElement.appendChild(li);\n",
              "\n",
              "    const fileDataPromise = new Promise((resolve) => {\n",
              "      const reader = new FileReader();\n",
              "      reader.onload = (e) => {\n",
              "        resolve(e.target.result);\n",
              "      };\n",
              "      reader.readAsArrayBuffer(file);\n",
              "    });\n",
              "    // Wait for the data to be ready.\n",
              "    let fileData = yield {\n",
              "      promise: fileDataPromise,\n",
              "      response: {\n",
              "        action: 'continue',\n",
              "      }\n",
              "    };\n",
              "\n",
              "    // Use a chunked sending to avoid message size limits. See b/62115660.\n",
              "    let position = 0;\n",
              "    do {\n",
              "      const length = Math.min(fileData.byteLength - position, MAX_PAYLOAD_SIZE);\n",
              "      const chunk = new Uint8Array(fileData, position, length);\n",
              "      position += length;\n",
              "\n",
              "      const base64 = btoa(String.fromCharCode.apply(null, chunk));\n",
              "      yield {\n",
              "        response: {\n",
              "          action: 'append',\n",
              "          file: file.name,\n",
              "          data: base64,\n",
              "        },\n",
              "      };\n",
              "\n",
              "      let percentDone = fileData.byteLength === 0 ?\n",
              "          100 :\n",
              "          Math.round((position / fileData.byteLength) * 100);\n",
              "      percent.textContent = `${percentDone}% done`;\n",
              "\n",
              "    } while (position < fileData.byteLength);\n",
              "  }\n",
              "\n",
              "  // All done.\n",
              "  yield {\n",
              "    response: {\n",
              "      action: 'complete',\n",
              "    }\n",
              "  };\n",
              "}\n",
              "\n",
              "scope.google = scope.google || {};\n",
              "scope.google.colab = scope.google.colab || {};\n",
              "scope.google.colab._files = {\n",
              "  _uploadFiles,\n",
              "  _uploadFilesContinue,\n",
              "};\n",
              "})(self);\n",
              "</script> "
            ]
          },
          "metadata": {}
        },
        {
          "output_type": "stream",
          "name": "stdout",
          "text": [
            "Saving kaggle.json to kaggle.json\n",
            "Downloading wine-reviews.zip to /content\n",
            " 65% 33.0M/50.9M [00:00<00:00, 120MB/s] \n",
            "100% 50.9M/50.9M [00:00<00:00, 127MB/s]\n"
          ]
        }
      ],
      "source": [
        "import sys\n",
        "\n",
        "# 코랩일 경우 노트북에서 celeba 데이터셋을 받습니다.\n",
        "if 'google.colab' in sys.modules:\n",
        "    # 캐글-->Setttings-->API-->Create New Token에서\n",
        "    # kaggle.json 파일을 만들어 코랩에 업로드하세요.\n",
        "    from google.colab import files\n",
        "    files.upload()\n",
        "    !mkdir ~/.kaggle\n",
        "    !cp kaggle.json ~/.kaggle/\n",
        "    !chmod 600 ~/.kaggle/kaggle.json\n",
        "    # celeba 데이터셋을 다운로드하고 압축을 해제합니다.\n",
        "    !kaggle datasets download -d zynicide/wine-reviews\n",
        "    !unzip -q wine-reviews.zip\n",
        "    # model 디렉토리를 만듭니다.\n",
        "    !mkdir models"
      ]
    },
    {
      "cell_type": "code",
      "execution_count": 4,
      "id": "93cf6b0f-9667-4146-8911-763a8a2925d3",
      "metadata": {
        "tags": [],
        "id": "93cf6b0f-9667-4146-8911-763a8a2925d3"
      },
      "outputs": [],
      "source": [
        "# 전체 데이터셋 로드\n",
        "with open(\"./winemag-data-130k-v2.json\") as json_data:\n",
        "    wine_data = json.load(json_data)"
      ]
    },
    {
      "cell_type": "code",
      "execution_count": 5,
      "id": "2db5c0fc-0d5f-42ab-ade1-57e594c416ec",
      "metadata": {
        "tags": [],
        "id": "2db5c0fc-0d5f-42ab-ade1-57e594c416ec",
        "outputId": "bd1d11a3-85e3-440e-80b6-23ff7d38228a",
        "colab": {
          "base_uri": "https://localhost:8080/"
        }
      },
      "outputs": [
        {
          "output_type": "execute_result",
          "data": {
            "text/plain": [
              "{'points': '87',\n",
              " 'title': 'Kirkland Signature 2011 Mountain Cuvée Cabernet Sauvignon (Napa Valley)',\n",
              " 'description': 'Soft, supple plum envelopes an oaky structure in this Cabernet, supported by 15% Merlot. Coffee and chocolate complete the picture, finishing strong at the end, resulting in a value-priced wine of attractive flavor and immediate accessibility.',\n",
              " 'taster_name': 'Virginie Boone',\n",
              " 'taster_twitter_handle': '@vboone',\n",
              " 'price': 19,\n",
              " 'designation': 'Mountain Cuvée',\n",
              " 'variety': 'Cabernet Sauvignon',\n",
              " 'region_1': 'Napa Valley',\n",
              " 'region_2': 'Napa',\n",
              " 'province': 'California',\n",
              " 'country': 'US',\n",
              " 'winery': 'Kirkland Signature'}"
            ]
          },
          "metadata": {},
          "execution_count": 5
        }
      ],
      "source": [
        "wine_data[10]"
      ]
    },
    {
      "cell_type": "code",
      "execution_count": 6,
      "id": "23a74eca-f1b7-4a46-9a1f-b5806a4ed361",
      "metadata": {
        "tags": [],
        "id": "23a74eca-f1b7-4a46-9a1f-b5806a4ed361"
      },
      "outputs": [],
      "source": [
        "# 데이터셋 필터링\n",
        "filtered_data = [\n",
        "    \"wine review : \"\n",
        "    + x[\"country\"]\n",
        "    + \" : \"\n",
        "    + x[\"province\"]\n",
        "    + \" : \"\n",
        "    + x[\"variety\"]\n",
        "    + \" : \"\n",
        "    + x[\"description\"]\n",
        "    for x in wine_data\n",
        "    if x[\"country\"] is not None\n",
        "    and x[\"province\"] is not None\n",
        "    and x[\"variety\"] is not None\n",
        "    and x[\"description\"] is not None\n",
        "]"
      ]
    },
    {
      "cell_type": "code",
      "execution_count": 7,
      "id": "389c20de-0422-4c48-a7b4-6ee12a7bf0e2",
      "metadata": {
        "tags": [],
        "id": "389c20de-0422-4c48-a7b4-6ee12a7bf0e2",
        "outputId": "590ce45a-c2ea-403c-d7bf-71415cfaa388",
        "colab": {
          "base_uri": "https://localhost:8080/"
        }
      },
      "outputs": [
        {
          "output_type": "stream",
          "name": "stdout",
          "text": [
            "129907개 레시피 로드\n"
          ]
        }
      ],
      "source": [
        "# 레시피 개수 카운트\n",
        "n_wines = len(filtered_data)\n",
        "print(f\"{n_wines}개 레시피 로드\")"
      ]
    },
    {
      "cell_type": "code",
      "execution_count": 8,
      "id": "1b2e3cf7-e416-460e-874a-0dd9637bca36",
      "metadata": {
        "id": "1b2e3cf7-e416-460e-874a-0dd9637bca36",
        "outputId": "22d1c261-3723-496d-e6f6-8e3406c0eb47",
        "colab": {
          "base_uri": "https://localhost:8080/"
        }
      },
      "outputs": [
        {
          "output_type": "stream",
          "name": "stdout",
          "text": [
            "wine review : US : California : Pinot Noir : Oak and earth intermingle around robust aromas of wet forest floor in this vineyard-designated Pinot that hails from a high-elevation site. Small in production, it offers intense, full-bodied raspberry and blackberry steeped in smoky spice and smooth texture.\n"
          ]
        }
      ],
      "source": [
        "example = filtered_data[25]\n",
        "print(example)"
      ]
    },
    {
      "cell_type": "markdown",
      "id": "3f871aaf-d873-41c7-8946-e4eef7ac17c1",
      "metadata": {
        "id": "3f871aaf-d873-41c7-8946-e4eef7ac17c1"
      },
      "source": [
        "## 2. 데이터 토큰화 <a name=\"tokenize\"></a>"
      ]
    },
    {
      "cell_type": "code",
      "execution_count": 9,
      "id": "5b2064fb-5dcc-4657-b470-0928d10e2ddc",
      "metadata": {
        "tags": [],
        "id": "5b2064fb-5dcc-4657-b470-0928d10e2ddc"
      },
      "outputs": [],
      "source": [
        "# 구두점 앞에 공백을 채워서 별도의 '단어'로 취급합니다.\n",
        "def pad_punctuation(s):\n",
        "    s = re.sub(f\"([{string.punctuation}, '\\n'])\", r\" \\1 \", s)\n",
        "    s = re.sub(\" +\", \" \", s)\n",
        "    return s\n",
        "\n",
        "\n",
        "text_data = [pad_punctuation(x) for x in filtered_data]"
      ]
    },
    {
      "cell_type": "code",
      "execution_count": 10,
      "id": "b87d7c65-9a46-492a-a5c0-a043b0d252f3",
      "metadata": {
        "id": "b87d7c65-9a46-492a-a5c0-a043b0d252f3",
        "outputId": "6fb5bf04-3202-48c6-f918-95c75849e8d0",
        "colab": {
          "base_uri": "https://localhost:8080/",
          "height": 72
        }
      },
      "outputs": [
        {
          "output_type": "execute_result",
          "data": {
            "text/plain": [
              "'wine review : US : California : Pinot Noir : Oak and earth intermingle around robust aromas of wet forest floor in this vineyard - designated Pinot that hails from a high - elevation site . Small in production , it offers intense , full - bodied raspberry and blackberry steeped in smoky spice and smooth texture . '"
            ],
            "application/vnd.google.colaboratory.intrinsic+json": {
              "type": "string"
            }
          },
          "metadata": {},
          "execution_count": 10
        }
      ],
      "source": [
        "# 레시피 예시 표시\n",
        "example_data = text_data[25]\n",
        "example_data"
      ]
    },
    {
      "cell_type": "code",
      "execution_count": 11,
      "id": "9834f916-b21a-4104-acc9-f28d3bd7a8c1",
      "metadata": {
        "tags": [],
        "id": "9834f916-b21a-4104-acc9-f28d3bd7a8c1"
      },
      "outputs": [],
      "source": [
        "# 텐서플로 데이터셋으로 변환하기\n",
        "text_ds = (\n",
        "    tf.data.Dataset.from_tensor_slices(text_data)\n",
        "    .batch(BATCH_SIZE)\n",
        "    .shuffle(1000)\n",
        ")"
      ]
    },
    {
      "cell_type": "code",
      "execution_count": 12,
      "id": "884c0bcb-0807-45a1-8f7e-a32f2c6fa4de",
      "metadata": {
        "id": "884c0bcb-0807-45a1-8f7e-a32f2c6fa4de"
      },
      "outputs": [],
      "source": [
        "# TextVectorization 층 만들기\n",
        "vectorize_layer = layers.TextVectorization(\n",
        "    standardize=\"lower\",\n",
        "    max_tokens=VOCAB_SIZE,\n",
        "    output_mode=\"int\",\n",
        "    output_sequence_length=MAX_LEN + 1,\n",
        ")"
      ]
    },
    {
      "cell_type": "code",
      "execution_count": 13,
      "id": "4d6dd34a-d905-497b-926a-405380ebcf98",
      "metadata": {
        "id": "4d6dd34a-d905-497b-926a-405380ebcf98"
      },
      "outputs": [],
      "source": [
        "# 훈련 세트에 이 층을 적용합니다.\n",
        "vectorize_layer.adapt(text_ds)\n",
        "vocab = vectorize_layer.get_vocabulary()"
      ]
    },
    {
      "cell_type": "code",
      "execution_count": 14,
      "id": "f6c1c7ce-3cf0-40d4-a3dc-ab7090f69f2f",
      "metadata": {
        "id": "f6c1c7ce-3cf0-40d4-a3dc-ab7090f69f2f",
        "outputId": "7fffe202-c10e-4bda-f1de-b01c784a48ab",
        "colab": {
          "base_uri": "https://localhost:8080/"
        }
      },
      "outputs": [
        {
          "output_type": "stream",
          "name": "stdout",
          "text": [
            "0: \n",
            "1: [UNK]\n",
            "2: :\n",
            "3: ,\n",
            "4: .\n",
            "5: and\n",
            "6: the\n",
            "7: wine\n",
            "8: a\n",
            "9: of\n"
          ]
        }
      ],
      "source": [
        "# 토큰:단어 매핑 표시\n",
        "for i, word in enumerate(vocab[:10]):\n",
        "    print(f\"{i}: {word}\")"
      ]
    },
    {
      "cell_type": "code",
      "execution_count": 15,
      "id": "1cc30186-7ec6-4eb6-b29a-65df6714d321",
      "metadata": {
        "id": "1cc30186-7ec6-4eb6-b29a-65df6714d321",
        "outputId": "63c19cc8-c70e-435c-f9ec-f27944fdd574",
        "colab": {
          "base_uri": "https://localhost:8080/"
        }
      },
      "outputs": [
        {
          "output_type": "stream",
          "name": "stdout",
          "text": [
            "[   7   10    2   20    2   29    2   43   62    2   55    5  243 4145\n",
            "  453  634   26    9  497  499  667   17   12  142   14 2214   43   25\n",
            " 2484   32    8  223   14 2213  948    4  594   17  987    3   15   75\n",
            "  237    3   64   14   82   97    5   74 2633   17  198   49    5  125\n",
            "   77    4    0    0    0    0    0    0    0    0    0    0    0    0\n",
            "    0    0    0    0    0    0    0    0    0    0    0]\n"
          ]
        }
      ],
      "source": [
        "# 동일한 샘플을 정수로 변환하여 표시\n",
        "example_tokenised = vectorize_layer(example_data)\n",
        "print(example_tokenised.numpy())"
      ]
    },
    {
      "cell_type": "markdown",
      "id": "8c195efb-84c6-4be0-a989-a7542188ad35",
      "metadata": {
        "id": "8c195efb-84c6-4be0-a989-a7542188ad35"
      },
      "source": [
        "## 3. 훈련 세트 생성 <a name=\"create\"></a>"
      ]
    },
    {
      "cell_type": "code",
      "execution_count": 16,
      "id": "740294a1-1a6b-4c89-92f2-036d7d1b788b",
      "metadata": {
        "id": "740294a1-1a6b-4c89-92f2-036d7d1b788b"
      },
      "outputs": [],
      "source": [
        "# 레시피 텍스트와 한 단어만큼 이동된 동일한 텍스트로 훈련 세트를 만듭니다.\n",
        "def prepare_inputs(text):\n",
        "    text = tf.expand_dims(text, -1)\n",
        "    tokenized_sentences = vectorize_layer(text)\n",
        "    x = tokenized_sentences[:, :-1]\n",
        "    y = tokenized_sentences[:, 1:]\n",
        "    return x, y\n",
        "\n",
        "\n",
        "train_ds = text_ds.map(prepare_inputs)"
      ]
    },
    {
      "cell_type": "code",
      "execution_count": 17,
      "id": "cad80ffb-4298-4249-86b4-9918d62534c5",
      "metadata": {
        "id": "cad80ffb-4298-4249-86b4-9918d62534c5"
      },
      "outputs": [],
      "source": [
        "example_input_output = train_ds.take(1).get_single_element()"
      ]
    },
    {
      "cell_type": "code",
      "execution_count": 18,
      "id": "67ff7263-f62d-44c1-997b-1aa99a393521",
      "metadata": {
        "id": "67ff7263-f62d-44c1-997b-1aa99a393521",
        "outputId": "0fe3d244-d0e2-4d25-eda5-266fd045261d",
        "colab": {
          "base_uri": "https://localhost:8080/"
        }
      },
      "outputs": [
        {
          "output_type": "execute_result",
          "data": {
            "text/plain": [
              "<tf.Tensor: shape=(80,), dtype=int64, numpy=\n",
              "array([   7,   10,    2,   42,    2,  344,    2,  119,    2,   95,    5,\n",
              "       2040,   39, 5342,   88,   23,    6,   60,    4,    6,   28,   83,\n",
              "       1135,  648,    5,  372,  664,   93,    3,   56,    5,   38,  361,\n",
              "         19,    6, 1718,    4,    6,  285,   13,   76,    5,  997,   33,\n",
              "       2542,   11,  195,    4,    6,   31,   13,  155,    5, 1073,   11,\n",
              "        401,   95,    4,    0,    0,    0,    0,    0,    0,    0,    0,\n",
              "          0,    0,    0,    0,    0,    0,    0,    0,    0,    0,    0,\n",
              "          0,    0,    0])>"
            ]
          },
          "metadata": {},
          "execution_count": 18
        }
      ],
      "source": [
        "# 입력 예시\n",
        "example_input_output[0][0]"
      ]
    },
    {
      "cell_type": "code",
      "execution_count": 19,
      "id": "ef2e2cad-414c-4e6d-a2ac-6b9598f9dd01",
      "metadata": {
        "id": "ef2e2cad-414c-4e6d-a2ac-6b9598f9dd01",
        "outputId": "d8a53e94-5500-4727-a7cb-f9005bb2bddd",
        "colab": {
          "base_uri": "https://localhost:8080/"
        }
      },
      "outputs": [
        {
          "output_type": "execute_result",
          "data": {
            "text/plain": [
              "<tf.Tensor: shape=(80,), dtype=int64, numpy=\n",
              "array([  10,    2,   42,    2,  344,    2,  119,    2,   95,    5, 2040,\n",
              "         39, 5342,   88,   23,    6,   60,    4,    6,   28,   83, 1135,\n",
              "        648,    5,  372,  664,   93,    3,   56,    5,   38,  361,   19,\n",
              "          6, 1718,    4,    6,  285,   13,   76,    5,  997,   33, 2542,\n",
              "         11,  195,    4,    6,   31,   13,  155,    5, 1073,   11,  401,\n",
              "         95,    4,    0,    0,    0,    0,    0,    0,    0,    0,    0,\n",
              "          0,    0,    0,    0,    0,    0,    0,    0,    0,    0,    0,\n",
              "          0,    0,    0])>"
            ]
          },
          "metadata": {},
          "execution_count": 19
        }
      ],
      "source": [
        "# 출력 예시(토큰 하나씩 이동)\n",
        "example_input_output[1][0]"
      ]
    },
    {
      "cell_type": "markdown",
      "id": "aff50401-3abe-4c10-bba8-b35bc13ad7d5",
      "metadata": {
        "tags": [],
        "id": "aff50401-3abe-4c10-bba8-b35bc13ad7d5"
      },
      "source": [
        "## 5. 코잘 어텐션 마스킹 함수 만들기 <a name=\"causal\"></a>"
      ]
    },
    {
      "cell_type": "code",
      "execution_count": 20,
      "id": "554a4184-61c2-4eb7-a063-d965586a8188",
      "metadata": {
        "id": "554a4184-61c2-4eb7-a063-d965586a8188",
        "outputId": "21f0a310-e067-49e3-9b3b-93bcc3cb62bb",
        "colab": {
          "base_uri": "https://localhost:8080/"
        }
      },
      "outputs": [
        {
          "output_type": "execute_result",
          "data": {
            "text/plain": [
              "array([[1, 1, 1, 1, 1, 1, 1, 1, 1, 1],\n",
              "       [0, 1, 1, 1, 1, 1, 1, 1, 1, 1],\n",
              "       [0, 0, 1, 1, 1, 1, 1, 1, 1, 1],\n",
              "       [0, 0, 0, 1, 1, 1, 1, 1, 1, 1],\n",
              "       [0, 0, 0, 0, 1, 1, 1, 1, 1, 1],\n",
              "       [0, 0, 0, 0, 0, 1, 1, 1, 1, 1],\n",
              "       [0, 0, 0, 0, 0, 0, 1, 1, 1, 1],\n",
              "       [0, 0, 0, 0, 0, 0, 0, 1, 1, 1],\n",
              "       [0, 0, 0, 0, 0, 0, 0, 0, 1, 1],\n",
              "       [0, 0, 0, 0, 0, 0, 0, 0, 0, 1]], dtype=int32)"
            ]
          },
          "metadata": {},
          "execution_count": 20
        }
      ],
      "source": [
        "def causal_attention_mask(batch_size, n_dest, n_src, dtype):\n",
        "    i = tf.range(n_dest)[:, None]\n",
        "    j = tf.range(n_src)\n",
        "    m = i >= j - n_src + n_dest\n",
        "    mask = tf.cast(m, dtype)\n",
        "    mask = tf.reshape(mask, [1, n_dest, n_src])\n",
        "    mult = tf.concat(\n",
        "        [tf.expand_dims(batch_size, -1), tf.constant([1, 1], dtype=tf.int32)], 0\n",
        "    )\n",
        "    return tf.tile(mask, mult)\n",
        "\n",
        "\n",
        "np.transpose(causal_attention_mask(1, 10, 10, dtype=tf.int32)[0])"
      ]
    },
    {
      "cell_type": "markdown",
      "id": "3501dbad-0860-40ad-b7d6-47950e37858f",
      "metadata": {
        "id": "3501dbad-0860-40ad-b7d6-47950e37858f"
      },
      "source": [
        "## 6. 트랜스포머 블록 층 만들기 <a name=\"transformer\"></a>"
      ]
    },
    {
      "cell_type": "code",
      "execution_count": 21,
      "id": "5285a1cb-fce1-46b1-b088-b596002fa9ae",
      "metadata": {
        "id": "5285a1cb-fce1-46b1-b088-b596002fa9ae"
      },
      "outputs": [],
      "source": [
        "class TransformerBlock(layers.Layer):\n",
        "    def __init__(self, num_heads, key_dim, embed_dim, ff_dim, dropout_rate=0.1):\n",
        "        super(TransformerBlock, self).__init__()\n",
        "        self.num_heads = num_heads\n",
        "        self.key_dim = key_dim\n",
        "        self.embed_dim = embed_dim\n",
        "        self.ff_dim = ff_dim\n",
        "        self.dropout_rate = dropout_rate\n",
        "        self.attn = layers.MultiHeadAttention(\n",
        "            num_heads, key_dim, output_shape=embed_dim\n",
        "        )\n",
        "        self.dropout_1 = layers.Dropout(self.dropout_rate)\n",
        "        self.ln_1 = layers.LayerNormalization(epsilon=1e-6)\n",
        "        self.ffn_1 = layers.Dense(self.ff_dim, activation=\"relu\")\n",
        "        self.ffn_2 = layers.Dense(self.embed_dim)\n",
        "        self.dropout_2 = layers.Dropout(self.dropout_rate)\n",
        "        self.ln_2 = layers.LayerNormalization(epsilon=1e-6)\n",
        "\n",
        "    def call(self, inputs):\n",
        "        input_shape = tf.shape(inputs)\n",
        "        batch_size = input_shape[0]\n",
        "        seq_len = input_shape[1]\n",
        "        causal_mask = causal_attention_mask(\n",
        "            batch_size, seq_len, seq_len, tf.bool\n",
        "        )\n",
        "        attention_output, attention_scores = self.attn(\n",
        "            inputs,\n",
        "            inputs,\n",
        "            attention_mask=causal_mask,\n",
        "            return_attention_scores=True,\n",
        "        )\n",
        "        attention_output = self.dropout_1(attention_output)\n",
        "        out1 = self.ln_1(inputs + attention_output)\n",
        "        ffn_1 = self.ffn_1(out1)\n",
        "        ffn_2 = self.ffn_2(ffn_1)\n",
        "        ffn_output = self.dropout_2(ffn_2)\n",
        "        return (self.ln_2(out1 + ffn_output), attention_scores)\n",
        "\n",
        "    def get_config(self):\n",
        "        config = super().get_config()\n",
        "        config.update(\n",
        "            {\n",
        "                \"key_dim\": self.key_dim,\n",
        "                \"embed_dim\": self.embed_dim,\n",
        "                \"num_heads\": self.num_heads,\n",
        "                \"ff_dim\": self.ff_dim,\n",
        "                \"dropout_rate\": self.dropout_rate,\n",
        "            }\n",
        "        )\n",
        "        return config"
      ]
    },
    {
      "cell_type": "markdown",
      "id": "076a6be0-9796-4974-9bcd-6ebbcfe7514e",
      "metadata": {
        "tags": [],
        "id": "076a6be0-9796-4974-9bcd-6ebbcfe7514e"
      },
      "source": [
        "## 7. 토큰 임베딩과 위치 인코딩 만들기 <a name=\"embedder\"></a>"
      ]
    },
    {
      "cell_type": "code",
      "execution_count": 22,
      "id": "fdf5cb25-88ae-4026-9e21-c1e6b5094a2c",
      "metadata": {
        "id": "fdf5cb25-88ae-4026-9e21-c1e6b5094a2c"
      },
      "outputs": [],
      "source": [
        "class TokenAndPositionEmbedding(layers.Layer):\n",
        "    def __init__(self, max_len, vocab_size, embed_dim):\n",
        "        super(TokenAndPositionEmbedding, self).__init__()\n",
        "        self.max_len = max_len\n",
        "        self.vocab_size = vocab_size\n",
        "        self.embed_dim = embed_dim\n",
        "        self.token_emb = layers.Embedding(\n",
        "            input_dim=vocab_size, output_dim=embed_dim\n",
        "        )\n",
        "        self.pos_emb = layers.Embedding(input_dim=max_len, output_dim=embed_dim)\n",
        "\n",
        "    def call(self, x):\n",
        "        maxlen = tf.shape(x)[-1]\n",
        "        positions = tf.range(start=0, limit=maxlen, delta=1)\n",
        "        positions = self.pos_emb(positions)\n",
        "        x = self.token_emb(x)\n",
        "        return x + positions\n",
        "\n",
        "    def get_config(self):\n",
        "        config = super().get_config()\n",
        "        config.update(\n",
        "            {\n",
        "                \"max_len\": self.max_len,\n",
        "                \"vocab_size\": self.vocab_size,\n",
        "                \"embed_dim\": self.embed_dim,\n",
        "            }\n",
        "        )\n",
        "        return config"
      ]
    },
    {
      "cell_type": "markdown",
      "id": "aac2e2d4-5980-47e3-b5b0-6c41c0c2d152",
      "metadata": {
        "id": "aac2e2d4-5980-47e3-b5b0-6c41c0c2d152"
      },
      "source": [
        "## 8. 트랜스포머 모델 만들기 <a name=\"transformer_decoder\"></a>"
      ]
    },
    {
      "cell_type": "code",
      "execution_count": 23,
      "id": "8c57596e-e17d-4959-b6e8-7581b0bace3a",
      "metadata": {
        "id": "8c57596e-e17d-4959-b6e8-7581b0bace3a"
      },
      "outputs": [],
      "source": [
        "inputs = layers.Input(shape=(None,), dtype=tf.int32)\n",
        "x = TokenAndPositionEmbedding(MAX_LEN, VOCAB_SIZE, EMBEDDING_DIM)(inputs)\n",
        "x, attention_scores = TransformerBlock(\n",
        "    N_HEADS, KEY_DIM, EMBEDDING_DIM, FEED_FORWARD_DIM\n",
        ")(x)\n",
        "outputs = layers.Dense(VOCAB_SIZE, activation=\"softmax\")(x)\n",
        "gpt = models.Model(inputs=inputs, outputs=[outputs, attention_scores])\n",
        "gpt.compile(\"adam\", loss=[losses.SparseCategoricalCrossentropy(), None])"
      ]
    },
    {
      "cell_type": "code",
      "execution_count": 24,
      "id": "1a1c3b0f-3382-444d-bb04-bae143ae5d61",
      "metadata": {
        "id": "1a1c3b0f-3382-444d-bb04-bae143ae5d61",
        "outputId": "6f559586-0c0b-4cb4-b4cd-14ee85953926",
        "colab": {
          "base_uri": "https://localhost:8080/"
        }
      },
      "outputs": [
        {
          "output_type": "stream",
          "name": "stdout",
          "text": [
            "Model: \"model\"\n",
            "_________________________________________________________________\n",
            " Layer (type)                Output Shape              Param #   \n",
            "=================================================================\n",
            " input_1 (InputLayer)        [(None, None)]            0         \n",
            "                                                                 \n",
            " token_and_position_embeddi  (None, None, 256)         2580480   \n",
            " ng (TokenAndPositionEmbedd                                      \n",
            " ing)                                                            \n",
            "                                                                 \n",
            " transformer_block (Transfo  ((None, None, 256),       658688    \n",
            " rmerBlock)                   (None, 2, None, None))             \n",
            "                                                                 \n",
            " dense_2 (Dense)             (None, None, 10000)       2570000   \n",
            "                                                                 \n",
            "=================================================================\n",
            "Total params: 5809168 (22.16 MB)\n",
            "Trainable params: 5809168 (22.16 MB)\n",
            "Non-trainable params: 0 (0.00 Byte)\n",
            "_________________________________________________________________\n"
          ]
        }
      ],
      "source": [
        "gpt.summary()"
      ]
    },
    {
      "cell_type": "code",
      "execution_count": 25,
      "id": "800a3c6e-fb11-4792-b6bc-9a43a7c977ad",
      "metadata": {
        "tags": [],
        "id": "800a3c6e-fb11-4792-b6bc-9a43a7c977ad"
      },
      "outputs": [],
      "source": [
        "if LOAD_MODEL:\n",
        "    # model.load_weights('./models/model')\n",
        "    gpt = models.load_model(\"./models/gpt\", compile=True)"
      ]
    },
    {
      "cell_type": "markdown",
      "id": "35b14665-4359-447b-be58-3fd58ba69084",
      "metadata": {
        "id": "35b14665-4359-447b-be58-3fd58ba69084"
      },
      "source": [
        "## 9. 트랜스포머 훈련하기 <a name=\"train\"></a>"
      ]
    },
    {
      "cell_type": "code",
      "execution_count": 26,
      "id": "3ddcff5f-829d-4449-99d2-9a3cb68f7d72",
      "metadata": {
        "id": "3ddcff5f-829d-4449-99d2-9a3cb68f7d72"
      },
      "outputs": [],
      "source": [
        "# TextGenerator 체크포인트 만들기\n",
        "class TextGenerator(callbacks.Callback):\n",
        "    def __init__(self, index_to_word, top_k=10):\n",
        "        self.index_to_word = index_to_word\n",
        "        self.word_to_index = {\n",
        "            word: index for index, word in enumerate(index_to_word)\n",
        "        }\n",
        "\n",
        "    def sample_from(self, probs, temperature):\n",
        "        probs = probs ** (1 / temperature)\n",
        "        probs = probs / np.sum(probs)\n",
        "        return np.random.choice(len(probs), p=probs), probs\n",
        "\n",
        "    def generate(self, start_prompt, max_tokens, temperature):\n",
        "        start_tokens = [\n",
        "            self.word_to_index.get(x, 1) for x in start_prompt.split()\n",
        "        ]\n",
        "        sample_token = None\n",
        "        info = []\n",
        "        while len(start_tokens) < max_tokens and sample_token != 0:\n",
        "            x = np.array([start_tokens])\n",
        "            y, att = self.model.predict(x, verbose=0)\n",
        "            sample_token, probs = self.sample_from(y[0][-1], temperature)\n",
        "            info.append(\n",
        "                {\n",
        "                    \"prompt\": start_prompt,\n",
        "                    \"word_probs\": probs,\n",
        "                    \"atts\": att[0, :, -1, :],\n",
        "                }\n",
        "            )\n",
        "            start_tokens.append(sample_token)\n",
        "            start_prompt = start_prompt + \" \" + self.index_to_word[sample_token]\n",
        "        print(f\"\\n생성된 텍스트:\\n{start_prompt}\\n\")\n",
        "        return info\n",
        "\n",
        "    def on_epoch_end(self, epoch, logs=None):\n",
        "        self.generate(\"wine review\", max_tokens=80, temperature=1.0)"
      ]
    },
    {
      "cell_type": "code",
      "execution_count": 27,
      "id": "349865fe-ffbe-450e-97be-043ae1740e78",
      "metadata": {
        "id": "349865fe-ffbe-450e-97be-043ae1740e78"
      },
      "outputs": [],
      "source": [
        "# 모델 저장 체크포인트 만들기\n",
        "model_checkpoint_callback = callbacks.ModelCheckpoint(\n",
        "    filepath=\"./checkpoint/checkpoint.ckpt\",\n",
        "    save_weights_only=True,\n",
        "    save_freq=\"epoch\",\n",
        "    verbose=0,\n",
        ")\n",
        "\n",
        "tensorboard_callback = callbacks.TensorBoard(log_dir=\"./logs\")\n",
        "\n",
        "# 시작 프롬프트 토큰화\n",
        "text_generator = TextGenerator(vocab)"
      ]
    },
    {
      "cell_type": "code",
      "execution_count": 28,
      "id": "461c2b3e-b5ae-4def-8bd9-e7bab8c63d8e",
      "metadata": {
        "tags": [],
        "id": "461c2b3e-b5ae-4def-8bd9-e7bab8c63d8e",
        "outputId": "0e59aa0e-5c02-4f41-a59f-7dd16ad77433",
        "colab": {
          "base_uri": "https://localhost:8080/"
        }
      },
      "outputs": [
        {
          "output_type": "stream",
          "name": "stdout",
          "text": [
            "Epoch 1/5\n",
            "4059/4060 [============================>.] - ETA: 0s - loss: 2.2547 - dense_2_loss: 2.2547\n",
            "생성된 텍스트:\n",
            "wine review : us : oregon : pinot noir : a tightly wound , layered mix of black and ripe , seemingly dissipate . the palate combines earthy , drying tannins with the tart red plum fruit , and licorice emerging emerging upon a savory streak of graphite that follows the extended finish . \n",
            "\n",
            "4060/4060 [==============================] - 155s 36ms/step - loss: 2.2546 - dense_2_loss: 2.2546\n",
            "Epoch 2/5\n",
            "4060/4060 [==============================] - ETA: 0s - loss: 1.9603 - dense_2_loss: 1.9603\n",
            "생성된 텍스트:\n",
            "wine review : us : california : syrah : the dense aroma comes from this as well - made , smooth and soft in fruit flavor with a gentle texture of plummy raspberries , peppercorns , tapenade and cedar . its touches of cassis and tannic structure enhance the juicy blackberries to all the fruit nicely seasoned with cinnamon . chardonnay . would be full bodied or expressive at first it should be in the best . drink now–2015 .\n",
            "\n",
            "4060/4060 [==============================] - 118s 29ms/step - loss: 1.9603 - dense_2_loss: 1.9603\n",
            "Epoch 3/5\n",
            "4059/4060 [============================>.] - ETA: 0s - loss: 1.8907 - dense_2_loss: 1.8907\n",
            "생성된 텍스트:\n",
            "wine review : us : california : pinot noir : this low - production pinot entices with aromas of plums , black cherries , beets and turned out for an interesting red and purple color by a seemingly earthy texture . it ' s full bodied and friendly , but well - balanced asian spices . \n",
            "\n",
            "4060/4060 [==============================] - 116s 29ms/step - loss: 1.8906 - dense_2_loss: 1.8906\n",
            "Epoch 4/5\n",
            "4060/4060 [==============================] - ETA: 0s - loss: 1.8482 - dense_2_loss: 1.8482\n",
            "생성된 텍스트:\n",
            "wine review : spain : northern spain : tempranillo blend : [UNK] that helps to preserve its [UNK] nose heavyweight aromas and flavors of toasty oak , spice , resin and bold fruit but the finish is clean and big . but at first take the appears on its generic side , but therefore not overwhelming oak . word , it is fancy enough to drink now . \n",
            "\n",
            "4060/4060 [==============================] - 116s 29ms/step - loss: 1.8482 - dense_2_loss: 1.8482\n",
            "Epoch 5/5\n",
            "4059/4060 [============================>.] - ETA: 0s - loss: 1.8183 - dense_2_loss: 1.8183\n",
            "생성된 텍스트:\n",
            "wine review : italy : central italy : montepulciano : this wine sports a bright ruby - ruby color and very ruby with its aromas of light berry , cherry , fresh cherry and cranberry . the wine is juicy with zesty effervescence . \n",
            "\n",
            "4060/4060 [==============================] - 116s 28ms/step - loss: 1.8183 - dense_2_loss: 1.8183\n"
          ]
        },
        {
          "output_type": "execute_result",
          "data": {
            "text/plain": [
              "<keras.src.callbacks.History at 0x7c2c33deb520>"
            ]
          },
          "metadata": {},
          "execution_count": 28
        }
      ],
      "source": [
        "gpt.fit(\n",
        "    train_ds,\n",
        "    epochs=EPOCHS,\n",
        "    callbacks=[model_checkpoint_callback, tensorboard_callback, text_generator],\n",
        ")"
      ]
    },
    {
      "cell_type": "code",
      "execution_count": 29,
      "id": "369bde44-2e39-4bc6-8549-a3a27ecce55c",
      "metadata": {
        "tags": [],
        "id": "369bde44-2e39-4bc6-8549-a3a27ecce55c"
      },
      "outputs": [],
      "source": [
        "# 최종 모델 저장\n",
        "gpt.save(\"./models/gpt\")"
      ]
    },
    {
      "cell_type": "markdown",
      "id": "d64e02d2-84dc-40c8-8446-40c09adf1e20",
      "metadata": {
        "id": "d64e02d2-84dc-40c8-8446-40c09adf1e20"
      },
      "source": [
        "# 3. 트랜스포머를 사용하여 텍스트 생성"
      ]
    },
    {
      "cell_type": "code",
      "execution_count": 30,
      "id": "4ad23adb-3ec9-4e9a-9a59-b9f9bafca649",
      "metadata": {
        "id": "4ad23adb-3ec9-4e9a-9a59-b9f9bafca649"
      },
      "outputs": [],
      "source": [
        "def print_probs(info, vocab, top_k=5):\n",
        "    for i in info:\n",
        "        highlighted_text = []\n",
        "        for word, att_score in zip(\n",
        "            i[\"prompt\"].split(), np.mean(i[\"atts\"], axis=0)\n",
        "        ):\n",
        "            highlighted_text.append(\n",
        "                '<span style=\"background-color:rgba(135,206,250,'\n",
        "                + str(att_score / max(np.mean(i[\"atts\"], axis=0)))\n",
        "                + ');\">'\n",
        "                + word\n",
        "                + \"</span>\"\n",
        "            )\n",
        "        highlighted_text = \" \".join(highlighted_text)\n",
        "        display(HTML(highlighted_text))\n",
        "\n",
        "        word_probs = i[\"word_probs\"]\n",
        "        p_sorted = np.sort(word_probs)[::-1][:top_k]\n",
        "        i_sorted = np.argsort(word_probs)[::-1][:top_k]\n",
        "        for p, i in zip(p_sorted, i_sorted):\n",
        "            print(f\"{vocab[i]}:   \\t{np.round(100*p,2)}%\")\n",
        "        print(\"--------\\n\")"
      ]
    },
    {
      "cell_type": "code",
      "execution_count": 31,
      "id": "3cf25578-d47c-4b26-8252-fcdf2316a4ac",
      "metadata": {
        "id": "3cf25578-d47c-4b26-8252-fcdf2316a4ac",
        "outputId": "a3d96cf1-066b-4642-fd57-7b14ea42bb0c",
        "colab": {
          "base_uri": "https://localhost:8080/"
        }
      },
      "outputs": [
        {
          "output_type": "stream",
          "name": "stdout",
          "text": [
            "\n",
            "생성된 텍스트:\n",
            "wine review : us : oregon : pinot noir : aromatically , this is a low alcohol ( 30 % ) wine . the wine is sleek and fruity , with notes of red cherry and plenty of sweet raspberry and strawberry . spicy and cherry flavors gain extra complexity within a frame of barrel wax , white pepper around that just a hint of coconut on the midpalate . \n",
            "\n"
          ]
        }
      ],
      "source": [
        "info = text_generator.generate(\n",
        "    \"wine review : us\", max_tokens=80, temperature=1.0\n",
        ")"
      ]
    },
    {
      "cell_type": "code",
      "execution_count": 32,
      "id": "4ae2da8e-9b7c-4b71-b37b-021115b3d7ea",
      "metadata": {
        "id": "4ae2da8e-9b7c-4b71-b37b-021115b3d7ea",
        "outputId": "e35091b4-e1cc-4e19-baeb-8aa7b6822a27",
        "colab": {
          "base_uri": "https://localhost:8080/"
        }
      },
      "outputs": [
        {
          "output_type": "stream",
          "name": "stdout",
          "text": [
            "\n",
            "생성된 텍스트:\n",
            "wine review : italy : northeastern italy : pinot grigio : [UNK] ' s [UNK] ' s wine ' s fresh and crisp , with an intense bouquet of honey , peach and apricot . the wine is light and silky , with a bright , crisp feel in the mouth . \n",
            "\n"
          ]
        }
      ],
      "source": [
        "info = text_generator.generate(\n",
        "    \"wine review : italy\", max_tokens=80, temperature=0.5\n",
        ")"
      ]
    },
    {
      "cell_type": "code",
      "execution_count": 33,
      "id": "5cae6d5d-263d-4455-b96c-f315cbe284ee",
      "metadata": {
        "id": "5cae6d5d-263d-4455-b96c-f315cbe284ee",
        "outputId": "75065f23-6eed-463f-af61-39dae2cb2302",
        "colab": {
          "base_uri": "https://localhost:8080/",
          "height": 1000
        }
      },
      "outputs": [
        {
          "output_type": "stream",
          "name": "stdout",
          "text": [
            "\n",
            "생성된 텍스트:\n",
            "wine review : germany : baden : spätburgunder : smoke and smoke notes lend a savory , savory tone to this pinot noir . the palate is a bit sharp and unrefined , but ripe and juicy , with black cherry and plum flavors . finishes with a zesty , but clean . \n",
            "\n"
          ]
        },
        {
          "output_type": "display_data",
          "data": {
            "text/plain": [
              "<IPython.core.display.HTML object>"
            ],
            "text/html": [
              "<span style=\"background-color:rgba(135,206,250,0.8642968);\">wine</span> <span style=\"background-color:rgba(135,206,250,1.0);\">review</span> <span style=\"background-color:rgba(135,206,250,0.791655);\">:</span> <span style=\"background-color:rgba(135,206,250,0.26540926);\">germany</span>"
            ]
          },
          "metadata": {}
        },
        {
          "output_type": "stream",
          "name": "stdout",
          "text": [
            "::   \t100.0%\n",
            "-:   \t0.0%\n",
            "africa:   \t0.0%\n",
            "grosso:   \t0.0%\n",
            "blend:   \t0.0%\n",
            "--------\n",
            "\n"
          ]
        },
        {
          "output_type": "display_data",
          "data": {
            "text/plain": [
              "<IPython.core.display.HTML object>"
            ],
            "text/html": [
              "<span style=\"background-color:rgba(135,206,250,0.33781594);\">wine</span> <span style=\"background-color:rgba(135,206,250,0.3254053);\">review</span> <span style=\"background-color:rgba(135,206,250,0.5162081);\">:</span> <span style=\"background-color:rgba(135,206,250,1.0);\">germany</span> <span style=\"background-color:rgba(135,206,250,0.31406206);\">:</span>"
            ]
          },
          "metadata": {}
        },
        {
          "output_type": "stream",
          "name": "stdout",
          "text": [
            "mosel:   \t97.52%\n",
            "nahe:   \t0.64%\n",
            "baden:   \t0.54%\n",
            "rheingau:   \t0.44%\n",
            "rheinhessen:   \t0.36%\n",
            "--------\n",
            "\n"
          ]
        },
        {
          "output_type": "display_data",
          "data": {
            "text/plain": [
              "<IPython.core.display.HTML object>"
            ],
            "text/html": [
              "<span style=\"background-color:rgba(135,206,250,0.74911255);\">wine</span> <span style=\"background-color:rgba(135,206,250,1.0);\">review</span> <span style=\"background-color:rgba(135,206,250,0.4795178);\">:</span> <span style=\"background-color:rgba(135,206,250,0.26626584);\">germany</span> <span style=\"background-color:rgba(135,206,250,0.5934197);\">:</span> <span style=\"background-color:rgba(135,206,250,0.18642145);\">baden</span>"
            ]
          },
          "metadata": {}
        },
        {
          "output_type": "stream",
          "name": "stdout",
          "text": [
            "::   \t100.0%\n",
            "grosso:   \t0.0%\n",
            "other:   \t0.0%\n",
            "[UNK]:   \t0.0%\n",
            "-:   \t0.0%\n",
            "--------\n",
            "\n"
          ]
        },
        {
          "output_type": "display_data",
          "data": {
            "text/plain": [
              "<IPython.core.display.HTML object>"
            ],
            "text/html": [
              "<span style=\"background-color:rgba(135,206,250,0.3824295);\">wine</span> <span style=\"background-color:rgba(135,206,250,0.2973042);\">review</span> <span style=\"background-color:rgba(135,206,250,0.34241644);\">:</span> <span style=\"background-color:rgba(135,206,250,0.4467618);\">germany</span> <span style=\"background-color:rgba(135,206,250,0.26703182);\">:</span> <span style=\"background-color:rgba(135,206,250,1.0);\">baden</span> <span style=\"background-color:rgba(135,206,250,0.3035741);\">:</span>"
            ]
          },
          "metadata": {}
        },
        {
          "output_type": "stream",
          "name": "stdout",
          "text": [
            "pinot:   \t79.94%\n",
            "spätburgunder:   \t19.76%\n",
            "[UNK]:   \t0.11%\n",
            "riesling:   \t0.08%\n",
            "sparkling:   \t0.03%\n",
            "--------\n",
            "\n"
          ]
        },
        {
          "output_type": "display_data",
          "data": {
            "text/plain": [
              "<IPython.core.display.HTML object>"
            ],
            "text/html": [
              "<span style=\"background-color:rgba(135,206,250,1.0);\">wine</span> <span style=\"background-color:rgba(135,206,250,0.91909564);\">review</span> <span style=\"background-color:rgba(135,206,250,0.58094126);\">:</span> <span style=\"background-color:rgba(135,206,250,0.32687);\">germany</span> <span style=\"background-color:rgba(135,206,250,0.77085435);\">:</span> <span style=\"background-color:rgba(135,206,250,0.47547102);\">baden</span> <span style=\"background-color:rgba(135,206,250,0.76533824);\">:</span> <span style=\"background-color:rgba(135,206,250,0.3450289);\">spätburgunder</span>"
            ]
          },
          "metadata": {}
        },
        {
          "output_type": "stream",
          "name": "stdout",
          "text": [
            "::   \t100.0%\n",
            "blanc:   \t0.0%\n",
            "-:   \t0.0%\n",
            "grosso:   \t0.0%\n",
            "noir:   \t0.0%\n",
            "--------\n",
            "\n"
          ]
        },
        {
          "output_type": "display_data",
          "data": {
            "text/plain": [
              "<IPython.core.display.HTML object>"
            ],
            "text/html": [
              "<span style=\"background-color:rgba(135,206,250,0.7028168);\">wine</span> <span style=\"background-color:rgba(135,206,250,0.70454043);\">review</span> <span style=\"background-color:rgba(135,206,250,0.5942823);\">:</span> <span style=\"background-color:rgba(135,206,250,0.8580209);\">germany</span> <span style=\"background-color:rgba(135,206,250,0.65311277);\">:</span> <span style=\"background-color:rgba(135,206,250,0.8416308);\">baden</span> <span style=\"background-color:rgba(135,206,250,0.63139534);\">:</span> <span style=\"background-color:rgba(135,206,250,1.0);\">spätburgunder</span> <span style=\"background-color:rgba(135,206,250,0.64246786);\">:</span>"
            ]
          },
          "metadata": {}
        },
        {
          "output_type": "stream",
          "name": "stdout",
          "text": [
            "this:   \t21.39%\n",
            "a:   \t18.61%\n",
            "hints:   \t12.9%\n",
            "whiffs:   \t5.46%\n",
            "the:   \t5.11%\n",
            "--------\n",
            "\n"
          ]
        },
        {
          "output_type": "display_data",
          "data": {
            "text/plain": [
              "<IPython.core.display.HTML object>"
            ],
            "text/html": [
              "<span style=\"background-color:rgba(135,206,250,0.6099093);\">wine</span> <span style=\"background-color:rgba(135,206,250,1.0);\">review</span> <span style=\"background-color:rgba(135,206,250,0.2577953);\">:</span> <span style=\"background-color:rgba(135,206,250,0.3236204);\">germany</span> <span style=\"background-color:rgba(135,206,250,0.4397896);\">:</span> <span style=\"background-color:rgba(135,206,250,0.23158151);\">baden</span> <span style=\"background-color:rgba(135,206,250,0.2541792);\">:</span> <span style=\"background-color:rgba(135,206,250,0.15072764);\">spätburgunder</span> <span style=\"background-color:rgba(135,206,250,0.38059512);\">:</span> <span style=\"background-color:rgba(135,206,250,0.26617163);\">smoke</span>"
            ]
          },
          "metadata": {}
        },
        {
          "output_type": "stream",
          "name": "stdout",
          "text": [
            "and:   \t81.77%\n",
            ",:   \t17.44%\n",
            "seeps:   \t0.77%\n",
            "notes:   \t0.02%\n",
            "tones:   \t0.01%\n",
            "--------\n",
            "\n"
          ]
        },
        {
          "output_type": "display_data",
          "data": {
            "text/plain": [
              "<IPython.core.display.HTML object>"
            ],
            "text/html": [
              "<span style=\"background-color:rgba(135,206,250,0.2523061);\">wine</span> <span style=\"background-color:rgba(135,206,250,0.36184397);\">review</span> <span style=\"background-color:rgba(135,206,250,0.29706255);\">:</span> <span style=\"background-color:rgba(135,206,250,0.23776369);\">germany</span> <span style=\"background-color:rgba(135,206,250,0.2110132);\">:</span> <span style=\"background-color:rgba(135,206,250,0.17634542);\">baden</span> <span style=\"background-color:rgba(135,206,250,0.12927844);\">:</span> <span style=\"background-color:rgba(135,206,250,0.15627906);\">spätburgunder</span> <span style=\"background-color:rgba(135,206,250,0.18256544);\">:</span> <span style=\"background-color:rgba(135,206,250,1.0);\">smoke</span> <span style=\"background-color:rgba(135,206,250,0.15438066);\">and</span>"
            ]
          },
          "metadata": {}
        },
        {
          "output_type": "stream",
          "name": "stdout",
          "text": [
            "char:   \t57.92%\n",
            "spice:   \t10.43%\n",
            "bramble:   \t9.46%\n",
            "toast:   \t5.73%\n",
            "crushed:   \t2.37%\n",
            "--------\n",
            "\n"
          ]
        },
        {
          "output_type": "display_data",
          "data": {
            "text/plain": [
              "<IPython.core.display.HTML object>"
            ],
            "text/html": [
              "<span style=\"background-color:rgba(135,206,250,0.5645576);\">wine</span> <span style=\"background-color:rgba(135,206,250,1.0);\">review</span> <span style=\"background-color:rgba(135,206,250,0.28154418);\">:</span> <span style=\"background-color:rgba(135,206,250,0.3541986);\">germany</span> <span style=\"background-color:rgba(135,206,250,0.4286305);\">:</span> <span style=\"background-color:rgba(135,206,250,0.2524253);\">baden</span> <span style=\"background-color:rgba(135,206,250,0.22916916);\">:</span> <span style=\"background-color:rgba(135,206,250,0.12627637);\">spätburgunder</span> <span style=\"background-color:rgba(135,206,250,0.31045833);\">:</span> <span style=\"background-color:rgba(135,206,250,0.23313768);\">smoke</span> <span style=\"background-color:rgba(135,206,250,0.8078167);\">and</span> <span style=\"background-color:rgba(135,206,250,0.36487186);\">smoke</span>"
            ]
          },
          "metadata": {}
        },
        {
          "output_type": "stream",
          "name": "stdout",
          "text": [
            "notes:   \t65.47%\n",
            "aromas:   \t15.08%\n",
            "tones:   \t7.2%\n",
            "lend:   \t3.14%\n",
            "are:   \t1.92%\n",
            "--------\n",
            "\n"
          ]
        },
        {
          "output_type": "display_data",
          "data": {
            "text/plain": [
              "<IPython.core.display.HTML object>"
            ],
            "text/html": [
              "<span style=\"background-color:rgba(135,206,250,0.4611857);\">wine</span> <span style=\"background-color:rgba(135,206,250,1.0);\">review</span> <span style=\"background-color:rgba(135,206,250,0.38657928);\">:</span> <span style=\"background-color:rgba(135,206,250,0.3940214);\">germany</span> <span style=\"background-color:rgba(135,206,250,0.41912717);\">:</span> <span style=\"background-color:rgba(135,206,250,0.23595965);\">baden</span> <span style=\"background-color:rgba(135,206,250,0.22438149);\">:</span> <span style=\"background-color:rgba(135,206,250,0.17653556);\">spätburgunder</span> <span style=\"background-color:rgba(135,206,250,0.3413551);\">:</span> <span style=\"background-color:rgba(135,206,250,0.45725882);\">smoke</span> <span style=\"background-color:rgba(135,206,250,0.6198225);\">and</span> <span style=\"background-color:rgba(135,206,250,0.80044985);\">smoke</span> <span style=\"background-color:rgba(135,206,250,0.30211863);\">notes</span>"
            ]
          },
          "metadata": {}
        },
        {
          "output_type": "stream",
          "name": "stdout",
          "text": [
            "lend:   \t80.72%\n",
            "add:   \t9.51%\n",
            "accent:   \t3.05%\n",
            "are:   \t2.33%\n",
            "on:   \t1.11%\n",
            "--------\n",
            "\n"
          ]
        },
        {
          "output_type": "display_data",
          "data": {
            "text/plain": [
              "<IPython.core.display.HTML object>"
            ],
            "text/html": [
              "<span style=\"background-color:rgba(135,206,250,0.72617316);\">wine</span> <span style=\"background-color:rgba(135,206,250,1.0);\">review</span> <span style=\"background-color:rgba(135,206,250,0.51932806);\">:</span> <span style=\"background-color:rgba(135,206,250,0.31063816);\">germany</span> <span style=\"background-color:rgba(135,206,250,0.68050253);\">:</span> <span style=\"background-color:rgba(135,206,250,0.33497965);\">baden</span> <span style=\"background-color:rgba(135,206,250,0.24293211);\">:</span> <span style=\"background-color:rgba(135,206,250,0.23227829);\">spätburgunder</span> <span style=\"background-color:rgba(135,206,250,0.30322674);\">:</span> <span style=\"background-color:rgba(135,206,250,0.43668365);\">smoke</span> <span style=\"background-color:rgba(135,206,250,0.49546066);\">and</span> <span style=\"background-color:rgba(135,206,250,0.59115374);\">smoke</span> <span style=\"background-color:rgba(135,206,250,0.55922145);\">notes</span> <span style=\"background-color:rgba(135,206,250,0.46488786);\">lend</span>"
            ]
          },
          "metadata": {}
        },
        {
          "output_type": "stream",
          "name": "stdout",
          "text": [
            "a:   \t88.13%\n",
            "an:   \t6.17%\n",
            "savory:   \t2.88%\n",
            "complexity:   \t1.49%\n",
            "nuance:   \t0.28%\n",
            "--------\n",
            "\n"
          ]
        },
        {
          "output_type": "display_data",
          "data": {
            "text/plain": [
              "<IPython.core.display.HTML object>"
            ],
            "text/html": [
              "<span style=\"background-color:rgba(135,206,250,0.23435754);\">wine</span> <span style=\"background-color:rgba(135,206,250,0.35081324);\">review</span> <span style=\"background-color:rgba(135,206,250,0.19124743);\">:</span> <span style=\"background-color:rgba(135,206,250,0.2715989);\">germany</span> <span style=\"background-color:rgba(135,206,250,0.16094781);\">:</span> <span style=\"background-color:rgba(135,206,250,0.2602558);\">baden</span> <span style=\"background-color:rgba(135,206,250,0.09572051);\">:</span> <span style=\"background-color:rgba(135,206,250,0.18523626);\">spätburgunder</span> <span style=\"background-color:rgba(135,206,250,0.16836174);\">:</span> <span style=\"background-color:rgba(135,206,250,0.22488564);\">smoke</span> <span style=\"background-color:rgba(135,206,250,0.16783659);\">and</span> <span style=\"background-color:rgba(135,206,250,0.288566);\">smoke</span> <span style=\"background-color:rgba(135,206,250,0.31281233);\">notes</span> <span style=\"background-color:rgba(135,206,250,1.0);\">lend</span> <span style=\"background-color:rgba(135,206,250,0.12902415);\">a</span>"
            ]
          },
          "metadata": {}
        },
        {
          "output_type": "stream",
          "name": "stdout",
          "text": [
            "savory:   \t97.33%\n",
            "woodsy:   \t0.8%\n",
            "rustic:   \t0.42%\n",
            "savoriness:   \t0.42%\n",
            "pretty:   \t0.14%\n",
            "--------\n",
            "\n"
          ]
        },
        {
          "output_type": "display_data",
          "data": {
            "text/plain": [
              "<IPython.core.display.HTML object>"
            ],
            "text/html": [
              "<span style=\"background-color:rgba(135,206,250,0.28210866);\">wine</span> <span style=\"background-color:rgba(135,206,250,0.50924057);\">review</span> <span style=\"background-color:rgba(135,206,250,0.18247525);\">:</span> <span style=\"background-color:rgba(135,206,250,0.26260582);\">germany</span> <span style=\"background-color:rgba(135,206,250,0.25062597);\">:</span> <span style=\"background-color:rgba(135,206,250,0.21133761);\">baden</span> <span style=\"background-color:rgba(135,206,250,0.16968592);\">:</span> <span style=\"background-color:rgba(135,206,250,0.20674482);\">spätburgunder</span> <span style=\"background-color:rgba(135,206,250,0.22136128);\">:</span> <span style=\"background-color:rgba(135,206,250,0.1856541);\">smoke</span> <span style=\"background-color:rgba(135,206,250,0.16471316);\">and</span> <span style=\"background-color:rgba(135,206,250,0.18308207);\">smoke</span> <span style=\"background-color:rgba(135,206,250,0.4319638);\">notes</span> <span style=\"background-color:rgba(135,206,250,1.0);\">lend</span> <span style=\"background-color:rgba(135,206,250,0.65363014);\">a</span> <span style=\"background-color:rgba(135,206,250,0.15458953);\">savory</span>"
            ]
          },
          "metadata": {}
        },
        {
          "output_type": "stream",
          "name": "stdout",
          "text": [
            ",:   \t87.66%\n",
            "tone:   \t7.59%\n",
            "edge:   \t3.24%\n",
            "character:   \t0.28%\n",
            "profile:   \t0.19%\n",
            "--------\n",
            "\n"
          ]
        },
        {
          "output_type": "display_data",
          "data": {
            "text/plain": [
              "<IPython.core.display.HTML object>"
            ],
            "text/html": [
              "<span style=\"background-color:rgba(135,206,250,0.3182446);\">wine</span> <span style=\"background-color:rgba(135,206,250,0.64545274);\">review</span> <span style=\"background-color:rgba(135,206,250,0.23403278);\">:</span> <span style=\"background-color:rgba(135,206,250,0.43290266);\">germany</span> <span style=\"background-color:rgba(135,206,250,0.28582096);\">:</span> <span style=\"background-color:rgba(135,206,250,0.32293272);\">baden</span> <span style=\"background-color:rgba(135,206,250,0.16742536);\">:</span> <span style=\"background-color:rgba(135,206,250,0.34722283);\">spätburgunder</span> <span style=\"background-color:rgba(135,206,250,0.25674126);\">:</span> <span style=\"background-color:rgba(135,206,250,0.336112);\">smoke</span> <span style=\"background-color:rgba(135,206,250,0.36845967);\">and</span> <span style=\"background-color:rgba(135,206,250,0.41814122);\">smoke</span> <span style=\"background-color:rgba(135,206,250,0.37562293);\">notes</span> <span style=\"background-color:rgba(135,206,250,1.0);\">lend</span> <span style=\"background-color:rgba(135,206,250,0.54234576);\">a</span> <span style=\"background-color:rgba(135,206,250,0.88339967);\">savory</span> <span style=\"background-color:rgba(135,206,250,0.40043864);\">,</span>"
            ]
          },
          "metadata": {}
        },
        {
          "output_type": "stream",
          "name": "stdout",
          "text": [
            "savory:   \t83.21%\n",
            "earthy:   \t3.63%\n",
            "bramble:   \t3.05%\n",
            "woodsy:   \t2.55%\n",
            "black:   \t1.17%\n",
            "--------\n",
            "\n"
          ]
        },
        {
          "output_type": "display_data",
          "data": {
            "text/plain": [
              "<IPython.core.display.HTML object>"
            ],
            "text/html": [
              "<span style=\"background-color:rgba(135,206,250,0.42537367);\">wine</span> <span style=\"background-color:rgba(135,206,250,0.9237787);\">review</span> <span style=\"background-color:rgba(135,206,250,0.24232337);\">:</span> <span style=\"background-color:rgba(135,206,250,0.41986275);\">germany</span> <span style=\"background-color:rgba(135,206,250,0.38438657);\">:</span> <span style=\"background-color:rgba(135,206,250,0.30592385);\">baden</span> <span style=\"background-color:rgba(135,206,250,0.23876522);\">:</span> <span style=\"background-color:rgba(135,206,250,0.31420383);\">spätburgunder</span> <span style=\"background-color:rgba(135,206,250,0.30927864);\">:</span> <span style=\"background-color:rgba(135,206,250,0.2442142);\">smoke</span> <span style=\"background-color:rgba(135,206,250,0.20898579);\">and</span> <span style=\"background-color:rgba(135,206,250,0.21988235);\">smoke</span> <span style=\"background-color:rgba(135,206,250,0.5141205);\">notes</span> <span style=\"background-color:rgba(135,206,250,1.0);\">lend</span> <span style=\"background-color:rgba(135,206,250,0.73827654);\">a</span> <span style=\"background-color:rgba(135,206,250,0.18143858);\">savory</span> <span style=\"background-color:rgba(135,206,250,0.62245107);\">,</span> <span style=\"background-color:rgba(135,206,250,0.30371493);\">savory</span>"
            ]
          },
          "metadata": {}
        },
        {
          "output_type": "stream",
          "name": "stdout",
          "text": [
            "tone:   \t50.23%\n",
            ",:   \t36.93%\n",
            "edge:   \t4.59%\n",
            "profile:   \t3.51%\n",
            "nose:   \t1.99%\n",
            "--------\n",
            "\n"
          ]
        },
        {
          "output_type": "display_data",
          "data": {
            "text/plain": [
              "<IPython.core.display.HTML object>"
            ],
            "text/html": [
              "<span style=\"background-color:rgba(135,206,250,0.29517192);\">wine</span> <span style=\"background-color:rgba(135,206,250,0.77295274);\">review</span> <span style=\"background-color:rgba(135,206,250,0.12273687);\">:</span> <span style=\"background-color:rgba(135,206,250,0.16227324);\">germany</span> <span style=\"background-color:rgba(135,206,250,0.29641476);\">:</span> <span style=\"background-color:rgba(135,206,250,0.07883687);\">baden</span> <span style=\"background-color:rgba(135,206,250,0.12642105);\">:</span> <span style=\"background-color:rgba(135,206,250,0.07723251);\">spätburgunder</span> <span style=\"background-color:rgba(135,206,250,0.1508151);\">:</span> <span style=\"background-color:rgba(135,206,250,0.09198264);\">smoke</span> <span style=\"background-color:rgba(135,206,250,0.11330448);\">and</span> <span style=\"background-color:rgba(135,206,250,0.10328029);\">smoke</span> <span style=\"background-color:rgba(135,206,250,0.16567902);\">notes</span> <span style=\"background-color:rgba(135,206,250,1.0);\">lend</span> <span style=\"background-color:rgba(135,206,250,0.2789034);\">a</span> <span style=\"background-color:rgba(135,206,250,0.13420264);\">savory</span> <span style=\"background-color:rgba(135,206,250,0.45900092);\">,</span> <span style=\"background-color:rgba(135,206,250,0.2611286);\">savory</span> <span style=\"background-color:rgba(135,206,250,0.2782616);\">tone</span>"
            ]
          },
          "metadata": {}
        },
        {
          "output_type": "stream",
          "name": "stdout",
          "text": [
            "to:   \t100.0%\n",
            "of:   \t0.0%\n",
            "in:   \t0.0%\n",
            "that:   \t0.0%\n",
            "on:   \t0.0%\n",
            "--------\n",
            "\n"
          ]
        },
        {
          "output_type": "display_data",
          "data": {
            "text/plain": [
              "<IPython.core.display.HTML object>"
            ],
            "text/html": [
              "<span style=\"background-color:rgba(135,206,250,0.19118316);\">wine</span> <span style=\"background-color:rgba(135,206,250,0.3910166);\">review</span> <span style=\"background-color:rgba(135,206,250,0.12679201);\">:</span> <span style=\"background-color:rgba(135,206,250,0.20098218);\">germany</span> <span style=\"background-color:rgba(135,206,250,0.18001764);\">:</span> <span style=\"background-color:rgba(135,206,250,0.16734706);\">baden</span> <span style=\"background-color:rgba(135,206,250,0.096098475);\">:</span> <span style=\"background-color:rgba(135,206,250,0.1656969);\">spätburgunder</span> <span style=\"background-color:rgba(135,206,250,0.114223935);\">:</span> <span style=\"background-color:rgba(135,206,250,0.08855346);\">smoke</span> <span style=\"background-color:rgba(135,206,250,0.07684663);\">and</span> <span style=\"background-color:rgba(135,206,250,0.08596447);\">smoke</span> <span style=\"background-color:rgba(135,206,250,0.09488909);\">notes</span> <span style=\"background-color:rgba(135,206,250,0.30376685);\">lend</span> <span style=\"background-color:rgba(135,206,250,0.11863732);\">a</span> <span style=\"background-color:rgba(135,206,250,0.11718743);\">savory</span> <span style=\"background-color:rgba(135,206,250,0.20286961);\">,</span> <span style=\"background-color:rgba(135,206,250,0.18369338);\">savory</span> <span style=\"background-color:rgba(135,206,250,1.0);\">tone</span> <span style=\"background-color:rgba(135,206,250,0.120514706);\">to</span>"
            ]
          },
          "metadata": {}
        },
        {
          "output_type": "stream",
          "name": "stdout",
          "text": [
            "this:   \t77.68%\n",
            "ripe:   \t6.36%\n",
            "black:   \t3.95%\n",
            "fresh:   \t3.95%\n",
            "the:   \t2.47%\n",
            "--------\n",
            "\n"
          ]
        },
        {
          "output_type": "display_data",
          "data": {
            "text/plain": [
              "<IPython.core.display.HTML object>"
            ],
            "text/html": [
              "<span style=\"background-color:rgba(135,206,250,0.5824385);\">wine</span> <span style=\"background-color:rgba(135,206,250,1.0);\">review</span> <span style=\"background-color:rgba(135,206,250,0.25164372);\">:</span> <span style=\"background-color:rgba(135,206,250,0.5188616);\">germany</span> <span style=\"background-color:rgba(135,206,250,0.53956324);\">:</span> <span style=\"background-color:rgba(135,206,250,0.5375857);\">baden</span> <span style=\"background-color:rgba(135,206,250,0.23053157);\">:</span> <span style=\"background-color:rgba(135,206,250,0.5396821);\">spätburgunder</span> <span style=\"background-color:rgba(135,206,250,0.3562931);\">:</span> <span style=\"background-color:rgba(135,206,250,0.25725782);\">smoke</span> <span style=\"background-color:rgba(135,206,250,0.1478638);\">and</span> <span style=\"background-color:rgba(135,206,250,0.19818178);\">smoke</span> <span style=\"background-color:rgba(135,206,250,0.26605394);\">notes</span> <span style=\"background-color:rgba(135,206,250,0.36575934);\">lend</span> <span style=\"background-color:rgba(135,206,250,0.1438516);\">a</span> <span style=\"background-color:rgba(135,206,250,0.18070652);\">savory</span> <span style=\"background-color:rgba(135,206,250,0.52090603);\">,</span> <span style=\"background-color:rgba(135,206,250,0.23916917);\">savory</span> <span style=\"background-color:rgba(135,206,250,0.508987);\">tone</span> <span style=\"background-color:rgba(135,206,250,0.9440415);\">to</span> <span style=\"background-color:rgba(135,206,250,0.34318182);\">this</span>"
            ]
          },
          "metadata": {}
        },
        {
          "output_type": "stream",
          "name": "stdout",
          "text": [
            "wine:   \t25.36%\n",
            "full:   \t22.82%\n",
            "pinot:   \t14.1%\n",
            "bold:   \t7.53%\n",
            "ripe:   \t4.54%\n",
            "--------\n",
            "\n"
          ]
        },
        {
          "output_type": "display_data",
          "data": {
            "text/plain": [
              "<IPython.core.display.HTML object>"
            ],
            "text/html": [
              "<span style=\"background-color:rgba(135,206,250,0.33123547);\">wine</span> <span style=\"background-color:rgba(135,206,250,0.8337699);\">review</span> <span style=\"background-color:rgba(135,206,250,0.22870407);\">:</span> <span style=\"background-color:rgba(135,206,250,0.23970024);\">germany</span> <span style=\"background-color:rgba(135,206,250,0.3005018);\">:</span> <span style=\"background-color:rgba(135,206,250,0.18481581);\">baden</span> <span style=\"background-color:rgba(135,206,250,0.21586396);\">:</span> <span style=\"background-color:rgba(135,206,250,0.29317042);\">spätburgunder</span> <span style=\"background-color:rgba(135,206,250,0.38810718);\">:</span> <span style=\"background-color:rgba(135,206,250,0.33716562);\">smoke</span> <span style=\"background-color:rgba(135,206,250,0.21947105);\">and</span> <span style=\"background-color:rgba(135,206,250,0.11664089);\">smoke</span> <span style=\"background-color:rgba(135,206,250,0.18156922);\">notes</span> <span style=\"background-color:rgba(135,206,250,0.3433751);\">lend</span> <span style=\"background-color:rgba(135,206,250,0.180027);\">a</span> <span style=\"background-color:rgba(135,206,250,0.07790751);\">savory</span> <span style=\"background-color:rgba(135,206,250,0.17691281);\">,</span> <span style=\"background-color:rgba(135,206,250,0.10948894);\">savory</span> <span style=\"background-color:rgba(135,206,250,0.41209793);\">tone</span> <span style=\"background-color:rgba(135,206,250,0.36171067);\">to</span> <span style=\"background-color:rgba(135,206,250,1.0);\">this</span> <span style=\"background-color:rgba(135,206,250,0.25517678);\">pinot</span>"
            ]
          },
          "metadata": {}
        },
        {
          "output_type": "stream",
          "name": "stdout",
          "text": [
            "noir:   \t98.23%\n",
            ".:   \t0.83%\n",
            ",:   \t0.72%\n",
            "that:   \t0.17%\n",
            "is:   \t0.02%\n",
            "--------\n",
            "\n"
          ]
        },
        {
          "output_type": "display_data",
          "data": {
            "text/plain": [
              "<IPython.core.display.HTML object>"
            ],
            "text/html": [
              "<span style=\"background-color:rgba(135,206,250,0.40849358);\">wine</span> <span style=\"background-color:rgba(135,206,250,0.9600875);\">review</span> <span style=\"background-color:rgba(135,206,250,0.1641788);\">:</span> <span style=\"background-color:rgba(135,206,250,0.25496918);\">germany</span> <span style=\"background-color:rgba(135,206,250,0.30139676);\">:</span> <span style=\"background-color:rgba(135,206,250,0.12592846);\">baden</span> <span style=\"background-color:rgba(135,206,250,0.21577115);\">:</span> <span style=\"background-color:rgba(135,206,250,0.16262053);\">spätburgunder</span> <span style=\"background-color:rgba(135,206,250,0.33456862);\">:</span> <span style=\"background-color:rgba(135,206,250,0.14684114);\">smoke</span> <span style=\"background-color:rgba(135,206,250,0.1294535);\">and</span> <span style=\"background-color:rgba(135,206,250,0.08491845);\">smoke</span> <span style=\"background-color:rgba(135,206,250,0.21292496);\">notes</span> <span style=\"background-color:rgba(135,206,250,0.6218202);\">lend</span> <span style=\"background-color:rgba(135,206,250,0.22014968);\">a</span> <span style=\"background-color:rgba(135,206,250,0.08055487);\">savory</span> <span style=\"background-color:rgba(135,206,250,0.1620709);\">,</span> <span style=\"background-color:rgba(135,206,250,0.123561956);\">savory</span> <span style=\"background-color:rgba(135,206,250,0.34047386);\">tone</span> <span style=\"background-color:rgba(135,206,250,0.52633864);\">to</span> <span style=\"background-color:rgba(135,206,250,1.0);\">this</span> <span style=\"background-color:rgba(135,206,250,0.26464087);\">pinot</span> <span style=\"background-color:rgba(135,206,250,0.21990368);\">noir</span>"
            ]
          },
          "metadata": {}
        },
        {
          "output_type": "stream",
          "name": "stdout",
          "text": [
            ".:   \t90.65%\n",
            ",:   \t8.67%\n",
            "that:   \t0.44%\n",
            "from:   \t0.08%\n",
            "rosé:   \t0.04%\n",
            "--------\n",
            "\n"
          ]
        },
        {
          "output_type": "display_data",
          "data": {
            "text/plain": [
              "<IPython.core.display.HTML object>"
            ],
            "text/html": [
              "<span style=\"background-color:rgba(135,206,250,0.51207274);\">wine</span> <span style=\"background-color:rgba(135,206,250,1.0);\">review</span> <span style=\"background-color:rgba(135,206,250,0.1390227);\">:</span> <span style=\"background-color:rgba(135,206,250,0.40386483);\">germany</span> <span style=\"background-color:rgba(135,206,250,0.88160384);\">:</span> <span style=\"background-color:rgba(135,206,250,0.21704072);\">baden</span> <span style=\"background-color:rgba(135,206,250,0.23469013);\">:</span> <span style=\"background-color:rgba(135,206,250,0.28760704);\">spätburgunder</span> <span style=\"background-color:rgba(135,206,250,0.20892312);\">:</span> <span style=\"background-color:rgba(135,206,250,0.12249878);\">smoke</span> <span style=\"background-color:rgba(135,206,250,0.10395711);\">and</span> <span style=\"background-color:rgba(135,206,250,0.1268184);\">smoke</span> <span style=\"background-color:rgba(135,206,250,0.17759006);\">notes</span> <span style=\"background-color:rgba(135,206,250,0.20566568);\">lend</span> <span style=\"background-color:rgba(135,206,250,0.086052924);\">a</span> <span style=\"background-color:rgba(135,206,250,0.10263762);\">savory</span> <span style=\"background-color:rgba(135,206,250,0.09958316);\">,</span> <span style=\"background-color:rgba(135,206,250,0.11056905);\">savory</span> <span style=\"background-color:rgba(135,206,250,0.18233019);\">tone</span> <span style=\"background-color:rgba(135,206,250,0.09590332);\">to</span> <span style=\"background-color:rgba(135,206,250,0.3028644);\">this</span> <span style=\"background-color:rgba(135,206,250,0.1341462);\">pinot</span> <span style=\"background-color:rgba(135,206,250,0.20290634);\">noir</span> <span style=\"background-color:rgba(135,206,250,0.3401822);\">.</span>"
            ]
          },
          "metadata": {}
        },
        {
          "output_type": "stream",
          "name": "stdout",
          "text": [
            "it:   \t41.68%\n",
            "the:   \t35.94%\n",
            "black:   \t3.81%\n",
            "tart:   \t2.57%\n",
            "while:   \t1.92%\n",
            "--------\n",
            "\n"
          ]
        },
        {
          "output_type": "display_data",
          "data": {
            "text/plain": [
              "<IPython.core.display.HTML object>"
            ],
            "text/html": [
              "<span style=\"background-color:rgba(135,206,250,0.19166347);\">wine</span> <span style=\"background-color:rgba(135,206,250,0.28760403);\">review</span> <span style=\"background-color:rgba(135,206,250,0.14702563);\">:</span> <span style=\"background-color:rgba(135,206,250,0.25326094);\">germany</span> <span style=\"background-color:rgba(135,206,250,0.13806513);\">:</span> <span style=\"background-color:rgba(135,206,250,0.17865814);\">baden</span> <span style=\"background-color:rgba(135,206,250,0.07832096);\">:</span> <span style=\"background-color:rgba(135,206,250,0.17236866);\">spätburgunder</span> <span style=\"background-color:rgba(135,206,250,0.10608735);\">:</span> <span style=\"background-color:rgba(135,206,250,0.1002595);\">smoke</span> <span style=\"background-color:rgba(135,206,250,0.04471966);\">and</span> <span style=\"background-color:rgba(135,206,250,0.09481774);\">smoke</span> <span style=\"background-color:rgba(135,206,250,0.1334722);\">notes</span> <span style=\"background-color:rgba(135,206,250,0.08404962);\">lend</span> <span style=\"background-color:rgba(135,206,250,0.03290092);\">a</span> <span style=\"background-color:rgba(135,206,250,0.07845374);\">savory</span> <span style=\"background-color:rgba(135,206,250,0.07772121);\">,</span> <span style=\"background-color:rgba(135,206,250,0.08966141);\">savory</span> <span style=\"background-color:rgba(135,206,250,0.1576689);\">tone</span> <span style=\"background-color:rgba(135,206,250,0.11559571);\">to</span> <span style=\"background-color:rgba(135,206,250,0.15319024);\">this</span> <span style=\"background-color:rgba(135,206,250,0.24162994);\">pinot</span> <span style=\"background-color:rgba(135,206,250,0.2176257);\">noir</span> <span style=\"background-color:rgba(135,206,250,1.0);\">.</span> <span style=\"background-color:rgba(135,206,250,0.13297537);\">the</span>"
            ]
          },
          "metadata": {}
        },
        {
          "output_type": "stream",
          "name": "stdout",
          "text": [
            "palate:   \t99.16%\n",
            "wine:   \t0.45%\n",
            "flavors:   \t0.1%\n",
            "cherry:   \t0.05%\n",
            "cranberry:   \t0.05%\n",
            "--------\n",
            "\n"
          ]
        },
        {
          "output_type": "display_data",
          "data": {
            "text/plain": [
              "<IPython.core.display.HTML object>"
            ],
            "text/html": [
              "<span style=\"background-color:rgba(135,206,250,0.16442765);\">wine</span> <span style=\"background-color:rgba(135,206,250,0.5142638);\">review</span> <span style=\"background-color:rgba(135,206,250,0.11231015);\">:</span> <span style=\"background-color:rgba(135,206,250,0.24123733);\">germany</span> <span style=\"background-color:rgba(135,206,250,0.18461116);\">:</span> <span style=\"background-color:rgba(135,206,250,0.063519634);\">baden</span> <span style=\"background-color:rgba(135,206,250,0.08611364);\">:</span> <span style=\"background-color:rgba(135,206,250,0.062025238);\">spätburgunder</span> <span style=\"background-color:rgba(135,206,250,0.09379725);\">:</span> <span style=\"background-color:rgba(135,206,250,0.044729877);\">smoke</span> <span style=\"background-color:rgba(135,206,250,0.04759142);\">and</span> <span style=\"background-color:rgba(135,206,250,0.040776167);\">smoke</span> <span style=\"background-color:rgba(135,206,250,0.07324828);\">notes</span> <span style=\"background-color:rgba(135,206,250,0.19352444);\">lend</span> <span style=\"background-color:rgba(135,206,250,0.07311332);\">a</span> <span style=\"background-color:rgba(135,206,250,0.033278894);\">savory</span> <span style=\"background-color:rgba(135,206,250,0.055001337);\">,</span> <span style=\"background-color:rgba(135,206,250,0.03820923);\">savory</span> <span style=\"background-color:rgba(135,206,250,0.11446073);\">tone</span> <span style=\"background-color:rgba(135,206,250,0.12011189);\">to</span> <span style=\"background-color:rgba(135,206,250,0.17162098);\">this</span> <span style=\"background-color:rgba(135,206,250,0.07997705);\">pinot</span> <span style=\"background-color:rgba(135,206,250,0.10983925);\">noir</span> <span style=\"background-color:rgba(135,206,250,1.0);\">.</span> <span style=\"background-color:rgba(135,206,250,0.28816077);\">the</span> <span style=\"background-color:rgba(135,206,250,0.16606213);\">palate</span>"
            ]
          },
          "metadata": {}
        },
        {
          "output_type": "stream",
          "name": "stdout",
          "text": [
            "is:   \t98.76%\n",
            "offers:   \t0.65%\n",
            "boasts:   \t0.2%\n",
            "has:   \t0.18%\n",
            "shows:   \t0.09%\n",
            "--------\n",
            "\n"
          ]
        },
        {
          "output_type": "display_data",
          "data": {
            "text/plain": [
              "<IPython.core.display.HTML object>"
            ],
            "text/html": [
              "<span style=\"background-color:rgba(135,206,250,0.34961256);\">wine</span> <span style=\"background-color:rgba(135,206,250,0.63551545);\">review</span> <span style=\"background-color:rgba(135,206,250,0.29891202);\">:</span> <span style=\"background-color:rgba(135,206,250,0.4630383);\">germany</span> <span style=\"background-color:rgba(135,206,250,0.5348281);\">:</span> <span style=\"background-color:rgba(135,206,250,0.26794705);\">baden</span> <span style=\"background-color:rgba(135,206,250,0.16443107);\">:</span> <span style=\"background-color:rgba(135,206,250,0.26052606);\">spätburgunder</span> <span style=\"background-color:rgba(135,206,250,0.22802053);\">:</span> <span style=\"background-color:rgba(135,206,250,0.13985732);\">smoke</span> <span style=\"background-color:rgba(135,206,250,0.11764467);\">and</span> <span style=\"background-color:rgba(135,206,250,0.12972966);\">smoke</span> <span style=\"background-color:rgba(135,206,250,0.12175772);\">notes</span> <span style=\"background-color:rgba(135,206,250,0.14333712);\">lend</span> <span style=\"background-color:rgba(135,206,250,0.054674584);\">a</span> <span style=\"background-color:rgba(135,206,250,0.12650128);\">savory</span> <span style=\"background-color:rgba(135,206,250,0.10268175);\">,</span> <span style=\"background-color:rgba(135,206,250,0.13154796);\">savory</span> <span style=\"background-color:rgba(135,206,250,0.21972023);\">tone</span> <span style=\"background-color:rgba(135,206,250,0.104328625);\">to</span> <span style=\"background-color:rgba(135,206,250,0.25342727);\">this</span> <span style=\"background-color:rgba(135,206,250,0.21453126);\">pinot</span> <span style=\"background-color:rgba(135,206,250,0.14604045);\">noir</span> <span style=\"background-color:rgba(135,206,250,0.7999678);\">.</span> <span style=\"background-color:rgba(135,206,250,0.532499);\">the</span> <span style=\"background-color:rgba(135,206,250,1.0);\">palate</span> <span style=\"background-color:rgba(135,206,250,0.36956832);\">is</span>"
            ]
          },
          "metadata": {}
        },
        {
          "output_type": "stream",
          "name": "stdout",
          "text": [
            "juicy:   \t24.1%\n",
            "fresh:   \t8.64%\n",
            "brisk:   \t6.28%\n",
            "bright:   \t5.73%\n",
            "dry:   \t5.37%\n",
            "--------\n",
            "\n"
          ]
        },
        {
          "output_type": "display_data",
          "data": {
            "text/plain": [
              "<IPython.core.display.HTML object>"
            ],
            "text/html": [
              "<span style=\"background-color:rgba(135,206,250,0.35185757);\">wine</span> <span style=\"background-color:rgba(135,206,250,0.56689364);\">review</span> <span style=\"background-color:rgba(135,206,250,0.2566683);\">:</span> <span style=\"background-color:rgba(135,206,250,0.5163412);\">germany</span> <span style=\"background-color:rgba(135,206,250,0.24975027);\">:</span> <span style=\"background-color:rgba(135,206,250,0.3591328);\">baden</span> <span style=\"background-color:rgba(135,206,250,0.13320032);\">:</span> <span style=\"background-color:rgba(135,206,250,0.36706328);\">spätburgunder</span> <span style=\"background-color:rgba(135,206,250,0.20944391);\">:</span> <span style=\"background-color:rgba(135,206,250,0.16940936);\">smoke</span> <span style=\"background-color:rgba(135,206,250,0.089969225);\">and</span> <span style=\"background-color:rgba(135,206,250,0.14963327);\">smoke</span> <span style=\"background-color:rgba(135,206,250,0.15652163);\">notes</span> <span style=\"background-color:rgba(135,206,250,0.13650973);\">lend</span> <span style=\"background-color:rgba(135,206,250,0.03686095);\">a</span> <span style=\"background-color:rgba(135,206,250,0.13656856);\">savory</span> <span style=\"background-color:rgba(135,206,250,0.10457235);\">,</span> <span style=\"background-color:rgba(135,206,250,0.14791712);\">savory</span> <span style=\"background-color:rgba(135,206,250,0.23220134);\">tone</span> <span style=\"background-color:rgba(135,206,250,0.13129699);\">to</span> <span style=\"background-color:rgba(135,206,250,0.2244101);\">this</span> <span style=\"background-color:rgba(135,206,250,0.2372299);\">pinot</span> <span style=\"background-color:rgba(135,206,250,0.20849513);\">noir</span> <span style=\"background-color:rgba(135,206,250,0.9085414);\">.</span> <span style=\"background-color:rgba(135,206,250,0.34545);\">the</span> <span style=\"background-color:rgba(135,206,250,1.0);\">palate</span> <span style=\"background-color:rgba(135,206,250,0.7628147);\">is</span> <span style=\"background-color:rgba(135,206,250,0.3658854);\">a</span>"
            ]
          },
          "metadata": {}
        },
        {
          "output_type": "stream",
          "name": "stdout",
          "text": [
            "bit:   \t95.74%\n",
            "shade:   \t1.57%\n",
            "bold:   \t0.37%\n",
            "refreshingly:   \t0.37%\n",
            "bright:   \t0.15%\n",
            "--------\n",
            "\n"
          ]
        },
        {
          "output_type": "display_data",
          "data": {
            "text/plain": [
              "<IPython.core.display.HTML object>"
            ],
            "text/html": [
              "<span style=\"background-color:rgba(135,206,250,0.40277225);\">wine</span> <span style=\"background-color:rgba(135,206,250,0.78053194);\">review</span> <span style=\"background-color:rgba(135,206,250,0.5715599);\">:</span> <span style=\"background-color:rgba(135,206,250,0.48042572);\">germany</span> <span style=\"background-color:rgba(135,206,250,0.51371443);\">:</span> <span style=\"background-color:rgba(135,206,250,0.31695437);\">baden</span> <span style=\"background-color:rgba(135,206,250,0.20507972);\">:</span> <span style=\"background-color:rgba(135,206,250,0.36737436);\">spätburgunder</span> <span style=\"background-color:rgba(135,206,250,0.3085124);\">:</span> <span style=\"background-color:rgba(135,206,250,0.13883404);\">smoke</span> <span style=\"background-color:rgba(135,206,250,0.12570016);\">and</span> <span style=\"background-color:rgba(135,206,250,0.10167881);\">smoke</span> <span style=\"background-color:rgba(135,206,250,0.08313579);\">notes</span> <span style=\"background-color:rgba(135,206,250,0.14262466);\">lend</span> <span style=\"background-color:rgba(135,206,250,0.042277683);\">a</span> <span style=\"background-color:rgba(135,206,250,0.14375731);\">savory</span> <span style=\"background-color:rgba(135,206,250,0.11297823);\">,</span> <span style=\"background-color:rgba(135,206,250,0.1638442);\">savory</span> <span style=\"background-color:rgba(135,206,250,0.14126278);\">tone</span> <span style=\"background-color:rgba(135,206,250,0.12984261);\">to</span> <span style=\"background-color:rgba(135,206,250,0.18473347);\">this</span> <span style=\"background-color:rgba(135,206,250,0.19899939);\">pinot</span> <span style=\"background-color:rgba(135,206,250,0.22518876);\">noir</span> <span style=\"background-color:rgba(135,206,250,0.97439086);\">.</span> <span style=\"background-color:rgba(135,206,250,0.34774393);\">the</span> <span style=\"background-color:rgba(135,206,250,0.79157466);\">palate</span> <span style=\"background-color:rgba(135,206,250,1.0);\">is</span> <span style=\"background-color:rgba(135,206,250,0.80612);\">a</span> <span style=\"background-color:rgba(135,206,250,0.35427067);\">bit</span>"
            ]
          },
          "metadata": {}
        },
        {
          "output_type": "stream",
          "name": "stdout",
          "text": [
            "lean:   \t44.57%\n",
            "thin:   \t8.15%\n",
            "soft:   \t6.8%\n",
            "sour:   \t5.07%\n",
            "tart:   \t4.65%\n",
            "--------\n",
            "\n"
          ]
        },
        {
          "output_type": "display_data",
          "data": {
            "text/plain": [
              "<IPython.core.display.HTML object>"
            ],
            "text/html": [
              "<span style=\"background-color:rgba(135,206,250,0.40744284);\">wine</span> <span style=\"background-color:rgba(135,206,250,0.6383115);\">review</span> <span style=\"background-color:rgba(135,206,250,0.29065374);\">:</span> <span style=\"background-color:rgba(135,206,250,0.35281217);\">germany</span> <span style=\"background-color:rgba(135,206,250,0.29524443);\">:</span> <span style=\"background-color:rgba(135,206,250,0.24404596);\">baden</span> <span style=\"background-color:rgba(135,206,250,0.2036803);\">:</span> <span style=\"background-color:rgba(135,206,250,0.47508532);\">spätburgunder</span> <span style=\"background-color:rgba(135,206,250,0.22506683);\">:</span> <span style=\"background-color:rgba(135,206,250,0.092092596);\">smoke</span> <span style=\"background-color:rgba(135,206,250,0.12628198);\">and</span> <span style=\"background-color:rgba(135,206,250,0.06045971);\">smoke</span> <span style=\"background-color:rgba(135,206,250,0.09431672);\">notes</span> <span style=\"background-color:rgba(135,206,250,0.11756111);\">lend</span> <span style=\"background-color:rgba(135,206,250,0.05970387);\">a</span> <span style=\"background-color:rgba(135,206,250,0.057780758);\">savory</span> <span style=\"background-color:rgba(135,206,250,0.086657785);\">,</span> <span style=\"background-color:rgba(135,206,250,0.060745142);\">savory</span> <span style=\"background-color:rgba(135,206,250,0.14013568);\">tone</span> <span style=\"background-color:rgba(135,206,250,0.12972772);\">to</span> <span style=\"background-color:rgba(135,206,250,0.16128995);\">this</span> <span style=\"background-color:rgba(135,206,250,0.1392484);\">pinot</span> <span style=\"background-color:rgba(135,206,250,0.13554731);\">noir</span> <span style=\"background-color:rgba(135,206,250,0.5290303);\">.</span> <span style=\"background-color:rgba(135,206,250,0.26185822);\">the</span> <span style=\"background-color:rgba(135,206,250,0.5304949);\">palate</span> <span style=\"background-color:rgba(135,206,250,0.7994574);\">is</span> <span style=\"background-color:rgba(135,206,250,0.7880912);\">a</span> <span style=\"background-color:rgba(135,206,250,1.0);\">bit</span> <span style=\"background-color:rgba(135,206,250,0.29986852);\">sharp</span>"
            ]
          },
          "metadata": {}
        },
        {
          "output_type": "stream",
          "name": "stdout",
          "text": [
            ",:   \t42.37%\n",
            "in:   \t34.5%\n",
            "and:   \t20.37%\n",
            "on:   \t1.91%\n",
            "with:   \t0.33%\n",
            "--------\n",
            "\n"
          ]
        },
        {
          "output_type": "display_data",
          "data": {
            "text/plain": [
              "<IPython.core.display.HTML object>"
            ],
            "text/html": [
              "<span style=\"background-color:rgba(135,206,250,0.17483196);\">wine</span> <span style=\"background-color:rgba(135,206,250,0.31135505);\">review</span> <span style=\"background-color:rgba(135,206,250,0.2533416);\">:</span> <span style=\"background-color:rgba(135,206,250,0.37648776);\">germany</span> <span style=\"background-color:rgba(135,206,250,0.17403866);\">:</span> <span style=\"background-color:rgba(135,206,250,0.20848256);\">baden</span> <span style=\"background-color:rgba(135,206,250,0.108580574);\">:</span> <span style=\"background-color:rgba(135,206,250,0.21009187);\">spätburgunder</span> <span style=\"background-color:rgba(135,206,250,0.13115013);\">:</span> <span style=\"background-color:rgba(135,206,250,0.10000635);\">smoke</span> <span style=\"background-color:rgba(135,206,250,0.05066518);\">and</span> <span style=\"background-color:rgba(135,206,250,0.081601985);\">smoke</span> <span style=\"background-color:rgba(135,206,250,0.08314543);\">notes</span> <span style=\"background-color:rgba(135,206,250,0.07535394);\">lend</span> <span style=\"background-color:rgba(135,206,250,0.0320214);\">a</span> <span style=\"background-color:rgba(135,206,250,0.08237686);\">savory</span> <span style=\"background-color:rgba(135,206,250,0.056601077);\">,</span> <span style=\"background-color:rgba(135,206,250,0.08867606);\">savory</span> <span style=\"background-color:rgba(135,206,250,0.10494626);\">tone</span> <span style=\"background-color:rgba(135,206,250,0.04509602);\">to</span> <span style=\"background-color:rgba(135,206,250,0.097869806);\">this</span> <span style=\"background-color:rgba(135,206,250,0.08153916);\">pinot</span> <span style=\"background-color:rgba(135,206,250,0.08900106);\">noir</span> <span style=\"background-color:rgba(135,206,250,0.3143385);\">.</span> <span style=\"background-color:rgba(135,206,250,0.15959375);\">the</span> <span style=\"background-color:rgba(135,206,250,0.3307161);\">palate</span> <span style=\"background-color:rgba(135,206,250,0.28417113);\">is</span> <span style=\"background-color:rgba(135,206,250,0.3784746);\">a</span> <span style=\"background-color:rgba(135,206,250,0.5038787);\">bit</span> <span style=\"background-color:rgba(135,206,250,1.0);\">sharp</span> <span style=\"background-color:rgba(135,206,250,0.35547203);\">and</span>"
            ]
          },
          "metadata": {}
        },
        {
          "output_type": "stream",
          "name": "stdout",
          "text": [
            "acidic:   \t52.8%\n",
            "tart:   \t10.75%\n",
            "angular:   \t8.26%\n",
            "edgy:   \t3.87%\n",
            "astringent:   \t3.3%\n",
            "--------\n",
            "\n"
          ]
        },
        {
          "output_type": "display_data",
          "data": {
            "text/plain": [
              "<IPython.core.display.HTML object>"
            ],
            "text/html": [
              "<span style=\"background-color:rgba(135,206,250,0.56831956);\">wine</span> <span style=\"background-color:rgba(135,206,250,1.0);\">review</span> <span style=\"background-color:rgba(135,206,250,0.3109425);\">:</span> <span style=\"background-color:rgba(135,206,250,0.24514185);\">germany</span> <span style=\"background-color:rgba(135,206,250,0.4769618);\">:</span> <span style=\"background-color:rgba(135,206,250,0.13642454);\">baden</span> <span style=\"background-color:rgba(135,206,250,0.26911175);\">:</span> <span style=\"background-color:rgba(135,206,250,0.21043153);\">spätburgunder</span> <span style=\"background-color:rgba(135,206,250,0.25228631);\">:</span> <span style=\"background-color:rgba(135,206,250,0.07438095);\">smoke</span> <span style=\"background-color:rgba(135,206,250,0.07783586);\">and</span> <span style=\"background-color:rgba(135,206,250,0.056487646);\">smoke</span> <span style=\"background-color:rgba(135,206,250,0.118737444);\">notes</span> <span style=\"background-color:rgba(135,206,250,0.15309978);\">lend</span> <span style=\"background-color:rgba(135,206,250,0.11776044);\">a</span> <span style=\"background-color:rgba(135,206,250,0.04087072);\">savory</span> <span style=\"background-color:rgba(135,206,250,0.09155257);\">,</span> <span style=\"background-color:rgba(135,206,250,0.042162683);\">savory</span> <span style=\"background-color:rgba(135,206,250,0.11104104);\">tone</span> <span style=\"background-color:rgba(135,206,250,0.11062282);\">to</span> <span style=\"background-color:rgba(135,206,250,0.18299574);\">this</span> <span style=\"background-color:rgba(135,206,250,0.09284982);\">pinot</span> <span style=\"background-color:rgba(135,206,250,0.09853398);\">noir</span> <span style=\"background-color:rgba(135,206,250,0.45174953);\">.</span> <span style=\"background-color:rgba(135,206,250,0.2714646);\">the</span> <span style=\"background-color:rgba(135,206,250,0.35015082);\">palate</span> <span style=\"background-color:rgba(135,206,250,0.5290159);\">is</span> <span style=\"background-color:rgba(135,206,250,0.7882541);\">a</span> <span style=\"background-color:rgba(135,206,250,0.82902783);\">bit</span> <span style=\"background-color:rgba(135,206,250,0.31688955);\">sharp</span> <span style=\"background-color:rgba(135,206,250,0.7931178);\">and</span> <span style=\"background-color:rgba(135,206,250,0.68385446);\">unrefined</span>"
            ]
          },
          "metadata": {}
        },
        {
          "output_type": "stream",
          "name": "stdout",
          "text": [
            ",:   \t90.03%\n",
            ".:   \t9.91%\n",
            "in:   \t0.02%\n",
            "now:   \t0.02%\n",
            "on:   \t0.01%\n",
            "--------\n",
            "\n"
          ]
        },
        {
          "output_type": "display_data",
          "data": {
            "text/plain": [
              "<IPython.core.display.HTML object>"
            ],
            "text/html": [
              "<span style=\"background-color:rgba(135,206,250,0.1664589);\">wine</span> <span style=\"background-color:rgba(135,206,250,0.30089858);\">review</span> <span style=\"background-color:rgba(135,206,250,0.18623316);\">:</span> <span style=\"background-color:rgba(135,206,250,0.3345959);\">germany</span> <span style=\"background-color:rgba(135,206,250,0.13872941);\">:</span> <span style=\"background-color:rgba(135,206,250,0.16675468);\">baden</span> <span style=\"background-color:rgba(135,206,250,0.092803635);\">:</span> <span style=\"background-color:rgba(135,206,250,0.21703584);\">spätburgunder</span> <span style=\"background-color:rgba(135,206,250,0.117210016);\">:</span> <span style=\"background-color:rgba(135,206,250,0.06716488);\">smoke</span> <span style=\"background-color:rgba(135,206,250,0.05396481);\">and</span> <span style=\"background-color:rgba(135,206,250,0.05477006);\">smoke</span> <span style=\"background-color:rgba(135,206,250,0.057357654);\">notes</span> <span style=\"background-color:rgba(135,206,250,0.1200349);\">lend</span> <span style=\"background-color:rgba(135,206,250,0.027555387);\">a</span> <span style=\"background-color:rgba(135,206,250,0.051951073);\">savory</span> <span style=\"background-color:rgba(135,206,250,0.032861236);\">,</span> <span style=\"background-color:rgba(135,206,250,0.051969577);\">savory</span> <span style=\"background-color:rgba(135,206,250,0.08013244);\">tone</span> <span style=\"background-color:rgba(135,206,250,0.034455676);\">to</span> <span style=\"background-color:rgba(135,206,250,0.14541472);\">this</span> <span style=\"background-color:rgba(135,206,250,0.054295067);\">pinot</span> <span style=\"background-color:rgba(135,206,250,0.052639965);\">noir</span> <span style=\"background-color:rgba(135,206,250,0.2939538);\">.</span> <span style=\"background-color:rgba(135,206,250,0.07582608);\">the</span> <span style=\"background-color:rgba(135,206,250,0.18572764);\">palate</span> <span style=\"background-color:rgba(135,206,250,0.2823328);\">is</span> <span style=\"background-color:rgba(135,206,250,0.17239419);\">a</span> <span style=\"background-color:rgba(135,206,250,0.38473698);\">bit</span> <span style=\"background-color:rgba(135,206,250,0.38490176);\">sharp</span> <span style=\"background-color:rgba(135,206,250,0.7960142);\">and</span> <span style=\"background-color:rgba(135,206,250,1.0);\">unrefined</span> <span style=\"background-color:rgba(135,206,250,0.33329374);\">,</span>"
            ]
          },
          "metadata": {}
        },
        {
          "output_type": "stream",
          "name": "stdout",
          "text": [
            "but:   \t57.95%\n",
            "with:   \t40.9%\n",
            "yet:   \t0.35%\n",
            "and:   \t0.3%\n",
            "offering:   \t0.18%\n",
            "--------\n",
            "\n"
          ]
        },
        {
          "output_type": "display_data",
          "data": {
            "text/plain": [
              "<IPython.core.display.HTML object>"
            ],
            "text/html": [
              "<span style=\"background-color:rgba(135,206,250,0.45988876);\">wine</span> <span style=\"background-color:rgba(135,206,250,0.6522791);\">review</span> <span style=\"background-color:rgba(135,206,250,0.36691725);\">:</span> <span style=\"background-color:rgba(135,206,250,0.5984504);\">germany</span> <span style=\"background-color:rgba(135,206,250,0.39707035);\">:</span> <span style=\"background-color:rgba(135,206,250,0.18892606);\">baden</span> <span style=\"background-color:rgba(135,206,250,0.30416778);\">:</span> <span style=\"background-color:rgba(135,206,250,0.22652869);\">spätburgunder</span> <span style=\"background-color:rgba(135,206,250,0.19086501);\">:</span> <span style=\"background-color:rgba(135,206,250,0.0900282);\">smoke</span> <span style=\"background-color:rgba(135,206,250,0.07296191);\">and</span> <span style=\"background-color:rgba(135,206,250,0.07847371);\">smoke</span> <span style=\"background-color:rgba(135,206,250,0.11346495);\">notes</span> <span style=\"background-color:rgba(135,206,250,0.15171199);\">lend</span> <span style=\"background-color:rgba(135,206,250,0.053861577);\">a</span> <span style=\"background-color:rgba(135,206,250,0.051215127);\">savory</span> <span style=\"background-color:rgba(135,206,250,0.050957352);\">,</span> <span style=\"background-color:rgba(135,206,250,0.052567948);\">savory</span> <span style=\"background-color:rgba(135,206,250,0.13990048);\">tone</span> <span style=\"background-color:rgba(135,206,250,0.03995697);\">to</span> <span style=\"background-color:rgba(135,206,250,0.12763897);\">this</span> <span style=\"background-color:rgba(135,206,250,0.039334867);\">pinot</span> <span style=\"background-color:rgba(135,206,250,0.06393599);\">noir</span> <span style=\"background-color:rgba(135,206,250,0.2543602);\">.</span> <span style=\"background-color:rgba(135,206,250,0.09509654);\">the</span> <span style=\"background-color:rgba(135,206,250,0.17935596);\">palate</span> <span style=\"background-color:rgba(135,206,250,0.1805856);\">is</span> <span style=\"background-color:rgba(135,206,250,0.1821482);\">a</span> <span style=\"background-color:rgba(135,206,250,0.23726444);\">bit</span> <span style=\"background-color:rgba(135,206,250,0.21150903);\">sharp</span> <span style=\"background-color:rgba(135,206,250,0.25798246);\">and</span> <span style=\"background-color:rgba(135,206,250,1.0);\">unrefined</span> <span style=\"background-color:rgba(135,206,250,0.6369285);\">,</span> <span style=\"background-color:rgba(135,206,250,0.37193337);\">but</span>"
            ]
          },
          "metadata": {}
        },
        {
          "output_type": "stream",
          "name": "stdout",
          "text": [
            "the:   \t15.55%\n",
            "not:   \t11.89%\n",
            "ripe:   \t9.0%\n",
            "slightly:   \t7.6%\n",
            "brisk:   \t6.11%\n",
            "--------\n",
            "\n"
          ]
        },
        {
          "output_type": "display_data",
          "data": {
            "text/plain": [
              "<IPython.core.display.HTML object>"
            ],
            "text/html": [
              "<span style=\"background-color:rgba(135,206,250,0.31440884);\">wine</span> <span style=\"background-color:rgba(135,206,250,0.38637587);\">review</span> <span style=\"background-color:rgba(135,206,250,0.3958485);\">:</span> <span style=\"background-color:rgba(135,206,250,0.51677585);\">germany</span> <span style=\"background-color:rgba(135,206,250,0.21811478);\">:</span> <span style=\"background-color:rgba(135,206,250,0.2199786);\">baden</span> <span style=\"background-color:rgba(135,206,250,0.17632072);\">:</span> <span style=\"background-color:rgba(135,206,250,0.34158653);\">spätburgunder</span> <span style=\"background-color:rgba(135,206,250,0.17893378);\">:</span> <span style=\"background-color:rgba(135,206,250,0.11766889);\">smoke</span> <span style=\"background-color:rgba(135,206,250,0.09026227);\">and</span> <span style=\"background-color:rgba(135,206,250,0.08250653);\">smoke</span> <span style=\"background-color:rgba(135,206,250,0.095071085);\">notes</span> <span style=\"background-color:rgba(135,206,250,0.06542299);\">lend</span> <span style=\"background-color:rgba(135,206,250,0.050099473);\">a</span> <span style=\"background-color:rgba(135,206,250,0.06710425);\">savory</span> <span style=\"background-color:rgba(135,206,250,0.063798025);\">,</span> <span style=\"background-color:rgba(135,206,250,0.07007436);\">savory</span> <span style=\"background-color:rgba(135,206,250,0.106238686);\">tone</span> <span style=\"background-color:rgba(135,206,250,0.057190854);\">to</span> <span style=\"background-color:rgba(135,206,250,0.08098912);\">this</span> <span style=\"background-color:rgba(135,206,250,0.101931624);\">pinot</span> <span style=\"background-color:rgba(135,206,250,0.10395724);\">noir</span> <span style=\"background-color:rgba(135,206,250,0.254674);\">.</span> <span style=\"background-color:rgba(135,206,250,0.105511434);\">the</span> <span style=\"background-color:rgba(135,206,250,0.29145238);\">palate</span> <span style=\"background-color:rgba(135,206,250,0.23437154);\">is</span> <span style=\"background-color:rgba(135,206,250,0.19995528);\">a</span> <span style=\"background-color:rgba(135,206,250,0.28688183);\">bit</span> <span style=\"background-color:rgba(135,206,250,0.1769009);\">sharp</span> <span style=\"background-color:rgba(135,206,250,0.38389868);\">and</span> <span style=\"background-color:rgba(135,206,250,0.6897803);\">unrefined</span> <span style=\"background-color:rgba(135,206,250,0.6394818);\">,</span> <span style=\"background-color:rgba(135,206,250,1.0);\">but</span> <span style=\"background-color:rgba(135,206,250,0.41757363);\">ripe</span>"
            ]
          },
          "metadata": {}
        },
        {
          "output_type": "stream",
          "name": "stdout",
          "text": [
            ",:   \t41.63%\n",
            "and:   \t24.68%\n",
            "with:   \t17.41%\n",
            ".:   \t4.67%\n",
            "in:   \t3.95%\n",
            "--------\n",
            "\n"
          ]
        },
        {
          "output_type": "display_data",
          "data": {
            "text/plain": [
              "<IPython.core.display.HTML object>"
            ],
            "text/html": [
              "<span style=\"background-color:rgba(135,206,250,0.13620858);\">wine</span> <span style=\"background-color:rgba(135,206,250,0.23990192);\">review</span> <span style=\"background-color:rgba(135,206,250,0.31442368);\">:</span> <span style=\"background-color:rgba(135,206,250,0.39578968);\">germany</span> <span style=\"background-color:rgba(135,206,250,0.1346188);\">:</span> <span style=\"background-color:rgba(135,206,250,0.18817608);\">baden</span> <span style=\"background-color:rgba(135,206,250,0.097323105);\">:</span> <span style=\"background-color:rgba(135,206,250,0.18271726);\">spätburgunder</span> <span style=\"background-color:rgba(135,206,250,0.11591359);\">:</span> <span style=\"background-color:rgba(135,206,250,0.08010549);\">smoke</span> <span style=\"background-color:rgba(135,206,250,0.04128612);\">and</span> <span style=\"background-color:rgba(135,206,250,0.061527103);\">smoke</span> <span style=\"background-color:rgba(135,206,250,0.06405465);\">notes</span> <span style=\"background-color:rgba(135,206,250,0.057182245);\">lend</span> <span style=\"background-color:rgba(135,206,250,0.023884032);\">a</span> <span style=\"background-color:rgba(135,206,250,0.0663532);\">savory</span> <span style=\"background-color:rgba(135,206,250,0.038037166);\">,</span> <span style=\"background-color:rgba(135,206,250,0.068583004);\">savory</span> <span style=\"background-color:rgba(135,206,250,0.07238552);\">tone</span> <span style=\"background-color:rgba(135,206,250,0.023803357);\">to</span> <span style=\"background-color:rgba(135,206,250,0.0630318);\">this</span> <span style=\"background-color:rgba(135,206,250,0.042924147);\">pinot</span> <span style=\"background-color:rgba(135,206,250,0.047757663);\">noir</span> <span style=\"background-color:rgba(135,206,250,0.16730198);\">.</span> <span style=\"background-color:rgba(135,206,250,0.049957722);\">the</span> <span style=\"background-color:rgba(135,206,250,0.15146786);\">palate</span> <span style=\"background-color:rgba(135,206,250,0.08894949);\">is</span> <span style=\"background-color:rgba(135,206,250,0.07573465);\">a</span> <span style=\"background-color:rgba(135,206,250,0.12481075);\">bit</span> <span style=\"background-color:rgba(135,206,250,0.2785632);\">sharp</span> <span style=\"background-color:rgba(135,206,250,0.09527318);\">and</span> <span style=\"background-color:rgba(135,206,250,0.63060606);\">unrefined</span> <span style=\"background-color:rgba(135,206,250,0.7610887);\">,</span> <span style=\"background-color:rgba(135,206,250,0.43138596);\">but</span> <span style=\"background-color:rgba(135,206,250,1.0);\">ripe</span> <span style=\"background-color:rgba(135,206,250,0.3715349);\">and</span>"
            ]
          },
          "metadata": {}
        },
        {
          "output_type": "stream",
          "name": "stdout",
          "text": [
            "juicy:   \t31.13%\n",
            "sour:   \t17.22%\n",
            "savory:   \t12.76%\n",
            "brambly:   \t5.03%\n",
            "tart:   \t4.01%\n",
            "--------\n",
            "\n"
          ]
        },
        {
          "output_type": "display_data",
          "data": {
            "text/plain": [
              "<IPython.core.display.HTML object>"
            ],
            "text/html": [
              "<span style=\"background-color:rgba(135,206,250,0.24324784);\">wine</span> <span style=\"background-color:rgba(135,206,250,0.3141028);\">review</span> <span style=\"background-color:rgba(135,206,250,0.26507342);\">:</span> <span style=\"background-color:rgba(135,206,250,0.4474659);\">germany</span> <span style=\"background-color:rgba(135,206,250,0.17156519);\">:</span> <span style=\"background-color:rgba(135,206,250,0.2186039);\">baden</span> <span style=\"background-color:rgba(135,206,250,0.14913262);\">:</span> <span style=\"background-color:rgba(135,206,250,0.37688458);\">spätburgunder</span> <span style=\"background-color:rgba(135,206,250,0.16817434);\">:</span> <span style=\"background-color:rgba(135,206,250,0.08734881);\">smoke</span> <span style=\"background-color:rgba(135,206,250,0.075225525);\">and</span> <span style=\"background-color:rgba(135,206,250,0.05264484);\">smoke</span> <span style=\"background-color:rgba(135,206,250,0.07545473);\">notes</span> <span style=\"background-color:rgba(135,206,250,0.055416837);\">lend</span> <span style=\"background-color:rgba(135,206,250,0.03954033);\">a</span> <span style=\"background-color:rgba(135,206,250,0.04940624);\">savory</span> <span style=\"background-color:rgba(135,206,250,0.051658202);\">,</span> <span style=\"background-color:rgba(135,206,250,0.05001351);\">savory</span> <span style=\"background-color:rgba(135,206,250,0.08047131);\">tone</span> <span style=\"background-color:rgba(135,206,250,0.050767504);\">to</span> <span style=\"background-color:rgba(135,206,250,0.069791116);\">this</span> <span style=\"background-color:rgba(135,206,250,0.0763336);\">pinot</span> <span style=\"background-color:rgba(135,206,250,0.07375245);\">noir</span> <span style=\"background-color:rgba(135,206,250,0.20924966);\">.</span> <span style=\"background-color:rgba(135,206,250,0.08149764);\">the</span> <span style=\"background-color:rgba(135,206,250,0.26057774);\">palate</span> <span style=\"background-color:rgba(135,206,250,0.20220223);\">is</span> <span style=\"background-color:rgba(135,206,250,0.14983006);\">a</span> <span style=\"background-color:rgba(135,206,250,0.1659169);\">bit</span> <span style=\"background-color:rgba(135,206,250,0.12818082);\">sharp</span> <span style=\"background-color:rgba(135,206,250,0.2543386);\">and</span> <span style=\"background-color:rgba(135,206,250,0.57779884);\">unrefined</span> <span style=\"background-color:rgba(135,206,250,0.40974206);\">,</span> <span style=\"background-color:rgba(135,206,250,0.6627953);\">but</span> <span style=\"background-color:rgba(135,206,250,0.37347716);\">ripe</span> <span style=\"background-color:rgba(135,206,250,1.0);\">and</span> <span style=\"background-color:rgba(135,206,250,0.48512813);\">juicy</span>"
            ]
          },
          "metadata": {}
        },
        {
          "output_type": "stream",
          "name": "stdout",
          "text": [
            ".:   \t49.71%\n",
            ",:   \t33.69%\n",
            "with:   \t11.13%\n",
            "in:   \t2.18%\n",
            "on:   \t2.13%\n",
            "--------\n",
            "\n"
          ]
        },
        {
          "output_type": "display_data",
          "data": {
            "text/plain": [
              "<IPython.core.display.HTML object>"
            ],
            "text/html": [
              "<span style=\"background-color:rgba(135,206,250,0.18326427);\">wine</span> <span style=\"background-color:rgba(135,206,250,0.30078366);\">review</span> <span style=\"background-color:rgba(135,206,250,0.3439717);\">:</span> <span style=\"background-color:rgba(135,206,250,0.45785263);\">germany</span> <span style=\"background-color:rgba(135,206,250,0.14677022);\">:</span> <span style=\"background-color:rgba(135,206,250,0.20634158);\">baden</span> <span style=\"background-color:rgba(135,206,250,0.11930805);\">:</span> <span style=\"background-color:rgba(135,206,250,0.26187187);\">spätburgunder</span> <span style=\"background-color:rgba(135,206,250,0.14381358);\">:</span> <span style=\"background-color:rgba(135,206,250,0.07790466);\">smoke</span> <span style=\"background-color:rgba(135,206,250,0.06204415);\">and</span> <span style=\"background-color:rgba(135,206,250,0.05895813);\">smoke</span> <span style=\"background-color:rgba(135,206,250,0.06006474);\">notes</span> <span style=\"background-color:rgba(135,206,250,0.11560983);\">lend</span> <span style=\"background-color:rgba(135,206,250,0.027236845);\">a</span> <span style=\"background-color:rgba(135,206,250,0.05912719);\">savory</span> <span style=\"background-color:rgba(135,206,250,0.034469504);\">,</span> <span style=\"background-color:rgba(135,206,250,0.05715112);\">savory</span> <span style=\"background-color:rgba(135,206,250,0.0785757);\">tone</span> <span style=\"background-color:rgba(135,206,250,0.028308712);\">to</span> <span style=\"background-color:rgba(135,206,250,0.13210124);\">this</span> <span style=\"background-color:rgba(135,206,250,0.049360096);\">pinot</span> <span style=\"background-color:rgba(135,206,250,0.05096463);\">noir</span> <span style=\"background-color:rgba(135,206,250,0.24247818);\">.</span> <span style=\"background-color:rgba(135,206,250,0.05063763);\">the</span> <span style=\"background-color:rgba(135,206,250,0.14417069);\">palate</span> <span style=\"background-color:rgba(135,206,250,0.17982067);\">is</span> <span style=\"background-color:rgba(135,206,250,0.0662971);\">a</span> <span style=\"background-color:rgba(135,206,250,0.14969988);\">bit</span> <span style=\"background-color:rgba(135,206,250,0.21956941);\">sharp</span> <span style=\"background-color:rgba(135,206,250,0.22609954);\">and</span> <span style=\"background-color:rgba(135,206,250,0.47824687);\">unrefined</span> <span style=\"background-color:rgba(135,206,250,0.12721764);\">,</span> <span style=\"background-color:rgba(135,206,250,0.71355164);\">but</span> <span style=\"background-color:rgba(135,206,250,0.5016031);\">ripe</span> <span style=\"background-color:rgba(135,206,250,0.9771653);\">and</span> <span style=\"background-color:rgba(135,206,250,1.0);\">juicy</span> <span style=\"background-color:rgba(135,206,250,0.4298485);\">,</span>"
            ]
          },
          "metadata": {}
        },
        {
          "output_type": "stream",
          "name": "stdout",
          "text": [
            "with:   \t90.82%\n",
            "boasting:   \t2.96%\n",
            "finishing:   \t1.82%\n",
            "offering:   \t1.47%\n",
            "but:   \t0.55%\n",
            "--------\n",
            "\n"
          ]
        },
        {
          "output_type": "display_data",
          "data": {
            "text/plain": [
              "<IPython.core.display.HTML object>"
            ],
            "text/html": [
              "<span style=\"background-color:rgba(135,206,250,0.47593647);\">wine</span> <span style=\"background-color:rgba(135,206,250,0.49663273);\">review</span> <span style=\"background-color:rgba(135,206,250,0.9260377);\">:</span> <span style=\"background-color:rgba(135,206,250,0.6609667);\">germany</span> <span style=\"background-color:rgba(135,206,250,0.4117478);\">:</span> <span style=\"background-color:rgba(135,206,250,0.31718746);\">baden</span> <span style=\"background-color:rgba(135,206,250,0.34636366);\">:</span> <span style=\"background-color:rgba(135,206,250,0.30727902);\">spätburgunder</span> <span style=\"background-color:rgba(135,206,250,0.26943997);\">:</span> <span style=\"background-color:rgba(135,206,250,0.17401104);\">smoke</span> <span style=\"background-color:rgba(135,206,250,0.09343996);\">and</span> <span style=\"background-color:rgba(135,206,250,0.12323508);\">smoke</span> <span style=\"background-color:rgba(135,206,250,0.1298216);\">notes</span> <span style=\"background-color:rgba(135,206,250,0.06792693);\">lend</span> <span style=\"background-color:rgba(135,206,250,0.042813975);\">a</span> <span style=\"background-color:rgba(135,206,250,0.14148955);\">savory</span> <span style=\"background-color:rgba(135,206,250,0.06648144);\">,</span> <span style=\"background-color:rgba(135,206,250,0.14161934);\">savory</span> <span style=\"background-color:rgba(135,206,250,0.10176235);\">tone</span> <span style=\"background-color:rgba(135,206,250,0.038620938);\">to</span> <span style=\"background-color:rgba(135,206,250,0.081179015);\">this</span> <span style=\"background-color:rgba(135,206,250,0.06783003);\">pinot</span> <span style=\"background-color:rgba(135,206,250,0.08010537);\">noir</span> <span style=\"background-color:rgba(135,206,250,0.19085316);\">.</span> <span style=\"background-color:rgba(135,206,250,0.050707843);\">the</span> <span style=\"background-color:rgba(135,206,250,0.2520333);\">palate</span> <span style=\"background-color:rgba(135,206,250,0.08758135);\">is</span> <span style=\"background-color:rgba(135,206,250,0.06694489);\">a</span> <span style=\"background-color:rgba(135,206,250,0.13369781);\">bit</span> <span style=\"background-color:rgba(135,206,250,0.33512613);\">sharp</span> <span style=\"background-color:rgba(135,206,250,0.14412634);\">and</span> <span style=\"background-color:rgba(135,206,250,0.54947853);\">unrefined</span> <span style=\"background-color:rgba(135,206,250,0.23298243);\">,</span> <span style=\"background-color:rgba(135,206,250,0.5314816);\">but</span> <span style=\"background-color:rgba(135,206,250,0.5548703);\">ripe</span> <span style=\"background-color:rgba(135,206,250,0.36094636);\">and</span> <span style=\"background-color:rgba(135,206,250,1.0);\">juicy</span> <span style=\"background-color:rgba(135,206,250,0.9491042);\">,</span> <span style=\"background-color:rgba(135,206,250,0.5376221);\">with</span>"
            ]
          },
          "metadata": {}
        },
        {
          "output_type": "stream",
          "name": "stdout",
          "text": [
            "a:   \t54.17%\n",
            "black:   \t24.31%\n",
            "flavors:   \t4.85%\n",
            "cranberry:   \t2.26%\n",
            "fresh:   \t1.82%\n",
            "--------\n",
            "\n"
          ]
        },
        {
          "output_type": "display_data",
          "data": {
            "text/plain": [
              "<IPython.core.display.HTML object>"
            ],
            "text/html": [
              "<span style=\"background-color:rgba(135,206,250,0.40178812);\">wine</span> <span style=\"background-color:rgba(135,206,250,0.33264375);\">review</span> <span style=\"background-color:rgba(135,206,250,0.5189735);\">:</span> <span style=\"background-color:rgba(135,206,250,0.5023934);\">germany</span> <span style=\"background-color:rgba(135,206,250,0.26086175);\">:</span> <span style=\"background-color:rgba(135,206,250,0.23169796);\">baden</span> <span style=\"background-color:rgba(135,206,250,0.30467868);\">:</span> <span style=\"background-color:rgba(135,206,250,0.36492893);\">spätburgunder</span> <span style=\"background-color:rgba(135,206,250,0.22546299);\">:</span> <span style=\"background-color:rgba(135,206,250,0.080578916);\">smoke</span> <span style=\"background-color:rgba(135,206,250,0.07151277);\">and</span> <span style=\"background-color:rgba(135,206,250,0.04969014);\">smoke</span> <span style=\"background-color:rgba(135,206,250,0.051766634);\">notes</span> <span style=\"background-color:rgba(135,206,250,0.04867476);\">lend</span> <span style=\"background-color:rgba(135,206,250,0.03648703);\">a</span> <span style=\"background-color:rgba(135,206,250,0.07277605);\">savory</span> <span style=\"background-color:rgba(135,206,250,0.038259435);\">,</span> <span style=\"background-color:rgba(135,206,250,0.07294836);\">savory</span> <span style=\"background-color:rgba(135,206,250,0.042194474);\">tone</span> <span style=\"background-color:rgba(135,206,250,0.034941625);\">to</span> <span style=\"background-color:rgba(135,206,250,0.044942927);\">this</span> <span style=\"background-color:rgba(135,206,250,0.05774047);\">pinot</span> <span style=\"background-color:rgba(135,206,250,0.063525915);\">noir</span> <span style=\"background-color:rgba(135,206,250,0.1015454);\">.</span> <span style=\"background-color:rgba(135,206,250,0.035960153);\">the</span> <span style=\"background-color:rgba(135,206,250,0.14926796);\">palate</span> <span style=\"background-color:rgba(135,206,250,0.08120346);\">is</span> <span style=\"background-color:rgba(135,206,250,0.058974866);\">a</span> <span style=\"background-color:rgba(135,206,250,0.09475546);\">bit</span> <span style=\"background-color:rgba(135,206,250,0.096283816);\">sharp</span> <span style=\"background-color:rgba(135,206,250,0.10693733);\">and</span> <span style=\"background-color:rgba(135,206,250,0.32047102);\">unrefined</span> <span style=\"background-color:rgba(135,206,250,0.11877155);\">,</span> <span style=\"background-color:rgba(135,206,250,0.12515704);\">but</span> <span style=\"background-color:rgba(135,206,250,0.23343611);\">ripe</span> <span style=\"background-color:rgba(135,206,250,0.25576413);\">and</span> <span style=\"background-color:rgba(135,206,250,0.6326695);\">juicy</span> <span style=\"background-color:rgba(135,206,250,0.42857036);\">,</span> <span style=\"background-color:rgba(135,206,250,1.0);\">with</span> <span style=\"background-color:rgba(135,206,250,0.2719947);\">black</span>"
            ]
          },
          "metadata": {}
        },
        {
          "output_type": "stream",
          "name": "stdout",
          "text": [
            "cherry:   \t91.0%\n",
            "-:   \t5.65%\n",
            "plum:   \t2.75%\n",
            "cherries:   \t0.4%\n",
            "raspberry:   \t0.07%\n",
            "--------\n",
            "\n"
          ]
        },
        {
          "output_type": "display_data",
          "data": {
            "text/plain": [
              "<IPython.core.display.HTML object>"
            ],
            "text/html": [
              "<span style=\"background-color:rgba(135,206,250,0.19528577);\">wine</span> <span style=\"background-color:rgba(135,206,250,0.22488949);\">review</span> <span style=\"background-color:rgba(135,206,250,0.2954464);\">:</span> <span style=\"background-color:rgba(135,206,250,0.4988465);\">germany</span> <span style=\"background-color:rgba(135,206,250,0.16126877);\">:</span> <span style=\"background-color:rgba(135,206,250,0.09984408);\">baden</span> <span style=\"background-color:rgba(135,206,250,0.17548624);\">:</span> <span style=\"background-color:rgba(135,206,250,0.076602705);\">spätburgunder</span> <span style=\"background-color:rgba(135,206,250,0.11854721);\">:</span> <span style=\"background-color:rgba(135,206,250,0.04438344);\">smoke</span> <span style=\"background-color:rgba(135,206,250,0.032576017);\">and</span> <span style=\"background-color:rgba(135,206,250,0.037051957);\">smoke</span> <span style=\"background-color:rgba(135,206,250,0.064660884);\">notes</span> <span style=\"background-color:rgba(135,206,250,0.0515331);\">lend</span> <span style=\"background-color:rgba(135,206,250,0.036922153);\">a</span> <span style=\"background-color:rgba(135,206,250,0.04147499);\">savory</span> <span style=\"background-color:rgba(135,206,250,0.025644546);\">,</span> <span style=\"background-color:rgba(135,206,250,0.04228828);\">savory</span> <span style=\"background-color:rgba(135,206,250,0.065003335);\">tone</span> <span style=\"background-color:rgba(135,206,250,0.023313401);\">to</span> <span style=\"background-color:rgba(135,206,250,0.035220046);\">this</span> <span style=\"background-color:rgba(135,206,250,0.022020511);\">pinot</span> <span style=\"background-color:rgba(135,206,250,0.032446742);\">noir</span> <span style=\"background-color:rgba(135,206,250,0.13639565);\">.</span> <span style=\"background-color:rgba(135,206,250,0.03353847);\">the</span> <span style=\"background-color:rgba(135,206,250,0.085055456);\">palate</span> <span style=\"background-color:rgba(135,206,250,0.055961434);\">is</span> <span style=\"background-color:rgba(135,206,250,0.06952377);\">a</span> <span style=\"background-color:rgba(135,206,250,0.067697674);\">bit</span> <span style=\"background-color:rgba(135,206,250,0.11660386);\">sharp</span> <span style=\"background-color:rgba(135,206,250,0.06369233);\">and</span> <span style=\"background-color:rgba(135,206,250,0.29530597);\">unrefined</span> <span style=\"background-color:rgba(135,206,250,0.09114539);\">,</span> <span style=\"background-color:rgba(135,206,250,0.19981319);\">but</span> <span style=\"background-color:rgba(135,206,250,0.13329034);\">ripe</span> <span style=\"background-color:rgba(135,206,250,0.18689911);\">and</span> <span style=\"background-color:rgba(135,206,250,0.24851485);\">juicy</span> <span style=\"background-color:rgba(135,206,250,0.3280445);\">,</span> <span style=\"background-color:rgba(135,206,250,1.0);\">with</span> <span style=\"background-color:rgba(135,206,250,0.3406431);\">black</span> <span style=\"background-color:rgba(135,206,250,0.28426802);\">cherry</span>"
            ]
          },
          "metadata": {}
        },
        {
          "output_type": "stream",
          "name": "stdout",
          "text": [
            "and:   \t96.0%\n",
            "flavors:   \t2.61%\n",
            ",:   \t0.64%\n",
            "fruit:   \t0.46%\n",
            "-:   \t0.14%\n",
            "--------\n",
            "\n"
          ]
        },
        {
          "output_type": "display_data",
          "data": {
            "text/plain": [
              "<IPython.core.display.HTML object>"
            ],
            "text/html": [
              "<span style=\"background-color:rgba(135,206,250,0.07631381);\">wine</span> <span style=\"background-color:rgba(135,206,250,0.13961326);\">review</span> <span style=\"background-color:rgba(135,206,250,0.25700605);\">:</span> <span style=\"background-color:rgba(135,206,250,0.31679517);\">germany</span> <span style=\"background-color:rgba(135,206,250,0.08779319);\">:</span> <span style=\"background-color:rgba(135,206,250,0.14612772);\">baden</span> <span style=\"background-color:rgba(135,206,250,0.06808293);\">:</span> <span style=\"background-color:rgba(135,206,250,0.12810096);\">spätburgunder</span> <span style=\"background-color:rgba(135,206,250,0.0816933);\">:</span> <span style=\"background-color:rgba(135,206,250,0.053070534);\">smoke</span> <span style=\"background-color:rgba(135,206,250,0.029289821);\">and</span> <span style=\"background-color:rgba(135,206,250,0.039053835);\">smoke</span> <span style=\"background-color:rgba(135,206,250,0.039242793);\">notes</span> <span style=\"background-color:rgba(135,206,250,0.031547938);\">lend</span> <span style=\"background-color:rgba(135,206,250,0.014085617);\">a</span> <span style=\"background-color:rgba(135,206,250,0.044795904);\">savory</span> <span style=\"background-color:rgba(135,206,250,0.022628685);\">,</span> <span style=\"background-color:rgba(135,206,250,0.04516684);\">savory</span> <span style=\"background-color:rgba(135,206,250,0.042095035);\">tone</span> <span style=\"background-color:rgba(135,206,250,0.012176191);\">to</span> <span style=\"background-color:rgba(135,206,250,0.03218195);\">this</span> <span style=\"background-color:rgba(135,206,250,0.024362579);\">pinot</span> <span style=\"background-color:rgba(135,206,250,0.028309396);\">noir</span> <span style=\"background-color:rgba(135,206,250,0.08290728);\">.</span> <span style=\"background-color:rgba(135,206,250,0.020105267);\">the</span> <span style=\"background-color:rgba(135,206,250,0.07550057);\">palate</span> <span style=\"background-color:rgba(135,206,250,0.034262564);\">is</span> <span style=\"background-color:rgba(135,206,250,0.020066585);\">a</span> <span style=\"background-color:rgba(135,206,250,0.046081863);\">bit</span> <span style=\"background-color:rgba(135,206,250,0.10976358);\">sharp</span> <span style=\"background-color:rgba(135,206,250,0.037644025);\">and</span> <span style=\"background-color:rgba(135,206,250,0.19584021);\">unrefined</span> <span style=\"background-color:rgba(135,206,250,0.065187365);\">,</span> <span style=\"background-color:rgba(135,206,250,0.07575877);\">but</span> <span style=\"background-color:rgba(135,206,250,0.107671954);\">ripe</span> <span style=\"background-color:rgba(135,206,250,0.054874536);\">and</span> <span style=\"background-color:rgba(135,206,250,0.19016214);\">juicy</span> <span style=\"background-color:rgba(135,206,250,0.30854058);\">,</span> <span style=\"background-color:rgba(135,206,250,0.39925274);\">with</span> <span style=\"background-color:rgba(135,206,250,0.5012941);\">black</span> <span style=\"background-color:rgba(135,206,250,1.0);\">cherry</span> <span style=\"background-color:rgba(135,206,250,0.224935);\">and</span>"
            ]
          },
          "metadata": {}
        },
        {
          "output_type": "stream",
          "name": "stdout",
          "text": [
            "plum:   \t74.06%\n",
            "raspberry:   \t9.06%\n",
            "cranberry:   \t6.41%\n",
            "berry:   \t2.84%\n",
            "blackberry:   \t2.5%\n",
            "--------\n",
            "\n"
          ]
        },
        {
          "output_type": "display_data",
          "data": {
            "text/plain": [
              "<IPython.core.display.HTML object>"
            ],
            "text/html": [
              "<span style=\"background-color:rgba(135,206,250,0.35100505);\">wine</span> <span style=\"background-color:rgba(135,206,250,0.36902574);\">review</span> <span style=\"background-color:rgba(135,206,250,0.5730383);\">:</span> <span style=\"background-color:rgba(135,206,250,0.52171266);\">germany</span> <span style=\"background-color:rgba(135,206,250,0.2168947);\">:</span> <span style=\"background-color:rgba(135,206,250,0.10980316);\">baden</span> <span style=\"background-color:rgba(135,206,250,0.2239469);\">:</span> <span style=\"background-color:rgba(135,206,250,0.08313787);\">spätburgunder</span> <span style=\"background-color:rgba(135,206,250,0.15275961);\">:</span> <span style=\"background-color:rgba(135,206,250,0.045413345);\">smoke</span> <span style=\"background-color:rgba(135,206,250,0.034315526);\">and</span> <span style=\"background-color:rgba(135,206,250,0.040995434);\">smoke</span> <span style=\"background-color:rgba(135,206,250,0.073337145);\">notes</span> <span style=\"background-color:rgba(135,206,250,0.06669549);\">lend</span> <span style=\"background-color:rgba(135,206,250,0.043925267);\">a</span> <span style=\"background-color:rgba(135,206,250,0.04907848);\">savory</span> <span style=\"background-color:rgba(135,206,250,0.029401913);\">,</span> <span style=\"background-color:rgba(135,206,250,0.049483046);\">savory</span> <span style=\"background-color:rgba(135,206,250,0.058741175);\">tone</span> <span style=\"background-color:rgba(135,206,250,0.028054738);\">to</span> <span style=\"background-color:rgba(135,206,250,0.03891497);\">this</span> <span style=\"background-color:rgba(135,206,250,0.02557735);\">pinot</span> <span style=\"background-color:rgba(135,206,250,0.03614711);\">noir</span> <span style=\"background-color:rgba(135,206,250,0.1462307);\">.</span> <span style=\"background-color:rgba(135,206,250,0.037954282);\">the</span> <span style=\"background-color:rgba(135,206,250,0.10242595);\">palate</span> <span style=\"background-color:rgba(135,206,250,0.06025545);\">is</span> <span style=\"background-color:rgba(135,206,250,0.07334282);\">a</span> <span style=\"background-color:rgba(135,206,250,0.07988843);\">bit</span> <span style=\"background-color:rgba(135,206,250,0.123828255);\">sharp</span> <span style=\"background-color:rgba(135,206,250,0.05925289);\">and</span> <span style=\"background-color:rgba(135,206,250,0.27420402);\">unrefined</span> <span style=\"background-color:rgba(135,206,250,0.08652874);\">,</span> <span style=\"background-color:rgba(135,206,250,0.18849638);\">but</span> <span style=\"background-color:rgba(135,206,250,0.09690014);\">ripe</span> <span style=\"background-color:rgba(135,206,250,0.14023398);\">and</span> <span style=\"background-color:rgba(135,206,250,0.19996463);\">juicy</span> <span style=\"background-color:rgba(135,206,250,0.23495895);\">,</span> <span style=\"background-color:rgba(135,206,250,0.74849117);\">with</span> <span style=\"background-color:rgba(135,206,250,0.15386787);\">black</span> <span style=\"background-color:rgba(135,206,250,0.2179717);\">cherry</span> <span style=\"background-color:rgba(135,206,250,1.0);\">and</span> <span style=\"background-color:rgba(135,206,250,0.37139362);\">plum</span>"
            ]
          },
          "metadata": {}
        },
        {
          "output_type": "stream",
          "name": "stdout",
          "text": [
            "flavors:   \t99.61%\n",
            "fruit:   \t0.23%\n",
            "notes:   \t0.08%\n",
            "flavor:   \t0.02%\n",
            "skin:   \t0.01%\n",
            "--------\n",
            "\n"
          ]
        },
        {
          "output_type": "display_data",
          "data": {
            "text/plain": [
              "<IPython.core.display.HTML object>"
            ],
            "text/html": [
              "<span style=\"background-color:rgba(135,206,250,0.31735593);\">wine</span> <span style=\"background-color:rgba(135,206,250,0.49021518);\">review</span> <span style=\"background-color:rgba(135,206,250,0.65750504);\">:</span> <span style=\"background-color:rgba(135,206,250,0.3660076);\">germany</span> <span style=\"background-color:rgba(135,206,250,0.22081842);\">:</span> <span style=\"background-color:rgba(135,206,250,0.10327646);\">baden</span> <span style=\"background-color:rgba(135,206,250,0.23836564);\">:</span> <span style=\"background-color:rgba(135,206,250,0.11297387);\">spätburgunder</span> <span style=\"background-color:rgba(135,206,250,0.2130103);\">:</span> <span style=\"background-color:rgba(135,206,250,0.060380466);\">smoke</span> <span style=\"background-color:rgba(135,206,250,0.05018278);\">and</span> <span style=\"background-color:rgba(135,206,250,0.04616146);\">smoke</span> <span style=\"background-color:rgba(135,206,250,0.044961307);\">notes</span> <span style=\"background-color:rgba(135,206,250,0.14064692);\">lend</span> <span style=\"background-color:rgba(135,206,250,0.032150842);\">a</span> <span style=\"background-color:rgba(135,206,250,0.02968937);\">savory</span> <span style=\"background-color:rgba(135,206,250,0.0392673);\">,</span> <span style=\"background-color:rgba(135,206,250,0.028660037);\">savory</span> <span style=\"background-color:rgba(135,206,250,0.082508266);\">tone</span> <span style=\"background-color:rgba(135,206,250,0.029284745);\">to</span> <span style=\"background-color:rgba(135,206,250,0.06410118);\">this</span> <span style=\"background-color:rgba(135,206,250,0.029198268);\">pinot</span> <span style=\"background-color:rgba(135,206,250,0.042508416);\">noir</span> <span style=\"background-color:rgba(135,206,250,0.2116958);\">.</span> <span style=\"background-color:rgba(135,206,250,0.05442508);\">the</span> <span style=\"background-color:rgba(135,206,250,0.11345421);\">palate</span> <span style=\"background-color:rgba(135,206,250,0.10783534);\">is</span> <span style=\"background-color:rgba(135,206,250,0.056266915);\">a</span> <span style=\"background-color:rgba(135,206,250,0.13584952);\">bit</span> <span style=\"background-color:rgba(135,206,250,0.10551648);\">sharp</span> <span style=\"background-color:rgba(135,206,250,0.0889882);\">and</span> <span style=\"background-color:rgba(135,206,250,0.24928159);\">unrefined</span> <span style=\"background-color:rgba(135,206,250,0.1263425);\">,</span> <span style=\"background-color:rgba(135,206,250,0.2674717);\">but</span> <span style=\"background-color:rgba(135,206,250,0.10255464);\">ripe</span> <span style=\"background-color:rgba(135,206,250,0.16085315);\">and</span> <span style=\"background-color:rgba(135,206,250,0.20047252);\">juicy</span> <span style=\"background-color:rgba(135,206,250,0.29561543);\">,</span> <span style=\"background-color:rgba(135,206,250,0.99821776);\">with</span> <span style=\"background-color:rgba(135,206,250,0.29220265);\">black</span> <span style=\"background-color:rgba(135,206,250,0.5323296);\">cherry</span> <span style=\"background-color:rgba(135,206,250,0.6144509);\">and</span> <span style=\"background-color:rgba(135,206,250,1.0);\">plum</span> <span style=\"background-color:rgba(135,206,250,0.36269104);\">flavors</span>"
            ]
          },
          "metadata": {}
        },
        {
          "output_type": "stream",
          "name": "stdout",
          "text": [
            ".:   \t95.78%\n",
            "accented:   \t2.56%\n",
            "that:   \t0.5%\n",
            ",:   \t0.41%\n",
            "and:   \t0.3%\n",
            "--------\n",
            "\n"
          ]
        },
        {
          "output_type": "display_data",
          "data": {
            "text/plain": [
              "<IPython.core.display.HTML object>"
            ],
            "text/html": [
              "<span style=\"background-color:rgba(135,206,250,0.70355946);\">wine</span> <span style=\"background-color:rgba(135,206,250,0.5474866);\">review</span> <span style=\"background-color:rgba(135,206,250,1.0);\">:</span> <span style=\"background-color:rgba(135,206,250,0.9384676);\">germany</span> <span style=\"background-color:rgba(135,206,250,0.57519907);\">:</span> <span style=\"background-color:rgba(135,206,250,0.19898584);\">baden</span> <span style=\"background-color:rgba(135,206,250,0.6742435);\">:</span> <span style=\"background-color:rgba(135,206,250,0.26622653);\">spätburgunder</span> <span style=\"background-color:rgba(135,206,250,0.32011873);\">:</span> <span style=\"background-color:rgba(135,206,250,0.085971214);\">smoke</span> <span style=\"background-color:rgba(135,206,250,0.06886245);\">and</span> <span style=\"background-color:rgba(135,206,250,0.068292506);\">smoke</span> <span style=\"background-color:rgba(135,206,250,0.093593106);\">notes</span> <span style=\"background-color:rgba(135,206,250,0.083063364);\">lend</span> <span style=\"background-color:rgba(135,206,250,0.039376326);\">a</span> <span style=\"background-color:rgba(135,206,250,0.07182313);\">savory</span> <span style=\"background-color:rgba(135,206,250,0.047777567);\">,</span> <span style=\"background-color:rgba(135,206,250,0.070766576);\">savory</span> <span style=\"background-color:rgba(135,206,250,0.082531735);\">tone</span> <span style=\"background-color:rgba(135,206,250,0.030312698);\">to</span> <span style=\"background-color:rgba(135,206,250,0.104503736);\">this</span> <span style=\"background-color:rgba(135,206,250,0.03902651);\">pinot</span> <span style=\"background-color:rgba(135,206,250,0.05296573);\">noir</span> <span style=\"background-color:rgba(135,206,250,0.14200301);\">.</span> <span style=\"background-color:rgba(135,206,250,0.038910244);\">the</span> <span style=\"background-color:rgba(135,206,250,0.17241196);\">palate</span> <span style=\"background-color:rgba(135,206,250,0.0956475);\">is</span> <span style=\"background-color:rgba(135,206,250,0.044492632);\">a</span> <span style=\"background-color:rgba(135,206,250,0.10523348);\">bit</span> <span style=\"background-color:rgba(135,206,250,0.14510044);\">sharp</span> <span style=\"background-color:rgba(135,206,250,0.0669062);\">and</span> <span style=\"background-color:rgba(135,206,250,0.24464633);\">unrefined</span> <span style=\"background-color:rgba(135,206,250,0.074865565);\">,</span> <span style=\"background-color:rgba(135,206,250,0.11744829);\">but</span> <span style=\"background-color:rgba(135,206,250,0.09098015);\">ripe</span> <span style=\"background-color:rgba(135,206,250,0.08604834);\">and</span> <span style=\"background-color:rgba(135,206,250,0.11577502);\">juicy</span> <span style=\"background-color:rgba(135,206,250,0.09814744);\">,</span> <span style=\"background-color:rgba(135,206,250,0.17428045);\">with</span> <span style=\"background-color:rgba(135,206,250,0.10408124);\">black</span> <span style=\"background-color:rgba(135,206,250,0.21479139);\">cherry</span> <span style=\"background-color:rgba(135,206,250,0.1854319);\">and</span> <span style=\"background-color:rgba(135,206,250,0.35847124);\">plum</span> <span style=\"background-color:rgba(135,206,250,0.53800845);\">flavors</span> <span style=\"background-color:rgba(135,206,250,0.52124316);\">.</span>"
            ]
          },
          "metadata": {}
        },
        {
          "output_type": "stream",
          "name": "stdout",
          "text": [
            "finishes:   \t61.67%\n",
            "it:   \t22.46%\n",
            "the:   \t6.13%\n",
            ":   \t2.75%\n",
            "drink:   \t1.45%\n",
            "--------\n",
            "\n"
          ]
        },
        {
          "output_type": "display_data",
          "data": {
            "text/plain": [
              "<IPython.core.display.HTML object>"
            ],
            "text/html": [
              "<span style=\"background-color:rgba(135,206,250,0.3188631);\">wine</span> <span style=\"background-color:rgba(135,206,250,0.33916363);\">review</span> <span style=\"background-color:rgba(135,206,250,1.0);\">:</span> <span style=\"background-color:rgba(135,206,250,0.2759974);\">germany</span> <span style=\"background-color:rgba(135,206,250,0.33044097);\">:</span> <span style=\"background-color:rgba(135,206,250,0.12216657);\">baden</span> <span style=\"background-color:rgba(135,206,250,0.24588597);\">:</span> <span style=\"background-color:rgba(135,206,250,0.08461795);\">spätburgunder</span> <span style=\"background-color:rgba(135,206,250,0.16633135);\">:</span> <span style=\"background-color:rgba(135,206,250,0.07890308);\">smoke</span> <span style=\"background-color:rgba(135,206,250,0.04606235);\">and</span> <span style=\"background-color:rgba(135,206,250,0.057939123);\">smoke</span> <span style=\"background-color:rgba(135,206,250,0.042461917);\">notes</span> <span style=\"background-color:rgba(135,206,250,0.032023888);\">lend</span> <span style=\"background-color:rgba(135,206,250,0.026472878);\">a</span> <span style=\"background-color:rgba(135,206,250,0.05286193);\">savory</span> <span style=\"background-color:rgba(135,206,250,0.028495895);\">,</span> <span style=\"background-color:rgba(135,206,250,0.04982262);\">savory</span> <span style=\"background-color:rgba(135,206,250,0.040235642);\">tone</span> <span style=\"background-color:rgba(135,206,250,0.013571137);\">to</span> <span style=\"background-color:rgba(135,206,250,0.017409338);\">this</span> <span style=\"background-color:rgba(135,206,250,0.018659659);\">pinot</span> <span style=\"background-color:rgba(135,206,250,0.032019783);\">noir</span> <span style=\"background-color:rgba(135,206,250,0.057660338);\">.</span> <span style=\"background-color:rgba(135,206,250,0.0210659);\">the</span> <span style=\"background-color:rgba(135,206,250,0.026438687);\">palate</span> <span style=\"background-color:rgba(135,206,250,0.019088984);\">is</span> <span style=\"background-color:rgba(135,206,250,0.025440734);\">a</span> <span style=\"background-color:rgba(135,206,250,0.04727128);\">bit</span> <span style=\"background-color:rgba(135,206,250,0.1038769);\">sharp</span> <span style=\"background-color:rgba(135,206,250,0.043707);\">and</span> <span style=\"background-color:rgba(135,206,250,0.098890014);\">unrefined</span> <span style=\"background-color:rgba(135,206,250,0.043076616);\">,</span> <span style=\"background-color:rgba(135,206,250,0.06664815);\">but</span> <span style=\"background-color:rgba(135,206,250,0.07438528);\">ripe</span> <span style=\"background-color:rgba(135,206,250,0.056728624);\">and</span> <span style=\"background-color:rgba(135,206,250,0.08743449);\">juicy</span> <span style=\"background-color:rgba(135,206,250,0.0728191);\">,</span> <span style=\"background-color:rgba(135,206,250,0.09304652);\">with</span> <span style=\"background-color:rgba(135,206,250,0.06700398);\">black</span> <span style=\"background-color:rgba(135,206,250,0.096652985);\">cherry</span> <span style=\"background-color:rgba(135,206,250,0.086645596);\">and</span> <span style=\"background-color:rgba(135,206,250,0.13743779);\">plum</span> <span style=\"background-color:rgba(135,206,250,0.18942557);\">flavors</span> <span style=\"background-color:rgba(135,206,250,0.51239014);\">.</span> <span style=\"background-color:rgba(135,206,250,0.22449856);\">finishes</span>"
            ]
          },
          "metadata": {}
        },
        {
          "output_type": "stream",
          "name": "stdout",
          "text": [
            "with:   \t86.43%\n",
            "long:   \t4.53%\n",
            "moderately:   \t2.21%\n",
            "brisk:   \t1.1%\n",
            "a:   \t0.94%\n",
            "--------\n",
            "\n"
          ]
        },
        {
          "output_type": "display_data",
          "data": {
            "text/plain": [
              "<IPython.core.display.HTML object>"
            ],
            "text/html": [
              "<span style=\"background-color:rgba(135,206,250,0.18719822);\">wine</span> <span style=\"background-color:rgba(135,206,250,0.18831067);\">review</span> <span style=\"background-color:rgba(135,206,250,0.82625633);\">:</span> <span style=\"background-color:rgba(135,206,250,0.38059744);\">germany</span> <span style=\"background-color:rgba(135,206,250,0.15917303);\">:</span> <span style=\"background-color:rgba(135,206,250,0.1593398);\">baden</span> <span style=\"background-color:rgba(135,206,250,0.18505076);\">:</span> <span style=\"background-color:rgba(135,206,250,0.13127595);\">spätburgunder</span> <span style=\"background-color:rgba(135,206,250,0.14171025);\">:</span> <span style=\"background-color:rgba(135,206,250,0.08465003);\">smoke</span> <span style=\"background-color:rgba(135,206,250,0.04509424);\">and</span> <span style=\"background-color:rgba(135,206,250,0.05792119);\">smoke</span> <span style=\"background-color:rgba(135,206,250,0.061825648);\">notes</span> <span style=\"background-color:rgba(135,206,250,0.032434143);\">lend</span> <span style=\"background-color:rgba(135,206,250,0.020987693);\">a</span> <span style=\"background-color:rgba(135,206,250,0.06556299);\">savory</span> <span style=\"background-color:rgba(135,206,250,0.028448325);\">,</span> <span style=\"background-color:rgba(135,206,250,0.06330021);\">savory</span> <span style=\"background-color:rgba(135,206,250,0.04163778);\">tone</span> <span style=\"background-color:rgba(135,206,250,0.014597383);\">to</span> <span style=\"background-color:rgba(135,206,250,0.030682422);\">this</span> <span style=\"background-color:rgba(135,206,250,0.027270252);\">pinot</span> <span style=\"background-color:rgba(135,206,250,0.032011505);\">noir</span> <span style=\"background-color:rgba(135,206,250,0.06625935);\">.</span> <span style=\"background-color:rgba(135,206,250,0.017514886);\">the</span> <span style=\"background-color:rgba(135,206,250,0.08677503);\">palate</span> <span style=\"background-color:rgba(135,206,250,0.030754037);\">is</span> <span style=\"background-color:rgba(135,206,250,0.019892994);\">a</span> <span style=\"background-color:rgba(135,206,250,0.05049331);\">bit</span> <span style=\"background-color:rgba(135,206,250,0.11020625);\">sharp</span> <span style=\"background-color:rgba(135,206,250,0.040228523);\">and</span> <span style=\"background-color:rgba(135,206,250,0.16764969);\">unrefined</span> <span style=\"background-color:rgba(135,206,250,0.04011219);\">,</span> <span style=\"background-color:rgba(135,206,250,0.0690038);\">but</span> <span style=\"background-color:rgba(135,206,250,0.08098301);\">ripe</span> <span style=\"background-color:rgba(135,206,250,0.052711636);\">and</span> <span style=\"background-color:rgba(135,206,250,0.09447289);\">juicy</span> <span style=\"background-color:rgba(135,206,250,0.06389836);\">,</span> <span style=\"background-color:rgba(135,206,250,0.048035357);\">with</span> <span style=\"background-color:rgba(135,206,250,0.10905781);\">black</span> <span style=\"background-color:rgba(135,206,250,0.15594177);\">cherry</span> <span style=\"background-color:rgba(135,206,250,0.11235514);\">and</span> <span style=\"background-color:rgba(135,206,250,0.21207817);\">plum</span> <span style=\"background-color:rgba(135,206,250,0.2789953);\">flavors</span> <span style=\"background-color:rgba(135,206,250,0.79317755);\">.</span> <span style=\"background-color:rgba(135,206,250,1.0);\">finishes</span> <span style=\"background-color:rgba(135,206,250,0.24697565);\">with</span>"
            ]
          },
          "metadata": {}
        },
        {
          "output_type": "stream",
          "name": "stdout",
          "text": [
            "a:   \t99.35%\n",
            "an:   \t0.21%\n",
            "hints:   \t0.06%\n",
            "some:   \t0.05%\n",
            "notes:   \t0.04%\n",
            "--------\n",
            "\n"
          ]
        },
        {
          "output_type": "display_data",
          "data": {
            "text/plain": [
              "<IPython.core.display.HTML object>"
            ],
            "text/html": [
              "<span style=\"background-color:rgba(135,206,250,0.099049956);\">wine</span> <span style=\"background-color:rgba(135,206,250,0.11439246);\">review</span> <span style=\"background-color:rgba(135,206,250,0.41952705);\">:</span> <span style=\"background-color:rgba(135,206,250,0.338122);\">germany</span> <span style=\"background-color:rgba(135,206,250,0.07176294);\">:</span> <span style=\"background-color:rgba(135,206,250,0.16503331);\">baden</span> <span style=\"background-color:rgba(135,206,250,0.07102342);\">:</span> <span style=\"background-color:rgba(135,206,250,0.13631745);\">spätburgunder</span> <span style=\"background-color:rgba(135,206,250,0.09690062);\">:</span> <span style=\"background-color:rgba(135,206,250,0.059004292);\">smoke</span> <span style=\"background-color:rgba(135,206,250,0.03112611);\">and</span> <span style=\"background-color:rgba(135,206,250,0.04327872);\">smoke</span> <span style=\"background-color:rgba(135,206,250,0.045547325);\">notes</span> <span style=\"background-color:rgba(135,206,250,0.029225064);\">lend</span> <span style=\"background-color:rgba(135,206,250,0.010611398);\">a</span> <span style=\"background-color:rgba(135,206,250,0.047730256);\">savory</span> <span style=\"background-color:rgba(135,206,250,0.022102863);\">,</span> <span style=\"background-color:rgba(135,206,250,0.045885704);\">savory</span> <span style=\"background-color:rgba(135,206,250,0.045326058);\">tone</span> <span style=\"background-color:rgba(135,206,250,0.011576023);\">to</span> <span style=\"background-color:rgba(135,206,250,0.021953205);\">this</span> <span style=\"background-color:rgba(135,206,250,0.021490498);\">pinot</span> <span style=\"background-color:rgba(135,206,250,0.024962833);\">noir</span> <span style=\"background-color:rgba(135,206,250,0.048623204);\">.</span> <span style=\"background-color:rgba(135,206,250,0.013579807);\">the</span> <span style=\"background-color:rgba(135,206,250,0.07788212);\">palate</span> <span style=\"background-color:rgba(135,206,250,0.022977168);\">is</span> <span style=\"background-color:rgba(135,206,250,0.010372293);\">a</span> <span style=\"background-color:rgba(135,206,250,0.042125545);\">bit</span> <span style=\"background-color:rgba(135,206,250,0.08720505);\">sharp</span> <span style=\"background-color:rgba(135,206,250,0.026279913);\">and</span> <span style=\"background-color:rgba(135,206,250,0.13815874);\">unrefined</span> <span style=\"background-color:rgba(135,206,250,0.030627882);\">,</span> <span style=\"background-color:rgba(135,206,250,0.0545208);\">but</span> <span style=\"background-color:rgba(135,206,250,0.0671853);\">ripe</span> <span style=\"background-color:rgba(135,206,250,0.033517156);\">and</span> <span style=\"background-color:rgba(135,206,250,0.07191577);\">juicy</span> <span style=\"background-color:rgba(135,206,250,0.04676489);\">,</span> <span style=\"background-color:rgba(135,206,250,0.065066814);\">with</span> <span style=\"background-color:rgba(135,206,250,0.075322054);\">black</span> <span style=\"background-color:rgba(135,206,250,0.0945176);\">cherry</span> <span style=\"background-color:rgba(135,206,250,0.08013676);\">and</span> <span style=\"background-color:rgba(135,206,250,0.1629939);\">plum</span> <span style=\"background-color:rgba(135,206,250,0.20886974);\">flavors</span> <span style=\"background-color:rgba(135,206,250,0.5529229);\">.</span> <span style=\"background-color:rgba(135,206,250,1.0);\">finishes</span> <span style=\"background-color:rgba(135,206,250,0.58213544);\">with</span> <span style=\"background-color:rgba(135,206,250,0.15487482);\">a</span>"
            ]
          },
          "metadata": {}
        },
        {
          "output_type": "stream",
          "name": "stdout",
          "text": [
            "touch:   \t21.8%\n",
            "bit:   \t16.89%\n",
            "hint:   \t15.08%\n",
            "long:   \t8.51%\n",
            "whisper:   \t6.27%\n",
            "--------\n",
            "\n"
          ]
        },
        {
          "output_type": "display_data",
          "data": {
            "text/plain": [
              "<IPython.core.display.HTML object>"
            ],
            "text/html": [
              "<span style=\"background-color:rgba(135,206,250,0.1022647);\">wine</span> <span style=\"background-color:rgba(135,206,250,0.14136702);\">review</span> <span style=\"background-color:rgba(135,206,250,0.32708228);\">:</span> <span style=\"background-color:rgba(135,206,250,0.28786764);\">germany</span> <span style=\"background-color:rgba(135,206,250,0.1040015);\">:</span> <span style=\"background-color:rgba(135,206,250,0.1305634);\">baden</span> <span style=\"background-color:rgba(135,206,250,0.09873431);\">:</span> <span style=\"background-color:rgba(135,206,250,0.15827502);\">spätburgunder</span> <span style=\"background-color:rgba(135,206,250,0.096787624);\">:</span> <span style=\"background-color:rgba(135,206,250,0.033144556);\">smoke</span> <span style=\"background-color:rgba(135,206,250,0.034409847);\">and</span> <span style=\"background-color:rgba(135,206,250,0.02065752);\">smoke</span> <span style=\"background-color:rgba(135,206,250,0.03475769);\">notes</span> <span style=\"background-color:rgba(135,206,250,0.026922427);\">lend</span> <span style=\"background-color:rgba(135,206,250,0.0152009055);\">a</span> <span style=\"background-color:rgba(135,206,250,0.018419592);\">savory</span> <span style=\"background-color:rgba(135,206,250,0.021534076);\">,</span> <span style=\"background-color:rgba(135,206,250,0.018081145);\">savory</span> <span style=\"background-color:rgba(135,206,250,0.03227806);\">tone</span> <span style=\"background-color:rgba(135,206,250,0.01757191);\">to</span> <span style=\"background-color:rgba(135,206,250,0.01744157);\">this</span> <span style=\"background-color:rgba(135,206,250,0.023830425);\">pinot</span> <span style=\"background-color:rgba(135,206,250,0.025487168);\">noir</span> <span style=\"background-color:rgba(135,206,250,0.057067797);\">.</span> <span style=\"background-color:rgba(135,206,250,0.015987786);\">the</span> <span style=\"background-color:rgba(135,206,250,0.07008427);\">palate</span> <span style=\"background-color:rgba(135,206,250,0.037266538);\">is</span> <span style=\"background-color:rgba(135,206,250,0.01677475);\">a</span> <span style=\"background-color:rgba(135,206,250,0.026665708);\">bit</span> <span style=\"background-color:rgba(135,206,250,0.026600383);\">sharp</span> <span style=\"background-color:rgba(135,206,250,0.03633783);\">and</span> <span style=\"background-color:rgba(135,206,250,0.14416946);\">unrefined</span> <span style=\"background-color:rgba(135,206,250,0.040620748);\">,</span> <span style=\"background-color:rgba(135,206,250,0.052403986);\">but</span> <span style=\"background-color:rgba(135,206,250,0.034943696);\">ripe</span> <span style=\"background-color:rgba(135,206,250,0.049640834);\">and</span> <span style=\"background-color:rgba(135,206,250,0.038071517);\">juicy</span> <span style=\"background-color:rgba(135,206,250,0.058777936);\">,</span> <span style=\"background-color:rgba(135,206,250,0.07331831);\">with</span> <span style=\"background-color:rgba(135,206,250,0.07103511);\">black</span> <span style=\"background-color:rgba(135,206,250,0.14612532);\">cherry</span> <span style=\"background-color:rgba(135,206,250,0.096923925);\">and</span> <span style=\"background-color:rgba(135,206,250,0.19918504);\">plum</span> <span style=\"background-color:rgba(135,206,250,0.2610369);\">flavors</span> <span style=\"background-color:rgba(135,206,250,0.5091137);\">.</span> <span style=\"background-color:rgba(135,206,250,1.0);\">finishes</span> <span style=\"background-color:rgba(135,206,250,0.65247095);\">with</span> <span style=\"background-color:rgba(135,206,250,0.6728654);\">a</span> <span style=\"background-color:rgba(135,206,250,0.2541275);\">zesty</span>"
            ]
          },
          "metadata": {}
        },
        {
          "output_type": "stream",
          "name": "stdout",
          "text": [
            ",:   \t72.82%\n",
            "acidity:   \t7.55%\n",
            "lime:   \t4.7%\n",
            "note:   \t3.15%\n",
            "lemon:   \t2.3%\n",
            "--------\n",
            "\n"
          ]
        },
        {
          "output_type": "display_data",
          "data": {
            "text/plain": [
              "<IPython.core.display.HTML object>"
            ],
            "text/html": [
              "<span style=\"background-color:rgba(135,206,250,0.081617504);\">wine</span> <span style=\"background-color:rgba(135,206,250,0.14712507);\">review</span> <span style=\"background-color:rgba(135,206,250,0.43698794);\">:</span> <span style=\"background-color:rgba(135,206,250,0.3667903);\">germany</span> <span style=\"background-color:rgba(135,206,250,0.080039114);\">:</span> <span style=\"background-color:rgba(135,206,250,0.15165462);\">baden</span> <span style=\"background-color:rgba(135,206,250,0.081439875);\">:</span> <span style=\"background-color:rgba(135,206,250,0.1505926);\">spätburgunder</span> <span style=\"background-color:rgba(135,206,250,0.09590199);\">:</span> <span style=\"background-color:rgba(135,206,250,0.051427204);\">smoke</span> <span style=\"background-color:rgba(135,206,250,0.03898758);\">and</span> <span style=\"background-color:rgba(135,206,250,0.037028838);\">smoke</span> <span style=\"background-color:rgba(135,206,250,0.03630288);\">notes</span> <span style=\"background-color:rgba(135,206,250,0.063520186);\">lend</span> <span style=\"background-color:rgba(135,206,250,0.015979683);\">a</span> <span style=\"background-color:rgba(135,206,250,0.038086742);\">savory</span> <span style=\"background-color:rgba(135,206,250,0.019364575);\">,</span> <span style=\"background-color:rgba(135,206,250,0.035036217);\">savory</span> <span style=\"background-color:rgba(135,206,250,0.04177328);\">tone</span> <span style=\"background-color:rgba(135,206,250,0.013326883);\">to</span> <span style=\"background-color:rgba(135,206,250,0.056468055);\">this</span> <span style=\"background-color:rgba(135,206,250,0.026105197);\">pinot</span> <span style=\"background-color:rgba(135,206,250,0.027286507);\">noir</span> <span style=\"background-color:rgba(135,206,250,0.099636726);\">.</span> <span style=\"background-color:rgba(135,206,250,0.020304702);\">the</span> <span style=\"background-color:rgba(135,206,250,0.058584034);\">palate</span> <span style=\"background-color:rgba(135,206,250,0.067886494);\">is</span> <span style=\"background-color:rgba(135,206,250,0.018815458);\">a</span> <span style=\"background-color:rgba(135,206,250,0.046836674);\">bit</span> <span style=\"background-color:rgba(135,206,250,0.08751148);\">sharp</span> <span style=\"background-color:rgba(135,206,250,0.040387545);\">and</span> <span style=\"background-color:rgba(135,206,250,0.16077504);\">unrefined</span> <span style=\"background-color:rgba(135,206,250,0.035650942);\">,</span> <span style=\"background-color:rgba(135,206,250,0.09229063);\">but</span> <span style=\"background-color:rgba(135,206,250,0.06745526);\">ripe</span> <span style=\"background-color:rgba(135,206,250,0.055769857);\">and</span> <span style=\"background-color:rgba(135,206,250,0.070988454);\">juicy</span> <span style=\"background-color:rgba(135,206,250,0.044964276);\">,</span> <span style=\"background-color:rgba(135,206,250,0.15657493);\">with</span> <span style=\"background-color:rgba(135,206,250,0.07814293);\">black</span> <span style=\"background-color:rgba(135,206,250,0.16259257);\">cherry</span> <span style=\"background-color:rgba(135,206,250,0.14025232);\">and</span> <span style=\"background-color:rgba(135,206,250,0.21821022);\">plum</span> <span style=\"background-color:rgba(135,206,250,0.22751822);\">flavors</span> <span style=\"background-color:rgba(135,206,250,0.62378055);\">.</span> <span style=\"background-color:rgba(135,206,250,1.0);\">finishes</span> <span style=\"background-color:rgba(135,206,250,0.6722718);\">with</span> <span style=\"background-color:rgba(135,206,250,0.4829651);\">a</span> <span style=\"background-color:rgba(135,206,250,0.8630748);\">zesty</span> <span style=\"background-color:rgba(135,206,250,0.32208592);\">,</span>"
            ]
          },
          "metadata": {}
        },
        {
          "output_type": "stream",
          "name": "stdout",
          "text": [
            "bright:   \t30.1%\n",
            "clean:   \t12.51%\n",
            "slightly:   \t7.95%\n",
            "brisk:   \t6.36%\n",
            "fresh:   \t4.45%\n",
            "--------\n",
            "\n"
          ]
        },
        {
          "output_type": "display_data",
          "data": {
            "text/plain": [
              "<IPython.core.display.HTML object>"
            ],
            "text/html": [
              "<span style=\"background-color:rgba(135,206,250,0.22122133);\">wine</span> <span style=\"background-color:rgba(135,206,250,0.29201564);\">review</span> <span style=\"background-color:rgba(135,206,250,1.0);\">:</span> <span style=\"background-color:rgba(135,206,250,0.6921475);\">germany</span> <span style=\"background-color:rgba(135,206,250,0.20097032);\">:</span> <span style=\"background-color:rgba(135,206,250,0.19943646);\">baden</span> <span style=\"background-color:rgba(135,206,250,0.29208106);\">:</span> <span style=\"background-color:rgba(135,206,250,0.16068871);\">spätburgunder</span> <span style=\"background-color:rgba(135,206,250,0.17842366);\">:</span> <span style=\"background-color:rgba(135,206,250,0.08464781);\">smoke</span> <span style=\"background-color:rgba(135,206,250,0.06513541);\">and</span> <span style=\"background-color:rgba(135,206,250,0.067802936);\">smoke</span> <span style=\"background-color:rgba(135,206,250,0.09217406);\">notes</span> <span style=\"background-color:rgba(135,206,250,0.10559344);\">lend</span> <span style=\"background-color:rgba(135,206,250,0.043481022);\">a</span> <span style=\"background-color:rgba(135,206,250,0.048714165);\">savory</span> <span style=\"background-color:rgba(135,206,250,0.036449026);\">,</span> <span style=\"background-color:rgba(135,206,250,0.04667647);\">savory</span> <span style=\"background-color:rgba(135,206,250,0.09420827);\">tone</span> <span style=\"background-color:rgba(135,206,250,0.022733096);\">to</span> <span style=\"background-color:rgba(135,206,250,0.06326149);\">this</span> <span style=\"background-color:rgba(135,206,250,0.023578366);\">pinot</span> <span style=\"background-color:rgba(135,206,250,0.039918356);\">noir</span> <span style=\"background-color:rgba(135,206,250,0.10988279);\">.</span> <span style=\"background-color:rgba(135,206,250,0.039730914);\">the</span> <span style=\"background-color:rgba(135,206,250,0.08041965);\">palate</span> <span style=\"background-color:rgba(135,206,250,0.060947284);\">is</span> <span style=\"background-color:rgba(135,206,250,0.041887626);\">a</span> <span style=\"background-color:rgba(135,206,250,0.09037988);\">bit</span> <span style=\"background-color:rgba(135,206,250,0.06966616);\">sharp</span> <span style=\"background-color:rgba(135,206,250,0.05748575);\">and</span> <span style=\"background-color:rgba(135,206,250,0.20175733);\">unrefined</span> <span style=\"background-color:rgba(135,206,250,0.047794506);\">,</span> <span style=\"background-color:rgba(135,206,250,0.0540165);\">but</span> <span style=\"background-color:rgba(135,206,250,0.0465499);\">ripe</span> <span style=\"background-color:rgba(135,206,250,0.071129166);\">and</span> <span style=\"background-color:rgba(135,206,250,0.05802277);\">juicy</span> <span style=\"background-color:rgba(135,206,250,0.060356896);\">,</span> <span style=\"background-color:rgba(135,206,250,0.11928608);\">with</span> <span style=\"background-color:rgba(135,206,250,0.057658568);\">black</span> <span style=\"background-color:rgba(135,206,250,0.122077405);\">cherry</span> <span style=\"background-color:rgba(135,206,250,0.09552469);\">and</span> <span style=\"background-color:rgba(135,206,250,0.15186903);\">plum</span> <span style=\"background-color:rgba(135,206,250,0.27502102);\">flavors</span> <span style=\"background-color:rgba(135,206,250,0.49625492);\">.</span> <span style=\"background-color:rgba(135,206,250,0.69986045);\">finishes</span> <span style=\"background-color:rgba(135,206,250,0.49717653);\">with</span> <span style=\"background-color:rgba(135,206,250,0.55136764);\">a</span> <span style=\"background-color:rgba(135,206,250,0.5455657);\">zesty</span> <span style=\"background-color:rgba(135,206,250,0.80756336);\">,</span> <span style=\"background-color:rgba(135,206,250,0.4025638);\">but</span>"
            ]
          },
          "metadata": {}
        },
        {
          "output_type": "stream",
          "name": "stdout",
          "text": [
            "brisk:   \t17.17%\n",
            "slightly:   \t10.68%\n",
            "a:   \t8.37%\n",
            "elegant:   \t6.17%\n",
            "fresh:   \t5.36%\n",
            "--------\n",
            "\n"
          ]
        },
        {
          "output_type": "display_data",
          "data": {
            "text/plain": [
              "<IPython.core.display.HTML object>"
            ],
            "text/html": [
              "<span style=\"background-color:rgba(135,206,250,0.14526568);\">wine</span> <span style=\"background-color:rgba(135,206,250,0.15573181);\">review</span> <span style=\"background-color:rgba(135,206,250,0.6557723);\">:</span> <span style=\"background-color:rgba(135,206,250,0.35376164);\">germany</span> <span style=\"background-color:rgba(135,206,250,0.12922625);\">:</span> <span style=\"background-color:rgba(135,206,250,0.18748176);\">baden</span> <span style=\"background-color:rgba(135,206,250,0.15259983);\">:</span> <span style=\"background-color:rgba(135,206,250,0.24142894);\">spätburgunder</span> <span style=\"background-color:rgba(135,206,250,0.13650297);\">:</span> <span style=\"background-color:rgba(135,206,250,0.052789625);\">smoke</span> <span style=\"background-color:rgba(135,206,250,0.05316451);\">and</span> <span style=\"background-color:rgba(135,206,250,0.03537657);\">smoke</span> <span style=\"background-color:rgba(135,206,250,0.04633259);\">notes</span> <span style=\"background-color:rgba(135,206,250,0.04635087);\">lend</span> <span style=\"background-color:rgba(135,206,250,0.02379994);\">a</span> <span style=\"background-color:rgba(135,206,250,0.034248613);\">savory</span> <span style=\"background-color:rgba(135,206,250,0.032622203);\">,</span> <span style=\"background-color:rgba(135,206,250,0.03383565);\">savory</span> <span style=\"background-color:rgba(135,206,250,0.0454018);\">tone</span> <span style=\"background-color:rgba(135,206,250,0.029887453);\">to</span> <span style=\"background-color:rgba(135,206,250,0.028719194);\">this</span> <span style=\"background-color:rgba(135,206,250,0.04504735);\">pinot</span> <span style=\"background-color:rgba(135,206,250,0.039720256);\">noir</span> <span style=\"background-color:rgba(135,206,250,0.07945752);\">.</span> <span style=\"background-color:rgba(135,206,250,0.026798176);\">the</span> <span style=\"background-color:rgba(135,206,250,0.118064456);\">palate</span> <span style=\"background-color:rgba(135,206,250,0.04331475);\">is</span> <span style=\"background-color:rgba(135,206,250,0.022535257);\">a</span> <span style=\"background-color:rgba(135,206,250,0.03794755);\">bit</span> <span style=\"background-color:rgba(135,206,250,0.040130086);\">sharp</span> <span style=\"background-color:rgba(135,206,250,0.050808974);\">and</span> <span style=\"background-color:rgba(135,206,250,0.19290675);\">unrefined</span> <span style=\"background-color:rgba(135,206,250,0.05215595);\">,</span> <span style=\"background-color:rgba(135,206,250,0.07786471);\">but</span> <span style=\"background-color:rgba(135,206,250,0.050343506);\">ripe</span> <span style=\"background-color:rgba(135,206,250,0.06372846);\">and</span> <span style=\"background-color:rgba(135,206,250,0.06140825);\">juicy</span> <span style=\"background-color:rgba(135,206,250,0.06814415);\">,</span> <span style=\"background-color:rgba(135,206,250,0.08886232);\">with</span> <span style=\"background-color:rgba(135,206,250,0.07243646);\">black</span> <span style=\"background-color:rgba(135,206,250,0.15267465);\">cherry</span> <span style=\"background-color:rgba(135,206,250,0.10208312);\">and</span> <span style=\"background-color:rgba(135,206,250,0.16452236);\">plum</span> <span style=\"background-color:rgba(135,206,250,0.22612652);\">flavors</span> <span style=\"background-color:rgba(135,206,250,0.4266151);\">.</span> <span style=\"background-color:rgba(135,206,250,1.0);\">finishes</span> <span style=\"background-color:rgba(135,206,250,0.53733754);\">with</span> <span style=\"background-color:rgba(135,206,250,0.5382149);\">a</span> <span style=\"background-color:rgba(135,206,250,0.2945558);\">zesty</span> <span style=\"background-color:rgba(135,206,250,0.6470078);\">,</span> <span style=\"background-color:rgba(135,206,250,0.96281236);\">but</span> <span style=\"background-color:rgba(135,206,250,0.49313438);\">clean</span>"
            ]
          },
          "metadata": {}
        },
        {
          "output_type": "stream",
          "name": "stdout",
          "text": [
            ",:   \t53.27%\n",
            "and:   \t39.67%\n",
            "finish:   \t2.68%\n",
            "acidity:   \t1.45%\n",
            "-:   \t0.79%\n",
            "--------\n",
            "\n"
          ]
        },
        {
          "output_type": "display_data",
          "data": {
            "text/plain": [
              "<IPython.core.display.HTML object>"
            ],
            "text/html": [
              "<span style=\"background-color:rgba(135,206,250,0.36059362);\">wine</span> <span style=\"background-color:rgba(135,206,250,0.2727406);\">review</span> <span style=\"background-color:rgba(135,206,250,1.0);\">:</span> <span style=\"background-color:rgba(135,206,250,0.6633559);\">germany</span> <span style=\"background-color:rgba(135,206,250,0.2819096);\">:</span> <span style=\"background-color:rgba(135,206,250,0.1433592);\">baden</span> <span style=\"background-color:rgba(135,206,250,0.4744535);\">:</span> <span style=\"background-color:rgba(135,206,250,0.1614204);\">spätburgunder</span> <span style=\"background-color:rgba(135,206,250,0.22364007);\">:</span> <span style=\"background-color:rgba(135,206,250,0.06190556);\">smoke</span> <span style=\"background-color:rgba(135,206,250,0.04558983);\">and</span> <span style=\"background-color:rgba(135,206,250,0.046104744);\">smoke</span> <span style=\"background-color:rgba(135,206,250,0.056857068);\">notes</span> <span style=\"background-color:rgba(135,206,250,0.04672422);\">lend</span> <span style=\"background-color:rgba(135,206,250,0.024019742);\">a</span> <span style=\"background-color:rgba(135,206,250,0.04627686);\">savory</span> <span style=\"background-color:rgba(135,206,250,0.026693594);\">,</span> <span style=\"background-color:rgba(135,206,250,0.044300158);\">savory</span> <span style=\"background-color:rgba(135,206,250,0.046307);\">tone</span> <span style=\"background-color:rgba(135,206,250,0.014623316);\">to</span> <span style=\"background-color:rgba(135,206,250,0.047296863);\">this</span> <span style=\"background-color:rgba(135,206,250,0.020410918);\">pinot</span> <span style=\"background-color:rgba(135,206,250,0.027450308);\">noir</span> <span style=\"background-color:rgba(135,206,250,0.06131109);\">.</span> <span style=\"background-color:rgba(135,206,250,0.01687857);\">the</span> <span style=\"background-color:rgba(135,206,250,0.07380892);\">palate</span> <span style=\"background-color:rgba(135,206,250,0.041179832);\">is</span> <span style=\"background-color:rgba(135,206,250,0.018398026);\">a</span> <span style=\"background-color:rgba(135,206,250,0.048053034);\">bit</span> <span style=\"background-color:rgba(135,206,250,0.07131561);\">sharp</span> <span style=\"background-color:rgba(135,206,250,0.029311948);\">and</span> <span style=\"background-color:rgba(135,206,250,0.1079659);\">unrefined</span> <span style=\"background-color:rgba(135,206,250,0.03147469);\">,</span> <span style=\"background-color:rgba(135,206,250,0.051090013);\">but</span> <span style=\"background-color:rgba(135,206,250,0.037809934);\">ripe</span> <span style=\"background-color:rgba(135,206,250,0.034820847);\">and</span> <span style=\"background-color:rgba(135,206,250,0.051066518);\">juicy</span> <span style=\"background-color:rgba(135,206,250,0.035658);\">,</span> <span style=\"background-color:rgba(135,206,250,0.059086055);\">with</span> <span style=\"background-color:rgba(135,206,250,0.038703922);\">black</span> <span style=\"background-color:rgba(135,206,250,0.07496368);\">cherry</span> <span style=\"background-color:rgba(135,206,250,0.04240328);\">and</span> <span style=\"background-color:rgba(135,206,250,0.06868976);\">plum</span> <span style=\"background-color:rgba(135,206,250,0.14223632);\">flavors</span> <span style=\"background-color:rgba(135,206,250,0.12202411);\">.</span> <span style=\"background-color:rgba(135,206,250,0.3741054);\">finishes</span> <span style=\"background-color:rgba(135,206,250,0.11172849);\">with</span> <span style=\"background-color:rgba(135,206,250,0.09791644);\">a</span> <span style=\"background-color:rgba(135,206,250,0.12196166);\">zesty</span> <span style=\"background-color:rgba(135,206,250,0.105554946);\">,</span> <span style=\"background-color:rgba(135,206,250,0.18904264);\">but</span> <span style=\"background-color:rgba(135,206,250,0.20575851);\">clean</span> <span style=\"background-color:rgba(135,206,250,0.30827403);\">.</span>"
            ]
          },
          "metadata": {}
        },
        {
          "output_type": "stream",
          "name": "stdout",
          "text": [
            ":   \t98.11%\n",
            "drink:   \t1.7%\n",
            "a:   \t0.06%\n",
            "it:   \t0.04%\n",
            "the:   \t0.02%\n",
            "--------\n",
            "\n"
          ]
        }
      ],
      "source": [
        "info = text_generator.generate(\n",
        "    \"wine review : germany\", max_tokens=80, temperature=0.5\n",
        ")\n",
        "print_probs(info, vocab)"
      ]
    }
  ],
  "metadata": {
    "kernelspec": {
      "display_name": "Python 3",
      "name": "python3"
    },
    "language_info": {
      "codemirror_mode": {
        "name": "ipython",
        "version": 3
      },
      "file_extension": ".py",
      "mimetype": "text/x-python",
      "name": "python",
      "nbconvert_exporter": "python",
      "pygments_lexer": "ipython3",
      "version": "3.10.9"
    },
    "vscode": {
      "interpreter": {
        "hash": "31f2aee4e71d21fbe5cf8b01ff0e069b9275f58929596ceb00d14d90e3e16cd6"
      }
    },
    "colab": {
      "provenance": [],
      "gpuType": "T4"
    },
    "accelerator": "GPU"
  },
  "nbformat": 4,
  "nbformat_minor": 5
}
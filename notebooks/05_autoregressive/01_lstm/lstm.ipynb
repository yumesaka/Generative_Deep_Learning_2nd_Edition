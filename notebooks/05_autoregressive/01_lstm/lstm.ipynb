{
  "cells": [
    {
      "cell_type": "markdown",
      "id": "b076bd1a-b236-4fbc-953d-8295b25122ae",
      "metadata": {
        "id": "b076bd1a-b236-4fbc-953d-8295b25122ae"
      },
      "source": [
        "# 🥙 LSTM - 레시피 데이터셋"
      ]
    },
    {
      "cell_type": "markdown",
      "id": "5795b771",
      "metadata": {
        "id": "5795b771"
      },
      "source": [
        "<table align=\"left\">\n",
        "  <td>\n",
        "    <a href=\"https://colab.research.google.com/github/rickiepark/Generative_Deep_Learning_2nd_Edition/blob/main/notebooks/05_autoregressive/01_lstm/lstm.ipynb\" target=\"_parent\"><img src=\"https://colab.research.google.com/assets/colab-badge.svg\" alt=\"Open In Colab\"/></a>\n",
        "  </td>\n",
        "</table>"
      ]
    },
    {
      "cell_type": "markdown",
      "id": "658a95da-9645-4bcf-bd9d-4b95a4b6f582",
      "metadata": {
        "id": "658a95da-9645-4bcf-bd9d-4b95a4b6f582"
      },
      "source": [
        "이 노트북에서는 레시피 데이터셋에서 LSTM을 훈련합니다."
      ]
    },
    {
      "cell_type": "code",
      "execution_count": 1,
      "id": "4e0d56cc-4773-4029-97d8-26f882ba79c9",
      "metadata": {
        "id": "4e0d56cc-4773-4029-97d8-26f882ba79c9"
      },
      "outputs": [],
      "source": [
        "import numpy as np\n",
        "import json\n",
        "import re\n",
        "import string\n",
        "\n",
        "import tensorflow as tf\n",
        "from tensorflow.keras import layers, models, callbacks, losses"
      ]
    },
    {
      "cell_type": "markdown",
      "id": "339e6268-ebd7-4feb-86db-1fe7abccdbe5",
      "metadata": {
        "id": "339e6268-ebd7-4feb-86db-1fe7abccdbe5"
      },
      "source": [
        "## 0. 파라미터 <a name=\"parameters\"></a>"
      ]
    },
    {
      "cell_type": "code",
      "execution_count": 2,
      "id": "2d8352af-343e-4c2e-8c91-95f8bac1c8a1",
      "metadata": {
        "id": "2d8352af-343e-4c2e-8c91-95f8bac1c8a1"
      },
      "outputs": [],
      "source": [
        "VOCAB_SIZE = 10000\n",
        "MAX_LEN = 200\n",
        "EMBEDDING_DIM = 100\n",
        "N_UNITS = 128\n",
        "VALIDATION_SPLIT = 0.2\n",
        "SEED = 42\n",
        "LOAD_MODEL = False\n",
        "BATCH_SIZE = 32\n",
        "EPOCHS = 25"
      ]
    },
    {
      "cell_type": "markdown",
      "id": "b7716fac-0010-49b0-b98e-53be2259edde",
      "metadata": {
        "id": "b7716fac-0010-49b0-b98e-53be2259edde"
      },
      "source": [
        "## 1. 데이터 로드 <a name=\"load\"></a>"
      ]
    },
    {
      "cell_type": "code",
      "execution_count": 3,
      "id": "46881426",
      "metadata": {
        "id": "46881426",
        "outputId": "ebf94a29-5c07-4f0f-b3d1-06cdfdf4522e",
        "colab": {
          "base_uri": "https://localhost:8080/",
          "height": 128
        }
      },
      "outputs": [
        {
          "output_type": "display_data",
          "data": {
            "text/plain": [
              "<IPython.core.display.HTML object>"
            ],
            "text/html": [
              "\n",
              "     <input type=\"file\" id=\"files-37b7b091-056e-43f5-a7e0-f5524461343c\" name=\"files[]\" multiple disabled\n",
              "        style=\"border:none\" />\n",
              "     <output id=\"result-37b7b091-056e-43f5-a7e0-f5524461343c\">\n",
              "      Upload widget is only available when the cell has been executed in the\n",
              "      current browser session. Please rerun this cell to enable.\n",
              "      </output>\n",
              "      <script>// Copyright 2017 Google LLC\n",
              "//\n",
              "// Licensed under the Apache License, Version 2.0 (the \"License\");\n",
              "// you may not use this file except in compliance with the License.\n",
              "// You may obtain a copy of the License at\n",
              "//\n",
              "//      http://www.apache.org/licenses/LICENSE-2.0\n",
              "//\n",
              "// Unless required by applicable law or agreed to in writing, software\n",
              "// distributed under the License is distributed on an \"AS IS\" BASIS,\n",
              "// WITHOUT WARRANTIES OR CONDITIONS OF ANY KIND, either express or implied.\n",
              "// See the License for the specific language governing permissions and\n",
              "// limitations under the License.\n",
              "\n",
              "/**\n",
              " * @fileoverview Helpers for google.colab Python module.\n",
              " */\n",
              "(function(scope) {\n",
              "function span(text, styleAttributes = {}) {\n",
              "  const element = document.createElement('span');\n",
              "  element.textContent = text;\n",
              "  for (const key of Object.keys(styleAttributes)) {\n",
              "    element.style[key] = styleAttributes[key];\n",
              "  }\n",
              "  return element;\n",
              "}\n",
              "\n",
              "// Max number of bytes which will be uploaded at a time.\n",
              "const MAX_PAYLOAD_SIZE = 100 * 1024;\n",
              "\n",
              "function _uploadFiles(inputId, outputId) {\n",
              "  const steps = uploadFilesStep(inputId, outputId);\n",
              "  const outputElement = document.getElementById(outputId);\n",
              "  // Cache steps on the outputElement to make it available for the next call\n",
              "  // to uploadFilesContinue from Python.\n",
              "  outputElement.steps = steps;\n",
              "\n",
              "  return _uploadFilesContinue(outputId);\n",
              "}\n",
              "\n",
              "// This is roughly an async generator (not supported in the browser yet),\n",
              "// where there are multiple asynchronous steps and the Python side is going\n",
              "// to poll for completion of each step.\n",
              "// This uses a Promise to block the python side on completion of each step,\n",
              "// then passes the result of the previous step as the input to the next step.\n",
              "function _uploadFilesContinue(outputId) {\n",
              "  const outputElement = document.getElementById(outputId);\n",
              "  const steps = outputElement.steps;\n",
              "\n",
              "  const next = steps.next(outputElement.lastPromiseValue);\n",
              "  return Promise.resolve(next.value.promise).then((value) => {\n",
              "    // Cache the last promise value to make it available to the next\n",
              "    // step of the generator.\n",
              "    outputElement.lastPromiseValue = value;\n",
              "    return next.value.response;\n",
              "  });\n",
              "}\n",
              "\n",
              "/**\n",
              " * Generator function which is called between each async step of the upload\n",
              " * process.\n",
              " * @param {string} inputId Element ID of the input file picker element.\n",
              " * @param {string} outputId Element ID of the output display.\n",
              " * @return {!Iterable<!Object>} Iterable of next steps.\n",
              " */\n",
              "function* uploadFilesStep(inputId, outputId) {\n",
              "  const inputElement = document.getElementById(inputId);\n",
              "  inputElement.disabled = false;\n",
              "\n",
              "  const outputElement = document.getElementById(outputId);\n",
              "  outputElement.innerHTML = '';\n",
              "\n",
              "  const pickedPromise = new Promise((resolve) => {\n",
              "    inputElement.addEventListener('change', (e) => {\n",
              "      resolve(e.target.files);\n",
              "    });\n",
              "  });\n",
              "\n",
              "  const cancel = document.createElement('button');\n",
              "  inputElement.parentElement.appendChild(cancel);\n",
              "  cancel.textContent = 'Cancel upload';\n",
              "  const cancelPromise = new Promise((resolve) => {\n",
              "    cancel.onclick = () => {\n",
              "      resolve(null);\n",
              "    };\n",
              "  });\n",
              "\n",
              "  // Wait for the user to pick the files.\n",
              "  const files = yield {\n",
              "    promise: Promise.race([pickedPromise, cancelPromise]),\n",
              "    response: {\n",
              "      action: 'starting',\n",
              "    }\n",
              "  };\n",
              "\n",
              "  cancel.remove();\n",
              "\n",
              "  // Disable the input element since further picks are not allowed.\n",
              "  inputElement.disabled = true;\n",
              "\n",
              "  if (!files) {\n",
              "    return {\n",
              "      response: {\n",
              "        action: 'complete',\n",
              "      }\n",
              "    };\n",
              "  }\n",
              "\n",
              "  for (const file of files) {\n",
              "    const li = document.createElement('li');\n",
              "    li.append(span(file.name, {fontWeight: 'bold'}));\n",
              "    li.append(span(\n",
              "        `(${file.type || 'n/a'}) - ${file.size} bytes, ` +\n",
              "        `last modified: ${\n",
              "            file.lastModifiedDate ? file.lastModifiedDate.toLocaleDateString() :\n",
              "                                    'n/a'} - `));\n",
              "    const percent = span('0% done');\n",
              "    li.appendChild(percent);\n",
              "\n",
              "    outputElement.appendChild(li);\n",
              "\n",
              "    const fileDataPromise = new Promise((resolve) => {\n",
              "      const reader = new FileReader();\n",
              "      reader.onload = (e) => {\n",
              "        resolve(e.target.result);\n",
              "      };\n",
              "      reader.readAsArrayBuffer(file);\n",
              "    });\n",
              "    // Wait for the data to be ready.\n",
              "    let fileData = yield {\n",
              "      promise: fileDataPromise,\n",
              "      response: {\n",
              "        action: 'continue',\n",
              "      }\n",
              "    };\n",
              "\n",
              "    // Use a chunked sending to avoid message size limits. See b/62115660.\n",
              "    let position = 0;\n",
              "    do {\n",
              "      const length = Math.min(fileData.byteLength - position, MAX_PAYLOAD_SIZE);\n",
              "      const chunk = new Uint8Array(fileData, position, length);\n",
              "      position += length;\n",
              "\n",
              "      const base64 = btoa(String.fromCharCode.apply(null, chunk));\n",
              "      yield {\n",
              "        response: {\n",
              "          action: 'append',\n",
              "          file: file.name,\n",
              "          data: base64,\n",
              "        },\n",
              "      };\n",
              "\n",
              "      let percentDone = fileData.byteLength === 0 ?\n",
              "          100 :\n",
              "          Math.round((position / fileData.byteLength) * 100);\n",
              "      percent.textContent = `${percentDone}% done`;\n",
              "\n",
              "    } while (position < fileData.byteLength);\n",
              "  }\n",
              "\n",
              "  // All done.\n",
              "  yield {\n",
              "    response: {\n",
              "      action: 'complete',\n",
              "    }\n",
              "  };\n",
              "}\n",
              "\n",
              "scope.google = scope.google || {};\n",
              "scope.google.colab = scope.google.colab || {};\n",
              "scope.google.colab._files = {\n",
              "  _uploadFiles,\n",
              "  _uploadFilesContinue,\n",
              "};\n",
              "})(self);\n",
              "</script> "
            ]
          },
          "metadata": {}
        },
        {
          "output_type": "stream",
          "name": "stdout",
          "text": [
            "Saving kaggle.json to kaggle.json\n",
            "Downloading epirecipes.zip to /content\n",
            " 98% 11.0M/11.3M [00:01<00:00, 12.2MB/s]\n",
            "100% 11.3M/11.3M [00:01<00:00, 6.54MB/s]\n"
          ]
        }
      ],
      "source": [
        "import sys\n",
        "\n",
        "# 코랩일 경우 노트북에서 celeba 데이터셋을 받습니다.\n",
        "if 'google.colab' in sys.modules:\n",
        "    # 캐글-->Setttings-->API-->Create New Token에서\n",
        "    # kaggle.json 파일을 만들어 코랩에 업로드하세요.\n",
        "    from google.colab import files\n",
        "    files.upload()\n",
        "    !mkdir ~/.kaggle\n",
        "    !cp kaggle.json ~/.kaggle/\n",
        "    !chmod 600 ~/.kaggle/kaggle.json\n",
        "    # celeba 데이터셋을 다운로드하고 압축을 해제합니다.\n",
        "    !kaggle datasets download -d hugodarwood/epirecipes\n",
        "    !unzip -q epirecipes.zip"
      ]
    },
    {
      "cell_type": "code",
      "execution_count": 4,
      "id": "93cf6b0f-9667-4146-8911-763a8a2925d3",
      "metadata": {
        "tags": [],
        "id": "93cf6b0f-9667-4146-8911-763a8a2925d3"
      },
      "outputs": [],
      "source": [
        "# 전체 데이터셋 로드\n",
        "with open(\"./full_format_recipes.json\") as json_data:\n",
        "    recipe_data = json.load(json_data)"
      ]
    },
    {
      "cell_type": "code",
      "execution_count": 5,
      "id": "23a74eca-f1b7-4a46-9a1f-b5806a4ed361",
      "metadata": {
        "tags": [],
        "id": "23a74eca-f1b7-4a46-9a1f-b5806a4ed361"
      },
      "outputs": [],
      "source": [
        "# 데이터셋 필터링\n",
        "filtered_data = [\n",
        "    \"Recipe for \" + x[\"title\"] + \" | \" + \" \".join(x[\"directions\"])\n",
        "    for x in recipe_data\n",
        "    if \"title\" in x\n",
        "    and x[\"title\"] is not None\n",
        "    and \"directions\" in x\n",
        "    and x[\"directions\"] is not None\n",
        "]"
      ]
    },
    {
      "cell_type": "code",
      "execution_count": 6,
      "id": "389c20de-0422-4c48-a7b4-6ee12a7bf0e2",
      "metadata": {
        "tags": [],
        "id": "389c20de-0422-4c48-a7b4-6ee12a7bf0e2",
        "outputId": "817d4bf0-9068-432a-e4f6-9d16a824e3a5",
        "colab": {
          "base_uri": "https://localhost:8080/"
        }
      },
      "outputs": [
        {
          "output_type": "stream",
          "name": "stdout",
          "text": [
            "20111개 레시피 로드\n"
          ]
        }
      ],
      "source": [
        "# 레시피 개수 확인\n",
        "n_recipes = len(filtered_data)\n",
        "print(f\"{n_recipes}개 레시피 로드\")"
      ]
    },
    {
      "cell_type": "code",
      "execution_count": 7,
      "id": "1b2e3cf7-e416-460e-874a-0dd9637bca36",
      "metadata": {
        "id": "1b2e3cf7-e416-460e-874a-0dd9637bca36",
        "outputId": "ee699d21-d5e9-4942-d03e-5cf56a7cb137",
        "colab": {
          "base_uri": "https://localhost:8080/"
        }
      },
      "outputs": [
        {
          "output_type": "stream",
          "name": "stdout",
          "text": [
            "Recipe for Ham Persillade with Mustard Potato Salad and Mashed Peas  | Chop enough parsley leaves to measure 1 tablespoon; reserve. Chop remaining leaves and stems and simmer with broth and garlic in a small saucepan, covered, 5 minutes. Meanwhile, sprinkle gelatin over water in a medium bowl and let soften 1 minute. Strain broth through a fine-mesh sieve into bowl with gelatin and stir to dissolve. Season with salt and pepper. Set bowl in an ice bath and cool to room temperature, stirring. Toss ham with reserved parsley and divide among jars. Pour gelatin on top and chill until set, at least 1 hour. Whisk together mayonnaise, mustard, vinegar, 1/4 teaspoon salt, and 1/4 teaspoon pepper in a large bowl. Stir in celery, cornichons, and potatoes. Pulse peas with marjoram, oil, 1/2 teaspoon pepper, and 1/4 teaspoon salt in a food processor to a coarse mash. Layer peas, then potato salad, over ham.\n"
          ]
        }
      ],
      "source": [
        "example = filtered_data[9]\n",
        "print(example)"
      ]
    },
    {
      "cell_type": "markdown",
      "id": "3f871aaf-d873-41c7-8946-e4eef7ac17c1",
      "metadata": {
        "id": "3f871aaf-d873-41c7-8946-e4eef7ac17c1"
      },
      "source": [
        "## 2. 데이터 토큰화"
      ]
    },
    {
      "cell_type": "code",
      "execution_count": 8,
      "id": "5b2064fb-5dcc-4657-b470-0928d10e2ddc",
      "metadata": {
        "tags": [],
        "id": "5b2064fb-5dcc-4657-b470-0928d10e2ddc"
      },
      "outputs": [],
      "source": [
        "# 구두점을 분리하여 별도의 '단어'로 취급합니다.\n",
        "def pad_punctuation(s):\n",
        "    s = re.sub(f\"([{string.punctuation}])\", r\" \\1 \", s)\n",
        "    s = re.sub(\" +\", \" \", s)\n",
        "    return s\n",
        "\n",
        "\n",
        "text_data = [pad_punctuation(x) for x in filtered_data]"
      ]
    },
    {
      "cell_type": "code",
      "execution_count": 9,
      "id": "b87d7c65-9a46-492a-a5c0-a043b0d252f3",
      "metadata": {
        "id": "b87d7c65-9a46-492a-a5c0-a043b0d252f3",
        "outputId": "81c1c66c-7039-4d57-a499-a110004b1990",
        "colab": {
          "base_uri": "https://localhost:8080/",
          "height": 143
        }
      },
      "outputs": [
        {
          "output_type": "execute_result",
          "data": {
            "text/plain": [
              "'Recipe for Ham Persillade with Mustard Potato Salad and Mashed Peas | Chop enough parsley leaves to measure 1 tablespoon ; reserve . Chop remaining leaves and stems and simmer with broth and garlic in a small saucepan , covered , 5 minutes . Meanwhile , sprinkle gelatin over water in a medium bowl and let soften 1 minute . Strain broth through a fine - mesh sieve into bowl with gelatin and stir to dissolve . Season with salt and pepper . Set bowl in an ice bath and cool to room temperature , stirring . Toss ham with reserved parsley and divide among jars . Pour gelatin on top and chill until set , at least 1 hour . Whisk together mayonnaise , mustard , vinegar , 1 / 4 teaspoon salt , and 1 / 4 teaspoon pepper in a large bowl . Stir in celery , cornichons , and potatoes . Pulse peas with marjoram , oil , 1 / 2 teaspoon pepper , and 1 / 4 teaspoon salt in a food processor to a coarse mash . Layer peas , then potato salad , over ham . '"
            ],
            "application/vnd.google.colaboratory.intrinsic+json": {
              "type": "string"
            }
          },
          "metadata": {},
          "execution_count": 9
        }
      ],
      "source": [
        "# 레시피 샘플 출력\n",
        "example_data = text_data[9]\n",
        "example_data"
      ]
    },
    {
      "cell_type": "code",
      "execution_count": 10,
      "id": "9834f916-b21a-4104-acc9-f28d3bd7a8c1",
      "metadata": {
        "tags": [],
        "id": "9834f916-b21a-4104-acc9-f28d3bd7a8c1"
      },
      "outputs": [],
      "source": [
        "# 텐서플로 데이터셋으로 변환하기\n",
        "text_ds = (\n",
        "    tf.data.Dataset.from_tensor_slices(text_data)\n",
        "    .batch(BATCH_SIZE)\n",
        "    .shuffle(1000)\n",
        ")"
      ]
    },
    {
      "cell_type": "code",
      "execution_count": 11,
      "id": "884c0bcb-0807-45a1-8f7e-a32f2c6fa4de",
      "metadata": {
        "id": "884c0bcb-0807-45a1-8f7e-a32f2c6fa4de"
      },
      "outputs": [],
      "source": [
        "# 벡터화 층 만들기\n",
        "vectorize_layer = layers.TextVectorization(\n",
        "    standardize=\"lower\",\n",
        "    max_tokens=VOCAB_SIZE,\n",
        "    output_mode=\"int\",\n",
        "    output_sequence_length=MAX_LEN + 1,\n",
        ")"
      ]
    },
    {
      "cell_type": "code",
      "execution_count": 12,
      "id": "4d6dd34a-d905-497b-926a-405380ebcf98",
      "metadata": {
        "id": "4d6dd34a-d905-497b-926a-405380ebcf98"
      },
      "outputs": [],
      "source": [
        "# 훈련 세트에 층 적용\n",
        "vectorize_layer.adapt(text_ds)\n",
        "vocab = vectorize_layer.get_vocabulary()"
      ]
    },
    {
      "cell_type": "code",
      "execution_count": 13,
      "id": "f6c1c7ce-3cf0-40d4-a3dc-ab7090f69f2f",
      "metadata": {
        "id": "f6c1c7ce-3cf0-40d4-a3dc-ab7090f69f2f",
        "outputId": "032780db-4abd-4512-81c3-f678c0303de5",
        "colab": {
          "base_uri": "https://localhost:8080/"
        }
      },
      "outputs": [
        {
          "output_type": "stream",
          "name": "stdout",
          "text": [
            "0: \n",
            "1: [UNK]\n",
            "2: .\n",
            "3: ,\n",
            "4: and\n",
            "5: to\n",
            "6: in\n",
            "7: the\n",
            "8: with\n",
            "9: a\n"
          ]
        }
      ],
      "source": [
        "# 토큰:단어 매핑 샘플 출력하기\n",
        "for i, word in enumerate(vocab[:10]):\n",
        "    print(f\"{i}: {word}\")"
      ]
    },
    {
      "cell_type": "code",
      "execution_count": 14,
      "id": "1cc30186-7ec6-4eb6-b29a-65df6714d321",
      "metadata": {
        "id": "1cc30186-7ec6-4eb6-b29a-65df6714d321",
        "outputId": "4b69c2e7-5229-4a2c-9da1-8d472d8d0a4c",
        "colab": {
          "base_uri": "https://localhost:8080/"
        }
      },
      "outputs": [
        {
          "output_type": "stream",
          "name": "stdout",
          "text": [
            "[  26   16  557    1    8  298  335  189    4 1054  494   27  332  228\n",
            "  235  262    5  594   11  133   22  311    2  332   45  262    4  671\n",
            "    4   70    8  171    4   81    6    9   65   80    3  121    3   59\n",
            "   12    2  299    3   88  650   20   39    6    9   29   21    4   67\n",
            "  529   11  164    2  320  171  102    9  374   13  643  306   25   21\n",
            "    8  650    4   42    5  931    2   63    8   24    4   33    2  114\n",
            "   21    6  178  181 1245    4   60    5  140  112    3   48    2  117\n",
            "  557    8  285  235    4  200  292  980    2  107  650   28   72    4\n",
            "  108   10  114    3   57  204   11  172    2   73  110  482    3  298\n",
            "    3  190    3   11   23   32  142   24    3    4   11   23   32  142\n",
            "   33    6    9   30   21    2   42    6  353    3 3224    3    4  150\n",
            "    2  437  494    8 1281    3   37    3   11   23   15  142   33    3\n",
            "    4   11   23   32  142   24    6    9  291  188    5    9  412  572\n",
            "    2  230  494    3   46  335  189    3   20  557    2    0    0    0\n",
            "    0    0    0    0    0]\n"
          ]
        }
      ],
      "source": [
        "# 동일 샘플을 정수로 변환하여 출력하기\n",
        "example_tokenised = vectorize_layer(example_data)\n",
        "print(example_tokenised.numpy())"
      ]
    },
    {
      "cell_type": "markdown",
      "id": "8c195efb-84c6-4be0-a989-a7542188ad35",
      "metadata": {
        "id": "8c195efb-84c6-4be0-a989-a7542188ad35"
      },
      "source": [
        "## 3. 훈련 세트 만들기"
      ]
    },
    {
      "cell_type": "code",
      "execution_count": 15,
      "id": "740294a1-1a6b-4c89-92f2-036d7d1b788b",
      "metadata": {
        "id": "740294a1-1a6b-4c89-92f2-036d7d1b788b"
      },
      "outputs": [],
      "source": [
        "# 레시피와 한 단어 이동한 동일 텍스트로 훈련 세트를 만듭니다.\n",
        "def prepare_inputs(text):\n",
        "    text = tf.expand_dims(text, -1)\n",
        "    tokenized_sentences = vectorize_layer(text)\n",
        "    x = tokenized_sentences[:, :-1]\n",
        "    y = tokenized_sentences[:, 1:]\n",
        "    return x, y\n",
        "\n",
        "\n",
        "train_ds = text_ds.map(prepare_inputs)"
      ]
    },
    {
      "cell_type": "markdown",
      "id": "aff50401-3abe-4c10-bba8-b35bc13ad7d5",
      "metadata": {
        "tags": [],
        "id": "aff50401-3abe-4c10-bba8-b35bc13ad7d5"
      },
      "source": [
        "## 4. LSTM 만들기 <a name=\"build\"></a>"
      ]
    },
    {
      "cell_type": "code",
      "execution_count": 16,
      "id": "9230b5bf-b4a8-48d5-b73b-6899a598f296",
      "metadata": {
        "id": "9230b5bf-b4a8-48d5-b73b-6899a598f296",
        "outputId": "2cf99dec-3185-4353-9d02-8d36afb1b3cc",
        "colab": {
          "base_uri": "https://localhost:8080/"
        }
      },
      "outputs": [
        {
          "output_type": "stream",
          "name": "stdout",
          "text": [
            "Model: \"model\"\n",
            "_________________________________________________________________\n",
            " Layer (type)                Output Shape              Param #   \n",
            "=================================================================\n",
            " input_1 (InputLayer)        [(None, None)]            0         \n",
            "                                                                 \n",
            " embedding (Embedding)       (None, None, 100)         1000000   \n",
            "                                                                 \n",
            " lstm (LSTM)                 (None, None, 128)         117248    \n",
            "                                                                 \n",
            " dense (Dense)               (None, None, 10000)       1290000   \n",
            "                                                                 \n",
            "=================================================================\n",
            "Total params: 2407248 (9.18 MB)\n",
            "Trainable params: 2407248 (9.18 MB)\n",
            "Non-trainable params: 0 (0.00 Byte)\n",
            "_________________________________________________________________\n"
          ]
        }
      ],
      "source": [
        "inputs = layers.Input(shape=(None,), dtype=\"int32\")\n",
        "x = layers.Embedding(VOCAB_SIZE, EMBEDDING_DIM)(inputs)\n",
        "x = layers.LSTM(N_UNITS, return_sequences=True)(x)\n",
        "outputs = layers.Dense(VOCAB_SIZE, activation=\"softmax\")(x)\n",
        "lstm = models.Model(inputs, outputs)\n",
        "lstm.summary()"
      ]
    },
    {
      "cell_type": "code",
      "execution_count": 17,
      "id": "800a3c6e-fb11-4792-b6bc-9a43a7c977ad",
      "metadata": {
        "tags": [],
        "id": "800a3c6e-fb11-4792-b6bc-9a43a7c977ad"
      },
      "outputs": [],
      "source": [
        "if LOAD_MODEL:\n",
        "    # model.load_weights('./models/model')\n",
        "    lstm = models.load_model(\"./models/lstm\", compile=False)"
      ]
    },
    {
      "cell_type": "markdown",
      "id": "35b14665-4359-447b-be58-3fd58ba69084",
      "metadata": {
        "id": "35b14665-4359-447b-be58-3fd58ba69084"
      },
      "source": [
        "## 5. LSTM 훈련하기 <a name=\"train\"></a>"
      ]
    },
    {
      "cell_type": "code",
      "execution_count": 18,
      "id": "ffb1bd3b-6fd9-4536-973e-6375bbcbf16d",
      "metadata": {
        "id": "ffb1bd3b-6fd9-4536-973e-6375bbcbf16d"
      },
      "outputs": [],
      "source": [
        "loss_fn = losses.SparseCategoricalCrossentropy()\n",
        "lstm.compile(\"adam\", loss_fn)"
      ]
    },
    {
      "cell_type": "code",
      "execution_count": 19,
      "id": "3ddcff5f-829d-4449-99d2-9a3cb68f7d72",
      "metadata": {
        "id": "3ddcff5f-829d-4449-99d2-9a3cb68f7d72"
      },
      "outputs": [],
      "source": [
        "# TextGenerator 체크포인트 만들기\n",
        "class TextGenerator(callbacks.Callback):\n",
        "    def __init__(self, index_to_word, top_k=10):\n",
        "        self.index_to_word = index_to_word\n",
        "        self.word_to_index = {\n",
        "            word: index for index, word in enumerate(index_to_word)\n",
        "        }\n",
        "\n",
        "    def sample_from(self, probs, temperature):\n",
        "        probs = probs ** (1 / temperature)\n",
        "        probs = probs / np.sum(probs)\n",
        "        return np.random.choice(len(probs), p=probs), probs\n",
        "\n",
        "    def generate(self, start_prompt, max_tokens, temperature):\n",
        "        start_tokens = [\n",
        "            self.word_to_index.get(x, 1) for x in start_prompt.split()\n",
        "        ]\n",
        "        sample_token = None\n",
        "        info = []\n",
        "        while len(start_tokens) < max_tokens and sample_token != 0:\n",
        "            x = np.array([start_tokens])\n",
        "            y = self.model.predict(x, verbose=0)\n",
        "            sample_token, probs = self.sample_from(y[0][-1], temperature)\n",
        "            info.append({\"prompt\": start_prompt, \"word_probs\": probs})\n",
        "            start_tokens.append(sample_token)\n",
        "            start_prompt = start_prompt + \" \" + self.index_to_word[sample_token]\n",
        "        print(f\"\\n생성된 텍스트:\\n{start_prompt}\\n\")\n",
        "        return info\n",
        "\n",
        "    def on_epoch_end(self, epoch, logs=None):\n",
        "        self.generate(\"recipe for\", max_tokens=100, temperature=1.0)"
      ]
    },
    {
      "cell_type": "code",
      "execution_count": 20,
      "id": "349865fe-ffbe-450e-97be-043ae1740e78",
      "metadata": {
        "id": "349865fe-ffbe-450e-97be-043ae1740e78"
      },
      "outputs": [],
      "source": [
        "# 모델 저장 체크포인트 만들기\n",
        "model_checkpoint_callback = callbacks.ModelCheckpoint(\n",
        "    filepath=\"./checkpoint/checkpoint.ckpt\",\n",
        "    save_weights_only=True,\n",
        "    save_freq=\"epoch\",\n",
        "    verbose=0,\n",
        ")\n",
        "\n",
        "tensorboard_callback = callbacks.TensorBoard(log_dir=\"./logs\")\n",
        "\n",
        "# 시작 프롬프트 토큰화\n",
        "text_generator = TextGenerator(vocab)"
      ]
    },
    {
      "cell_type": "code",
      "execution_count": 21,
      "id": "461c2b3e-b5ae-4def-8bd9-e7bab8c63d8e",
      "metadata": {
        "tags": [],
        "id": "461c2b3e-b5ae-4def-8bd9-e7bab8c63d8e",
        "outputId": "81dffca0-de49-49b4-a7d4-5ba690a3f1ed",
        "colab": {
          "base_uri": "https://localhost:8080/"
        }
      },
      "outputs": [
        {
          "output_type": "stream",
          "name": "stdout",
          "text": [
            "Epoch 1/25\n",
            "628/629 [============================>.] - ETA: 0s - loss: 4.4361\n",
            "생성된 텍스트:\n",
            "recipe for cupful cauliflower in chops | s saucepan and bring noodles in medium salted - inch bowl . 400°f and blend in 2 red skillet , uncovered and transfer 1 hour \n",
            "\n",
            "629/629 [==============================] - 62s 87ms/step - loss: 4.4350\n",
            "Epoch 2/25\n",
            "628/629 [============================>.] - ETA: 0s - loss: 3.0593\n",
            "생성된 텍스트:\n",
            "recipe for warm - coffee spareribs | garlic ; mash in large skillet . combine parsley , wine , salt and oil ; working in pan with boiling water . cook on 2 mixing . spice fish with salt the mimosas sauce . cook onion , , turning , until golden with meat , golden , about 1 minute . do ahead before stir to room temperature and reserve . cool . spoon cream with serve , , d at least 3 anna once , about 15 seconds . cool in rack . sprinkle slice with 1 well . repeat\n",
            "\n",
            "629/629 [==============================] - 32s 51ms/step - loss: 3.0584\n",
            "Epoch 3/25\n",
            "629/629 [==============================] - ETA: 0s - loss: 2.4960\n",
            "생성된 텍스트:\n",
            "recipe for chocolate - thumb frosting | preheat oven to low . butter cake on slotted lightly in half of boiling salted oil . heat pan , bring the broth to boil . pour into batches about 3 cups , or until thermometer inserted into center and batter holds form color ) , about 2 minutes . transfer to room temperature . cool praline , immediately \n",
            "\n",
            "629/629 [==============================] - 29s 46ms/step - loss: 2.4960\n",
            "Epoch 4/25\n",
            "629/629 [==============================] - ETA: 0s - loss: 2.2496\n",
            "생성된 텍스트:\n",
            "recipe for pine marinated grilled steak , red tomato , and red bell pepper | bring water to a spoon , and add 21 minute more peel . discard greens . sprinkle making parchment . broil until they are cooking . fold out more in oil , returning to 1 tablespoon of grill chocolate . let second beans with lightly paper should be kitchen below ) . cool chilled . 2 hours slices with enough with machine cups onto paper to make circles . spread beets in a fork or rimmed baking sheet . sprinkle yeast with egg mixture and\n",
            "\n",
            "629/629 [==============================] - 31s 50ms/step - loss: 2.2496\n",
            "Epoch 5/25\n",
            "628/629 [============================>.] - ETA: 0s - loss: 2.1028\n",
            "생성된 텍스트:\n",
            "recipe for peperoncini and sage soup in tarragon - marrow | combine 1 / 2 cup chopped garlic , fennel parts of butter evenly of cilantro seeds ; reserve . in a potato bowl toss the endive with miso . transfer a large bowl with a spoonful of marinade and pat dry . stir eggs , diagonally , on cob . season with salt and pepper . mix 1 at 1 / 2 cupfuls into small bowl , scraping up all liquid sides . drain tofu in roasting pan and let fire cool . 3 squares with matcha injector and\n",
            "\n",
            "629/629 [==============================] - 31s 49ms/step - loss: 2.1029\n",
            "Epoch 6/25\n",
            "628/629 [============================>.] - ETA: 0s - loss: 2.0034\n",
            "생성된 텍스트:\n",
            "recipe for herbed ceviche banana pie | place the chicken and toast once until brown on the thigh , 15 to 15 minutes or until top is tender and depending on the skewer . marinate the shank shells and up the cupcake through the meat back into the rest to loosen bottle . 1 . brush the onion with oil and season with salt . season with salt , and pepper and fish mixture after . place the grill , and bring to a boil . pour the shortening in pieces , squeeze syrup into blender . cool slightly ,\n",
            "\n",
            "629/629 [==============================] - 32s 51ms/step - loss: 2.0033\n",
            "Epoch 7/25\n",
            "629/629 [==============================] - ETA: 0s - loss: 1.9296\n",
            "생성된 텍스트:\n",
            "recipe for ribs ceviche | in medium saucepan simmer 1 minute total . add gelatin mixture in medium bowl until bowl are soft peaks turn . pour mixture into each oiled single layer skillet . bake over low heat until thermometer registers 175°f , about 4 minutes , or until surface are slightly golden brown and sugar are pale golden , about 45 minutes for 10 minutes . cool for racks to 475°f . heat oil in heavy large skillet over medium heat . add vegetables , sugar , and lemon juice and cook thickly over moderate heat , stirring\n",
            "\n",
            "629/629 [==============================] - 32s 51ms/step - loss: 1.9296\n",
            "Epoch 8/25\n",
            "629/629 [==============================] - ETA: 0s - loss: 1.8724\n",
            "생성된 텍스트:\n",
            "recipe for mushroom and garlic snap peas | cook garlic in small heavy saucepan to coat . add garlic and 6 / 4 teaspoon salt mix with juice - purpose flour . reduce heat , spoon 1 1 / 2 cups broth , 1 / 4 tablespoons water , and 1 / 2 cup water for medium and stir to saucepan simmer until reduced through , about 5 minutes . season with salt and pepper . add fritters and toss to coat . spread chickens slices and toss with nuts and serve . \n",
            "\n",
            "629/629 [==============================] - 31s 50ms/step - loss: 1.8724\n",
            "Epoch 9/25\n",
            "629/629 [==============================] - ETA: 0s - loss: 1.8269\n",
            "생성된 텍스트:\n",
            "recipe for fish salad | whisk all 2 tablespoons oil in center of medium measuring cup . add bell pepper and sauté until tomato is tender and leeks are about 35 minutes , stirring sprouts . season salmon with salt and pepper . sprinkle with cumin and basil . sprinkle half of potatoes with cheese and crispy potatoes with cheese , chives , and grated shallots to coat . arrange corn by half of rounded 1 / 2 half of garlic on all sides ; sprinkle into filling mixture . sprinkle tops with remaining onions and chopped tabbouleh and ending\n",
            "\n",
            "629/629 [==============================] - 31s 49ms/step - loss: 1.8269\n",
            "Epoch 10/25\n",
            "628/629 [============================>.] - ETA: 0s - loss: 1.7892\n",
            "생성된 텍스트:\n",
            "recipe for spiced rice sauce | cook onion in 3 / 4 - cup kosher salt and sugar in a 5 - cast - quart saucepan over moderate heat , stirring occasionally , until pale golden brown and a wooden tender , 2 to 7 minutes . add radishes and sugar and simmer , stirring occasionally , until no often , then have fish right or sterno with a wooden spoon , brushing with additional oil , tucking under skin to keep skin intact and remove onions from vegetables . pour in vegetable oil , capers , flour , oregano\n",
            "\n",
            "629/629 [==============================] - 32s 51ms/step - loss: 1.7891\n",
            "Epoch 11/25\n",
            "629/629 [==============================] - ETA: 0s - loss: 1.7570\n",
            "생성된 텍스트:\n",
            "recipe for chicken turkey with thermoses sauce | preheat wonton ice to 350° . sprinkle coriander , and pomegranate seeds in a rimmed baking sheet . scrape mustard seeds over baking dish . lightly divide off from the same coating , returning oil , one third of pumpkin , and tails and pat dry . sprinkle remaining 1 / 4 - of parsley mayonnaise . arrange half of crabmeat in center of each straight slices horizontally . place first around potatoes , parsnips and carrots in flat roasting pan . grill chicken in skillet . broil scallops in middle of\n",
            "\n",
            "629/629 [==============================] - 32s 51ms/step - loss: 1.7570\n",
            "Epoch 12/25\n",
            "629/629 [==============================] - ETA: 0s - loss: 1.7289\n",
            "생성된 텍스트:\n",
            "recipe for caramelized - almond chocolate spiedini with walnut crust | position rack in bottom third of , rack in center of oven and preheat to 350°f . line baking sheet with parchment paper . crumble vanilla seeds into small bowl to blend . let stand until dough comes together ; carefully press into 1 / 4 - inch - thick - moon cookie cutter . turn bread out onto racks . repeat with fingertips until slightly firm and half are soft and soft , 3 - firm to trim , about 10 minutes . cool small or equal cups\n",
            "\n",
            "629/629 [==============================] - 31s 50ms/step - loss: 1.7289\n",
            "Epoch 13/25\n",
            "628/629 [============================>.] - ETA: 0s - loss: 1.7041\n",
            "생성된 텍스트:\n",
            "recipe for berry chips | whisk first 9 ingredients in small saucepan over low heat until pale yellow , about 2 minutes . using a sharp knife cut up / 4 cup directly into front of onions ; brush with 1 / 4 cup half . using vegetable peeler , scrape grapefruits from side . fold green sides down in heavy small bowl set over to measure smooth . add remaining 3 tablespoons sugar to 1 bowl . mix egg yolks in large bowl until completely smooth . add egg yolks , peach mixture with bonito ice cream . whisk\n",
            "\n",
            "629/629 [==============================] - 32s 51ms/step - loss: 1.7045\n",
            "Epoch 14/25\n",
            "629/629 [==============================] - ETA: 0s - loss: 1.6829\n",
            "생성된 텍스트:\n",
            "recipe for blueberries blazer | preheat the oven to 350°f . place asparagus on large baking sheets and dust with flour . place in the oven , turning with a 12 - inch sides of boiling salted water , shaking the pan to medium–high . drain off the paper and set aside . in the dish spread the sesame seeds over the onion , brown on an oiled bowl in an even layer or large colander when the sides under as it is simmering , squeeze the juices from the onion inside and squeeze the side of the chickens .\n",
            "\n",
            "629/629 [==============================] - 31s 50ms/step - loss: 1.6829\n",
            "Epoch 15/25\n",
            "628/629 [============================>.] - ETA: 0s - loss: 1.6634\n",
            "생성된 텍스트:\n",
            "recipe for curly fettuccine with pear salad | combine first 6 ingredients in large bowl to coat . transfer to small bowl . whisk sour cream , lemon juice , butter and 2 tablespoons semisweet water in large bowl and blend until mostly falls power , standing packed but 3 to 3 / 2 hours . strain into bowl . stir in bread crumbs . cover and serve * curry is available at some supermarkets . \n",
            "\n",
            "629/629 [==============================] - 31s 49ms/step - loss: 1.6635\n",
            "Epoch 16/25\n",
            "629/629 [==============================] - ETA: 0s - loss: 1.6458\n",
            "생성된 텍스트:\n",
            "recipe for roasted chicken and endive slaw | preheat broiler . heat skillet over medium heat , preferably powder , then add oil over moderately high heat until they can be crisp in hot water by 2 hours . stir together water , brown sugar and 2 tablespoons shallot oil until slightly thickened . transfer to a bowl . stir together cabbage with angostura lemon juice , curry powder , and cheese . turn rolls on both sides of batter to coat with remaining dressing over top with remaining seasoned butter and sprinkle with bread crumbs . roast pizzette ,\n",
            "\n",
            "629/629 [==============================] - 31s 49ms/step - loss: 1.6458\n",
            "Epoch 17/25\n",
            "628/629 [============================>.] - ETA: 0s - loss: 1.6300\n",
            "생성된 텍스트:\n",
            "recipe for mediterranean salmon tacos | mix the coriander . set aside . in a 2 - quart kettle combine the sweet potato stalks , turnips , cabbages , and steam carrots , covered and cook at a bare simmer for 45 minutes . drain , drain water and water in an even miso - boiled to cool . store in the refrigerator for 45 minutes to mellow . 3 . 2 . place a cheesecloth and 1 / 4 cup paper to serve on a rack set in middle of oven . ( stock will if ham temperature faster\n",
            "\n",
            "629/629 [==============================] - 32s 51ms/step - loss: 1.6298\n",
            "Epoch 18/25\n",
            "628/629 [============================>.] - ETA: 0s - loss: 1.6146\n",
            "생성된 텍스트:\n",
            "recipe for pizza beef , rice , and chives | with a sharp thin knife peel the joint , dropping the carcass , onion , or garlic with your hands again , inside the pot , then add to the potatoes . in a small saucepan combine all the ingredients , salt , and simmer the ingredients for 2 inches from the heat until the grains are browned and the rice is very tender , at least 8 hours , or in the . ( the hotter the turnips will liquefy , below a vigorous simmer and squeeze to the\n",
            "\n",
            "629/629 [==============================] - 32s 51ms/step - loss: 1.6148\n",
            "Epoch 19/25\n",
            "628/629 [============================>.] - ETA: 0s - loss: 1.6015\n",
            "생성된 텍스트:\n",
            "recipe for slow - infused aperol | mix gin , pineapple , lemon zest , and white ground white wine in a large pitcher and immediately transfer to a punch bowl . combine mango , tahini , vodka , and lemon juice in a blender , then strain shards into ice . serve with ice cream . \n",
            "\n",
            "629/629 [==============================] - 29s 46ms/step - loss: 1.6014\n",
            "Epoch 20/25\n",
            "629/629 [==============================] - ETA: 0s - loss: 1.5885\n",
            "생성된 텍스트:\n",
            "recipe for chilean country pizza crust | put the majority of the cranberries in the saucepan of boiling water . bring the jelly - ingredient water to boil the custard , bring to a boil over medium - high heat and simmer until the beans are tender , 20 to 20 minutes to serve them on the . for 10 minutes before serving : serve the sprinkled with the walnuts . \n",
            "\n",
            "629/629 [==============================] - 29s 47ms/step - loss: 1.5885\n",
            "Epoch 21/25\n",
            "629/629 [==============================] - ETA: 0s - loss: 1.5765\n",
            "생성된 텍스트:\n",
            "recipe for daniel boulud ' s taco salad à la [UNK] | using skewer , make a cut the chicken from breasts and butternut artichokes to expose large joints of joint . tie with meat mallet , being careful not to help to expose butcher to break up on medium , and work all sides , transferring it to a bowl . using a flat ; 2 short side of pepper , in a blender pur e soup with 1 / 3 cup cold water in bowl , covered , until glaze is just wilted , stirring occasionally , about 1\n",
            "\n",
            "629/629 [==============================] - 32s 51ms/step - loss: 1.5765\n",
            "Epoch 22/25\n",
            "629/629 [==============================] - ETA: 0s - loss: 1.5655\n",
            "생성된 텍스트:\n",
            "recipe for goat cheese truffles | place 1 . in a medium saucepan , scrape the seeds from the brown sugar , and add the potato köfte . reduce the heat , cover , cover the pot , and continue covered and quickly , until the bananas are evenly comes together , about 35 minutes . they ' re cool on the pan , and the stilton topping out . wipe the cheesecloth or zip paper under the cutlets , and let it cool for 4 minutes , or until it is warm , cutting through the . ) heat\n",
            "\n",
            "629/629 [==============================] - 31s 49ms/step - loss: 1.5655\n",
            "Epoch 23/25\n",
            "628/629 [============================>.] - ETA: 0s - loss: 1.5553\n",
            "생성된 텍스트:\n",
            "recipe for minted berry brownies | using electric mixer , beat cream cheese and oil just in medium bowl until smooth . spoon some dough into quarters ; roll into thirds to 7 - inch - diameter log to 1 / 4 - inch thickness . run knife into filling by 1 inch . fold overhang under . cake pan will register collapse and move slightly , basting every 18 to 10 minutes , about 28 minutes . transfer cookies to 8x8x2 - inch glass baking dish . divide syrup among 10 - mold . ( can be made 1\n",
            "\n",
            "629/629 [==============================] - 31s 50ms/step - loss: 1.5550\n",
            "Epoch 24/25\n",
            "629/629 [==============================] - ETA: 0s - loss: 1.5453\n",
            "생성된 텍스트:\n",
            "recipe for braised chicken in port sauce | in a bowl whisk together eggs , soy sauce , sugar , sesame oil , and remaining 1 / 4 cup water , stir tomatoes , spices , and remaining 1 / 4 teaspoon salt . in a vegetable oil large enough to hold steaks in several batches over moderate heat until just coated . cook scallops , turning once , until golden golden , about 5 minutes per batch , and drain in a colander . preheat oven to 400°f . sprinkle short ribs with salt and pepper . prepare grill\n",
            "\n",
            "629/629 [==============================] - 31s 49ms/step - loss: 1.5453\n",
            "Epoch 25/25\n",
            "628/629 [============================>.] - ETA: 0s - loss: 1.5363\n",
            "생성된 텍스트:\n",
            "recipe for grilled chicken salad with peanut mayonnaise | mix ground caraway , cumin , olives , garlic , jalapeño cloves , mint , and cumin in heavy large pot . using electric mixer , 1 / 4 cup puree , half , lemon peel , salt and cayenne pepper in another large bowl until blended . add panko , pitted , goat cheese , olive paste and sea salt . transfer butter mixture to large bowl ; sprinkle with salt and pepper . press down with back of fork . set aside . in small bowl , mix together\n",
            "\n",
            "629/629 [==============================] - 32s 50ms/step - loss: 1.5361\n"
          ]
        },
        {
          "output_type": "execute_result",
          "data": {
            "text/plain": [
              "<keras.src.callbacks.History at 0x7e80ab89f280>"
            ]
          },
          "metadata": {},
          "execution_count": 21
        }
      ],
      "source": [
        "lstm.fit(\n",
        "    train_ds,\n",
        "    epochs=EPOCHS,\n",
        "    callbacks=[model_checkpoint_callback, tensorboard_callback, text_generator],\n",
        ")"
      ]
    },
    {
      "cell_type": "code",
      "execution_count": 22,
      "id": "369bde44-2e39-4bc6-8549-a3a27ecce55c",
      "metadata": {
        "tags": [],
        "id": "369bde44-2e39-4bc6-8549-a3a27ecce55c"
      },
      "outputs": [],
      "source": [
        "# 최종 모델 저장\n",
        "lstm.save(\"./models/lstm\")"
      ]
    },
    {
      "cell_type": "markdown",
      "id": "d64e02d2-84dc-40c8-8446-40c09adf1e20",
      "metadata": {
        "id": "d64e02d2-84dc-40c8-8446-40c09adf1e20"
      },
      "source": [
        "## 6. LSTM을 사용해 텍스트 생성하기"
      ]
    },
    {
      "cell_type": "code",
      "execution_count": 23,
      "id": "4ad23adb-3ec9-4e9a-9a59-b9f9bafca649",
      "metadata": {
        "id": "4ad23adb-3ec9-4e9a-9a59-b9f9bafca649"
      },
      "outputs": [],
      "source": [
        "def print_probs(info, vocab, top_k=5):\n",
        "    for i in info:\n",
        "        print(f\"\\n프롬프트: {i['prompt']}\")\n",
        "        word_probs = i[\"word_probs\"]\n",
        "        p_sorted = np.sort(word_probs)[::-1][:top_k]\n",
        "        i_sorted = np.argsort(word_probs)[::-1][:top_k]\n",
        "        for p, i in zip(p_sorted, i_sorted):\n",
        "            print(f\"{vocab[i]}:   \\t{np.round(100*p,2)}%\")\n",
        "        print(\"--------\\n\")"
      ]
    },
    {
      "cell_type": "code",
      "execution_count": 24,
      "id": "3cf25578-d47c-4b26-8252-fcdf2316a4ac",
      "metadata": {
        "id": "3cf25578-d47c-4b26-8252-fcdf2316a4ac",
        "outputId": "28c1cbbc-5471-4232-ea2a-5c9374e2a307",
        "colab": {
          "base_uri": "https://localhost:8080/"
        }
      },
      "outputs": [
        {
          "output_type": "stream",
          "name": "stdout",
          "text": [
            "\n",
            "생성된 텍스트:\n",
            "recipe for roasted vegetables | chop 1 / 3 cup\n",
            "\n"
          ]
        }
      ],
      "source": [
        "info = text_generator.generate(\n",
        "    \"recipe for roasted vegetables | chop 1 /\", max_tokens=10, temperature=1.0\n",
        ")"
      ]
    },
    {
      "cell_type": "code",
      "execution_count": 25,
      "id": "9df72866-b483-4489-8e26-d5e1466410fa",
      "metadata": {
        "tags": [],
        "id": "9df72866-b483-4489-8e26-d5e1466410fa",
        "outputId": "8a0415a5-68b5-428f-a688-ab2759e965bc",
        "colab": {
          "base_uri": "https://localhost:8080/"
        }
      },
      "outputs": [
        {
          "output_type": "stream",
          "name": "stdout",
          "text": [
            "\n",
            "프롬프트: recipe for roasted vegetables | chop 1 /\n",
            "2:   \t61.14%\n",
            "4:   \t32.63%\n",
            "3:   \t3.68%\n",
            "8:   \t1.02%\n",
            "2–2:   \t0.55%\n",
            "--------\n",
            "\n",
            "\n",
            "프롬프트: recipe for roasted vegetables | chop 1 / 3\n",
            "cup:   \t62.56%\n",
            "of:   \t21.99%\n",
            "-:   \t2.73%\n",
            "inch:   \t2.61%\n",
            "pound:   \t1.07%\n",
            "--------\n",
            "\n"
          ]
        }
      ],
      "source": [
        "print_probs(info, vocab)"
      ]
    },
    {
      "cell_type": "code",
      "execution_count": 26,
      "id": "562e1fe8-cbcb-438f-9637-2f2a6279c924",
      "metadata": {
        "id": "562e1fe8-cbcb-438f-9637-2f2a6279c924",
        "outputId": "4783e647-fd2d-4b98-e08b-69fc67614fbe",
        "colab": {
          "base_uri": "https://localhost:8080/"
        }
      },
      "outputs": [
        {
          "output_type": "stream",
          "name": "stdout",
          "text": [
            "\n",
            "생성된 텍스트:\n",
            "recipe for roasted vegetables | chop 1 / 2 cup\n",
            "\n"
          ]
        }
      ],
      "source": [
        "info = text_generator.generate(\n",
        "    \"recipe for roasted vegetables | chop 1 /\", max_tokens=10, temperature=0.2\n",
        ")"
      ]
    },
    {
      "cell_type": "code",
      "execution_count": 27,
      "id": "56356f21-04ac-40e5-94ff-291eca6a7054",
      "metadata": {
        "id": "56356f21-04ac-40e5-94ff-291eca6a7054",
        "outputId": "954b73fd-fdd8-4638-a5a7-c34632c1b862",
        "colab": {
          "base_uri": "https://localhost:8080/"
        }
      },
      "outputs": [
        {
          "output_type": "stream",
          "name": "stdout",
          "text": [
            "\n",
            "프롬프트: recipe for roasted vegetables | chop 1 /\n",
            "2:   \t95.85%\n",
            "4:   \t4.15%\n",
            "3:   \t0.0%\n",
            "8:   \t0.0%\n",
            "2–2:   \t0.0%\n",
            "--------\n",
            "\n",
            "\n",
            "프롬프트: recipe for roasted vegetables | chop 1 / 2\n",
            "cup:   \t99.99%\n",
            "inch:   \t0.01%\n",
            "of:   \t0.0%\n",
            "-:   \t0.0%\n",
            "teaspoon:   \t0.0%\n",
            "--------\n",
            "\n"
          ]
        }
      ],
      "source": [
        "print_probs(info, vocab)"
      ]
    },
    {
      "cell_type": "code",
      "execution_count": 28,
      "id": "2e434497-07f3-4989-a68d-3e31cf8fa4fe",
      "metadata": {
        "id": "2e434497-07f3-4989-a68d-3e31cf8fa4fe",
        "outputId": "3e1f86df-a565-493f-dba2-26d58b29cd7d",
        "colab": {
          "base_uri": "https://localhost:8080/"
        }
      },
      "outputs": [
        {
          "output_type": "stream",
          "name": "stdout",
          "text": [
            "\n",
            "생성된 텍스트:\n",
            "recipe for chocolate ice cream | 1\n",
            "\n",
            "\n",
            "프롬프트: recipe for chocolate ice cream |\n",
            "in:   \t26.56%\n",
            "combine:   \t18.78%\n",
            "bring:   \t13.73%\n",
            "heat:   \t3.93%\n",
            "whisk:   \t3.26%\n",
            "--------\n",
            "\n"
          ]
        }
      ],
      "source": [
        "info = text_generator.generate(\n",
        "    \"recipe for chocolate ice cream |\", max_tokens=7, temperature=1.0\n",
        ")\n",
        "print_probs(info, vocab)"
      ]
    },
    {
      "cell_type": "code",
      "execution_count": 29,
      "id": "011cd0e0-956c-4a63-8ec3-f7dfed31764e",
      "metadata": {
        "id": "011cd0e0-956c-4a63-8ec3-f7dfed31764e",
        "outputId": "b71709e0-618d-4489-fd8d-0fa0deeff3f2",
        "colab": {
          "base_uri": "https://localhost:8080/"
        }
      },
      "outputs": [
        {
          "output_type": "stream",
          "name": "stdout",
          "text": [
            "\n",
            "생성된 텍스트:\n",
            "recipe for chocolate ice cream | in\n",
            "\n",
            "\n",
            "프롬프트: recipe for chocolate ice cream |\n",
            "in:   \t82.38%\n",
            "combine:   \t14.57%\n",
            "bring:   \t3.04%\n",
            "heat:   \t0.01%\n",
            "whisk:   \t0.0%\n",
            "--------\n",
            "\n"
          ]
        }
      ],
      "source": [
        "info = text_generator.generate(\n",
        "    \"recipe for chocolate ice cream |\", max_tokens=7, temperature=0.2\n",
        ")\n",
        "print_probs(info, vocab)"
      ]
    }
  ],
  "metadata": {
    "kernelspec": {
      "display_name": "Python 3 (ipykernel)",
      "language": "python",
      "name": "python3"
    },
    "language_info": {
      "codemirror_mode": {
        "name": "ipython",
        "version": 3
      },
      "file_extension": ".py",
      "mimetype": "text/x-python",
      "name": "python",
      "nbconvert_exporter": "python",
      "pygments_lexer": "ipython3",
      "version": "3.8.2"
    },
    "colab": {
      "provenance": [],
      "gpuType": "T4"
    },
    "accelerator": "GPU",
    "gpuClass": "standard"
  },
  "nbformat": 4,
  "nbformat_minor": 5
}